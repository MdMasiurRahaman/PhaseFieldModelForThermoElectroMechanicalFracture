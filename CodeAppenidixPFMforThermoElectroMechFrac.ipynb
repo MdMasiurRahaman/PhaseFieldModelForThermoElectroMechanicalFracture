{
 "cells": [
  {
   "cell_type": "code",
   "execution_count": null,
   "id": "6740a4cf",
   "metadata": {},
   "outputs": [],
   "source": [
    "using Gmsh: gmsh\n",
    "using GridapGmsh\n",
    "using Gridap\n",
    "using Gridap.Geometry\n",
    "using Gridap.TensorValues\n",
    "using Plots\n",
    "using SymPy"
   ]
  },
  {
   "cell_type": "code",
   "execution_count": null,
   "id": "38f5a12c",
   "metadata": {},
   "outputs": [],
   "source": [
    "const T0 = 300\n",
    "const TAppMax = T0 + 50\n",
    "\n",
    "const phiMaxApp = 1000.0\n",
    "const phiMin = 0.0\n",
    "\n",
    "const delt = 1e-2\n",
    "const tMax = 1\n",
    "const uMax = 2.5e-6\n",
    "const AppVel  = uMax/tMax\n",
    "const uMin = 0\n",
    "\n",
    "uTran_Temp = 0.2*uMax\n",
    "uTran2_EP = 0.05*uMax"
   ]
  },
  {
   "cell_type": "code",
   "execution_count": null,
   "id": "3bcf8056",
   "metadata": {
    "scrolled": true
   },
   "outputs": [],
   "source": [
    "using SymPy\n",
    "x ,x1 = symbols( \"x ,x1 \" , real = true )\n",
    "heaviside(x) = 0.5 * (sign(x) + 1)\n",
    "interval(x , a , b ) = heaviside(x - a ) - heaviside(x - b )\n",
    "hS = uMax /10\n",
    "F_Temp( x ) = ( T0 - TAppMax ) * interval(x , -4* hS + uMin , uTran_Temp )\n",
    "wh(x ,x1 ) = (1/( sqrt(2* pi ) * hS ) ) * exp( -(x -x1 ) ^2/(2* hS ^2) )\n",
    "smoothT = SymPy.integrate( F_Temp(x1 ) *wh(x ,x1 ) ,(x1 , -4* hS , uMax ) ) + TAppMax\n",
    "plot(smoothT,0,uMax)"
   ]
  },
  {
   "cell_type": "code",
   "execution_count": null,
   "id": "c28d320c",
   "metadata": {
    "scrolled": true
   },
   "outputs": [],
   "source": [
    "using SymPy\n",
    "x ,x1 = symbols( \"x ,x1 \" , real = true )\n",
    "heaviside( x ) = 0.5 * ( sign( x ) + 1)\n",
    "interval(x , a , b ) = heaviside(x - a ) - heaviside(x - b )\n",
    "hS_pf = uMax /100\n",
    "F_φ( x ) = ( phiMin - phiMaxApp ) * interval(x , -4* hS_pf + uMin , uTran2_EP )\n",
    "wh(x ,x1 ) = (1/( sqrt(2* pi ) * hS_pf ) ) * exp( -(x -x1 ) ^2/(2* hS_pf ^2) )\n",
    "smoothφ = SymPy.integrate( F_φ(x1)*wh(x, x1), (x1 , -4* hS_pf , uMax ) ) + phiMaxApp\n",
    "plot( smoothφ ,0 , uMax )"
   ]
  },
  {
   "cell_type": "code",
   "execution_count": null,
   "id": "4f3fd5e4",
   "metadata": {},
   "outputs": [],
   "source": [
    "function Tfun( u )\n",
    "    if u <= uTran_Temp\n",
    "        return (( TAppMax - T0 ) / uTran_Temp ) * u + T0\n",
    "    else\n",
    "        return TAppMax\n",
    "    end\n",
    "end\n",
    "plot( Tfun ,0 , uMax )"
   ]
  },
  {
   "cell_type": "code",
   "execution_count": null,
   "id": "b202ca67",
   "metadata": {
    "scrolled": true
   },
   "outputs": [],
   "source": [
    "function φ_fun(φ)\n",
    "    if φ <= uTran2_EP\n",
    "        return ((phiMaxApp - phiMin ) / uTran2_EP ) *φ + phiMin\n",
    "    else\n",
    "        return phiMaxApp\n",
    "    end\n",
    "end\n",
    "plot(φ_fun ,0 , uMax )"
   ]
  },
  {
   "cell_type": "code",
   "execution_count": null,
   "id": "48554d04",
   "metadata": {
    "scrolled": true
   },
   "outputs": [],
   "source": [
    "uAppVec = range(0 , uMax , length = Int64(floor( tMax / delt ) ) )\n",
    "AppTOption = 1 ## 1 for smooth and otherwise linear than constant\n",
    "if AppTOption == 1\n",
    "    TAppVec = smoothT.(uAppVec)\n",
    "else\n",
    "    TAppVec = Tfun.( uAppVec )\n",
    "end\n",
    "AppφOption = 2 ## 1 for smooth and otherwise linear than constant\n",
    "if AppφOption == 1\n",
    "    φAppVec = smoothφ.(uAppVec)\n",
    "else\n",
    "    φAppVec = φ_fun.(uAppVec)\n",
    "end"
   ]
  },
  {
   "cell_type": "code",
   "execution_count": null,
   "id": "20bc44ec",
   "metadata": {},
   "outputs": [],
   "source": [
    "I2 = SymTensorValue{2 , Float64 }(1.0 ,0.0 ,1.0)\n",
    "I4 = I2⊗I2\n",
    "I4_sym = one(SymFourthOrderTensorValue{2,Float64})\n",
    "I4_vol = (1.0/3) * I4\n",
    "I4_dev = I4_sym - I4_vol"
   ]
  },
  {
   "cell_type": "code",
   "execution_count": null,
   "id": "fbd98522",
   "metadata": {},
   "outputs": [],
   "source": [
    "const c = 421.4\n",
    "const ρ = 5700.0\n",
    "const Gc = 200\n",
    "const η = 1e-8\n",
    "const C₁₁_mat = 166e9\n",
    "const C₁₂_mat = 78e9\n",
    "const C₂₂_mat = 162e9\n",
    "const C₆₆_mat = 43e9\n",
    "const e₂₁_mat = -4.4\n",
    "const e₂₂_mat = 18.6\n",
    "const e₁₆_mat = 11.6\n",
    "const K₁₁_mat = 11.2e-9\n",
    "const K₂₂_mat = 12.6e-9\n",
    "const α₁₁_mat = 15.7e-6\n",
    "const α₂₂_mat = 6.4e-6\n",
    "κ_mat = 3.2"
   ]
  },
  {
   "cell_type": "code",
   "execution_count": null,
   "id": "68cd6133",
   "metadata": {},
   "outputs": [],
   "source": [
    "const L = 1e-3\n",
    "const H = 1e-3\n",
    "const lsp = L/90\n",
    "const CP = H/2\n",
    "const CL = 0.5*L \n",
    "const CH = H/2000\n",
    "const hfc = lsp/5\n",
    "const hf = lsp/4\n",
    "const h = 20*hf \n",
    "const FMR = 6*lsp\n",
    " \n",
    "gmsh.initialize()\n",
    "gmsh.option.setNumber(\"General.Terminal\", 1)\n",
    "gmsh.model.geo.addPoint(0.0, 0.0, 0.0, h, 1)  \n",
    "gmsh.model.geo.addPoint(L, 0.0, 0.0, h, 2) \n",
    "gmsh.model.geo.addPoint(L, H, 0.0, h, 3) \n",
    "gmsh.model.geo.addPoint(0.0, H, 0.0, h, 4)\n",
    "gmsh.model.geo.addPoint(0.0, CP + CH, 0.0, h, 5)\n",
    "gmsh.model.geo.addPoint(CL, CP + CH, 0.0, hfc, 6)\n",
    "gmsh.model.geo.addPoint(CL, CP - CH, 0.0, hfc, 7)\n",
    "gmsh.model.geo.addPoint(0.0, CP - CH, 0.0, h, 8)\n",
    "\n",
    "gmsh.model.geo.addLine(1, 2, 1)\n",
    "gmsh.model.geo.addLine(2, 3, 2)\n",
    "gmsh.model.geo.addLine(3, 4, 3)\n",
    "gmsh.model.geo.addLine(4, 5, 4)\n",
    "gmsh.model.geo.addLine(5, 6, 5)\n",
    "gmsh.model.geo.addLine(6, 7, 6)\n",
    "gmsh.model.geo.addLine(7, 8, 7)\n",
    "gmsh.model.geo.addLine(8, 1, 8)\n",
    "gmsh.model.geo.addCurveLoop([1,2,3,4,5,6,7,8],1) \n",
    "gmsh.model.geo.addPlaneSurface([1], 1)\n",
    "gmsh.model.addPhysicalGroup(2, [1],1)\n",
    "gmsh.model.addPhysicalGroup(1, [1],1)\n",
    "gmsh.model.addPhysicalGroup(1, [3],2)\n",
    "gmsh.model.setPhysicalName(2, 1, \"Domain\")\n",
    "gmsh.model.setPhysicalName(1, 1, \"BottomEdge\")\n",
    "gmsh.model.setPhysicalName(1, 2, \"TopEdge\")\n",
    "\n",
    "\n",
    "gmsh.model.mesh.field.add(\"Box\", 11)\n",
    "gmsh.model.mesh.field.setNumber(11, \"VIn\", hf)\n",
    "gmsh.model.mesh.field.setNumber(11, \"VOut\", h)\n",
    "gmsh.model.mesh.field.setNumber(11, \"XMin\", 0.8*CL)\n",
    "gmsh.model.mesh.field.setNumber(11, \"XMax\", L)\n",
    "gmsh.model.mesh.field.setNumber(11, \"YMin\", CP-FMR)\n",
    "gmsh.model.mesh.field.setNumber(11, \"YMax\", CP+FMR)\n",
    "gmsh.model.mesh.field.setAsBackgroundMesh(11)\n",
    "\n",
    "gmsh.model.geo.synchronize()\n",
    "gmsh.model.mesh.generate(2)\n",
    "gmsh.write(\"SquarePlateWithEdgeNotch.msh\")\n",
    "gmsh.finalize()"
   ]
  },
  {
   "cell_type": "code",
   "execution_count": null,
   "id": "aea1f87e",
   "metadata": {},
   "outputs": [],
   "source": [
    "model = GmshDiscreteModel(\"SquarePlateWithEdgeNotch.msh\")\n",
    "writevtk(model , \"SquarePlateWithEdgeNotch\" )"
   ]
  },
  {
   "cell_type": "code",
   "execution_count": null,
   "id": "2f0df8f1",
   "metadata": {},
   "outputs": [],
   "source": [
    "using Gridap.Geometry\n",
    "labels = get_face_labeling(model)\n",
    "dimension = 2\n",
    "mat_tags = get_face_tag(labels,dimension)\n",
    "const Mat_tag = get_tag_from_name(labels,\"Domain\")"
   ]
  },
  {
   "cell_type": "code",
   "execution_count": null,
   "id": "a12ff608",
   "metadata": {},
   "outputs": [],
   "source": [
    "function ElasFourthOrderConstTensor(C11,C12,C22,C66)\n",
    "    C1111 = C11\n",
    "    C1122 = C12\n",
    "    C1112 = 0.0\n",
    "    C2222 = C22\n",
    "    C2212 = 0.0\n",
    "    C1212 = C66\n",
    "    C_ten = SymFourthOrderTensorValue(C1111,C1112,C1122,C1112,C1212,C2212,C1122,C2212,C2222)\n",
    "    return C_ten\n",
    "end\n",
    "const C_mat = ElasFourthOrderConstTensor(C₁₁_mat,C₁₂_mat,C₂₂_mat,C₆₆_mat)"
   ]
  },
  {
   "cell_type": "code",
   "execution_count": null,
   "id": "ffe9bf66",
   "metadata": {},
   "outputs": [],
   "source": [
    "function PiezoThirdOrderConstTensor(e21,e22,e16)\n",
    "    # 1 for Plane Stress and 2 Plane Strain Condition\n",
    "    e111 = 0.0\n",
    "    e112 = e16\n",
    "    e121 = e16\n",
    "    e122 = 0.0\n",
    "    e211 = e21\n",
    "    e212 = 0.0\n",
    "    e221 = 0.0\n",
    "    e222 = e22\n",
    "    vals = zeros(2 ,2 ,2);\n",
    "    vals[1 ,: ,:] .= [ e111 e112\n",
    "                       e121 e122 ]\n",
    "    vals[2 ,: ,:] .= [ e211 e212\n",
    "                       e221 e222 ]\n",
    "e_ten = ThirdOrderTensorValue(vals...)\n",
    "return e_ten\n",
    "end\n",
    "const e_mat = PiezoThirdOrderConstTensor(e₂₁_mat,e₂₂_mat,e₁₆_mat)"
   ]
  },
  {
   "cell_type": "code",
   "execution_count": null,
   "id": "ae39e38f",
   "metadata": {},
   "outputs": [],
   "source": [
    "const K_mat = TensorValue(K₁₁_mat ,0.0 ,0.0 ,K₁₁_mat )"
   ]
  },
  {
   "cell_type": "code",
   "execution_count": null,
   "id": "09adb46a",
   "metadata": {},
   "outputs": [],
   "source": [
    "const α_mat = TensorValue(α₁₁_mat ,0.0 ,0.0 , α₂₂_mat )"
   ]
  },
  {
   "cell_type": "code",
   "execution_count": null,
   "id": "26726f01",
   "metadata": {},
   "outputs": [],
   "source": [
    "σ_elas(ε) = C_mat ⊙ ε\n",
    "function σ_elasMod(ε, ε_in , s_in , T_in , T )\n",
    "    εElas_in = ε_in - α_mat *( T_in - T0 )\n",
    "    εElas = ε - α_mat *( T - T0 )\n",
    "    if tr(εElas_in) >= 0\n",
    "        σ = (s_in ^2 + η) *σ_elas(εElas )\n",
    "    else\n",
    "        σ = (s_in ^2 + η) * I4_dev ⊙ σ_elas(εElas) + I4_vol ⊙ σ_elas(εElas)\n",
    "    end\n",
    "    return σ\n",
    "end"
   ]
  },
  {
   "cell_type": "code",
   "execution_count": null,
   "id": "2b5ffbdd",
   "metadata": {},
   "outputs": [],
   "source": [
    "function σ_totMod1(ε,ε_in,s_in,T_in)\n",
    "    εElas_in = ε_in - α_mat *( T_in - T0 )\n",
    "    εElasTot1 = ε\n",
    "    if tr(εElas_in) >= 0\n",
    "        σT1 = (s_in ^2 + η) * σ_elas(εElasTot1)\n",
    "    elseif tr(εElas_in) < 0\n",
    "        σT1 = (s_in ^2 + η) * I4_dev ⊙ σ_elas(εElasTot1 ) + I4_vol ⊙ σ_elas(εElasTot1 )\n",
    "    end\n",
    "    return σT1\n",
    "end\n",
    "\n",
    "function σ_totMod2(ε_in,s_in,T,T_in)\n",
    "    εElas_in = ε_in - α_mat *( T_in - T0 )\n",
    "    εElasTot2 = - α_mat * T \n",
    "    if tr(εElas_in ) >= 0\n",
    "        σT2 = (s_in^2 + η) *σ_elas(εElasTot2)\n",
    "    elseif tr(εElas_in) < 0\n",
    "        σT2 =  (s_in ^2 + η) * I4_dev ⊙ σ_elas(εElasTot2) + I4_vol ⊙ σ_elas(εElasTot2) \n",
    "    end\n",
    "    return σT2\n",
    "end"
   ]
  },
  {
   "cell_type": "code",
   "execution_count": null,
   "id": "b8e0bccb",
   "metadata": {},
   "outputs": [],
   "source": [
    "function σ_thermMod(ε_in,s_in,T_in)\n",
    "    εElas_in = ε_in - α_mat *( T_in - T0 )\n",
    "    εElasTher = α_mat *( T0 )\n",
    "    if tr(εElas_in) >= 0\n",
    "        σF = (s_in ^2 + η) * σ_elas(εElasTher)\n",
    "    elseif tr(εElas_in) < 0\n",
    "        σF = (s_in ^2 + η) * I4_dev ⊙ σ_elas(εElasTher) + I4_vol⊙ σ_elas(εElasTher)\n",
    "    end\n",
    "    return σF\n",
    "end"
   ]
  },
  {
   "cell_type": "code",
   "execution_count": null,
   "id": "651d2815",
   "metadata": {},
   "outputs": [],
   "source": [
    "σ_piezo(∇) = ∇ ⋅ e_mat\n",
    "\n",
    "σ_piezoMod(∇, s_in) = (s_in^2 + η)*σ_piezo(∇)\n",
    "\n",
    "function D_elasMod1(ε, ∇_in , s_in )\n",
    "    return (s_in ^2 + η) * (e_mat ⋅² ε)\n",
    "end\n",
    "\n",
    "function D_elasMod2(T,s_in)\n",
    "    εElas = α_mat * T \n",
    "    return (s_in ^2 +η)*(e_mat ⋅² εElas)\n",
    "end\n",
    "\n",
    "function D_thermMod( s_in )\n",
    "    εElas = α_mat * T0 \n",
    "    return ( s_in ^2 +η) *(e_mat ⋅² εElas)\n",
    "end\n",
    "\n",
    "D_piezo(∇) = K_mat ⋅ ∇\n",
    "function D_piezoMod(∇, s_in)\n",
    "    return (s_in ^2 + η)*D_piezo(∇)\n",
    "end\n",
    "\n",
    "\n",
    "κGradTemp(∇, s_in) = (s_in ^2 + η) *κ_mat * ∇"
   ]
  },
  {
   "cell_type": "code",
   "execution_count": null,
   "id": "543ccbe7",
   "metadata": {},
   "outputs": [],
   "source": [
    "function ψPos(ε_in , T_in , ∇_in )\n",
    "    εElas_in = ε_in - α_mat *( T_in - T0 )\n",
    "    if tr(εElas_in) >= 0\n",
    "        ψPlus = 0.5*(ε_in ⊙ σ_elas(εElas_in)) + 0.5*(σ_piezo(∇_in ) ⊙ εElas_in )\n",
    "    elseif tr(εElas_in ) < 0\n",
    "        ψPlus = 0.5*(( I4_dev ⊙ σ_elas(εElas_in ) ) ⊙ ( I4_dev ⊙ ε_in ) ) +0.5*(σ_piezo(∇_in) ⊙ ( I4_dev ⊙ εElas_in ) )\n",
    "    end\n",
    "    return ψPlus\n",
    "end"
   ]
  },
  {
   "cell_type": "code",
   "execution_count": null,
   "id": "a5bbbc4f",
   "metadata": {},
   "outputs": [],
   "source": [
    "function new_EnergyState(ψPlusPrev_in ,ψhPos_in )\n",
    "    ψPlus_in = ψhPos_in\n",
    "    if ψPlus_in >= ψPlusPrev_in\n",
    "        ψPlus_out = ψPlus_in\n",
    "    else\n",
    "        ψPlus_out = ψPlusPrev_in\n",
    "    end\n",
    "    true ,ψPlus_out\n",
    "end"
   ]
  },
  {
   "cell_type": "code",
   "execution_count": null,
   "id": "9ff90680",
   "metadata": {},
   "outputs": [],
   "source": [
    "function project(q,model,dΩ,order)\n",
    "    reffe = ReferenceFE(lagrangian,Float64,order)\n",
    "    V = FESpace(model,reffe,conformity =:L2)\n",
    "    a(u,v) = ∫( u * v )*dΩ\n",
    "    l(v) = ∫( v * q )*dΩ\n",
    "    op = AffineFEOperator(a,l,V,V)\n",
    "    qh = Gridap.solve(op)\n",
    "    qh\n",
    "end"
   ]
  },
  {
   "cell_type": "code",
   "execution_count": null,
   "id": "0345ad23",
   "metadata": {},
   "outputs": [],
   "source": [
    "order = 1\n",
    "degree = 2* order\n",
    "Ω = Triangulation(model)\n",
    "dΩ = Measure(Ω,degree)"
   ]
  },
  {
   "cell_type": "code",
   "execution_count": null,
   "id": "16864a5a",
   "metadata": {},
   "outputs": [],
   "source": [
    "LoadTagId = get_tag_from_name(labels,\"TopEdge\")\n",
    "Γ_Load = BoundaryTriangulation( model,tags = LoadTagId)\n",
    "dΓ_Load = Measure(Γ_Load , degree )\n",
    "n_Γ_Load = get_normal_vector(Γ_Load)"
   ]
  },
  {
   "cell_type": "code",
   "execution_count": null,
   "id": "e209e662",
   "metadata": {},
   "outputs": [],
   "source": [
    "reffe_PF = ReferenceFE(lagrangian,Float64,order)\n",
    "V0_PF = TestFESpace(model , reffe_PF ;conformity =:H1)\n",
    "U_PF = TrialFESpace(V0_PF)\n",
    "sh = zero(V0_PF)"
   ]
  },
  {
   "cell_type": "code",
   "execution_count": null,
   "id": "681308f5",
   "metadata": {},
   "outputs": [],
   "source": [
    "reffe_Disp = ReferenceFE(lagrangian,VectorValue{2,Float64},order)\n",
    "V0_Disp = TestFESpace(model , reffe_Disp ;\n",
    "    conformity =:H1 ,\n",
    "    dirichlet_tags =[\"TopEdge\" ,\"BottomEdge\"] ,\n",
    "    dirichlet_masks =[(false,true),(true,true)])\n",
    "uh = zero( V0_Disp )\n",
    "\n",
    "reffe_ElecPot = ReferenceFE(lagrangian,Float64,order)\n",
    "V0_ElecPot = TestFESpace(model,reffe_ElecPot ;\n",
    "    conformity =:H1 ,\n",
    "    dirichlet_tags =[\"TopEdge\",\"BottomEdge\"])\n",
    "φh = zero( V0_ElecPot )\n",
    "\n",
    "reffe_Temp = ReferenceFE( lagrangian , Float64 , order )\n",
    "V0_Temp = FESpace(model, reffe_Temp ;\n",
    "    conformity =:H1 ,\n",
    "    dirichlet_tags =[\"TopEdge\",\"BottomEdge\"])\n",
    "Th = zero(V0_Temp) "
   ]
  },
  {
   "cell_type": "code",
   "execution_count": null,
   "id": "c2e96c47",
   "metadata": {
    "scrolled": true
   },
   "outputs": [],
   "source": [
    "V0 = MultiFieldFESpace([V0_Disp , V0_ElecPot , V0_Temp])"
   ]
  },
  {
   "cell_type": "code",
   "execution_count": null,
   "id": "e657ef7b",
   "metadata": {},
   "outputs": [],
   "source": [
    "function  stepPhaseField(uh_in,ψPlusPrev_in)\n",
    "        \n",
    "        a_PF(s,ϕ) = ∫( Gc*lsp*∇(ϕ)⋅ ∇(s) + 2*ψPlusPrev_in*s*ϕ  + (Gc/lsp)*s*ϕ )*dΩ\n",
    "        b_PF(ϕ) = ∫( (Gc/lsp)*ϕ )*dΩ\n",
    "        op_PF = AffineFEOperator(a_PF,b_PF,U_PF,V0_PF)\n",
    "        sh_out = Gridap.solve(op_PF)           \n",
    "    \n",
    "    return sh_out\n",
    "    \n",
    "end"
   ]
  },
  {
   "cell_type": "code",
   "execution_count": null,
   "id": "89bdec6e",
   "metadata": {},
   "outputs": [],
   "source": [
    "function stepDispElecPotTemp(uh_in,phih_in,T_in,sh_in,vApp,TApp,phiApp,delt)\n",
    "    uApp1(x) = VectorValue(0.0,vApp)\n",
    "    uApp2(x) = VectorValue(0.0,0.0)\n",
    "    U_Disp = TrialFESpace(V0_Disp ,[uApp1,uApp2])\n",
    "    phiApp1(x) = phiApp\n",
    "    phiApp2(x) = 0.0\n",
    "    U_ElecPot = TrialFESpace(V0_ElecPot ,[phiApp1,phiApp2])\n",
    "    Tapp1(x) = TApp\n",
    "    Tapp2(x) = T0\n",
    "    Tg = TrialFESpace(V0_Temp,[Tapp1,Tapp2])\n",
    "    U = MultiFieldFESpace([U_Disp,U_ElecPot,Tg])\n",
    "    a((u,φ,T),(v,ψ,w)) = ∫( (ε(v) ⊙ (σ_totMod1 ∘(ε(u),ε(uh_in),sh_in,T_in)\n",
    "                + σ_totMod2∘(ε(uh_in),sh_in,T,T_in)))\n",
    "                + (ε(v) ⊙ (σ_piezoMod∘(∇(φ),sh_in)))\n",
    "                + (∇(ψ)⋅(D_piezoMod∘(∇(φ),sh_in)))\n",
    "                - (∇(ψ)⋅(D_elasMod1∘(ε(u) ,∇(phih_in) , sh_in)))\n",
    "                + ((∇(ψ)⋅(D_elasMod2∘(T,sh_in))))\n",
    "                + ∇(w)⋅(κGradTemp∘(∇(T),sh_in))\n",
    "                + ((ρ*c*T*w) / delt))*dΩ\n",
    "    b((v,ψ,w)) = ∫(((ρ*c*T_in*w) / delt) - (ε(v)⊙(σ_thermMod∘(ε(uh_in),sh_in,T_in)))+ ∇(ψ)⋅(D_thermMod∘(sh_in)))*dΩ\n",
    "    op = AffineFEOperator(a,b,U,V0)\n",
    "    uhPhihTh = Gridap.solve(op)\n",
    "    uh_out,phih_out,Th_out = uhPhihTh\n",
    "    return uh_out,phih_out,Th_out\n",
    "end"
   ]
  },
  {
   "cell_type": "code",
   "execution_count": null,
   "id": "8638cae4",
   "metadata": {},
   "outputs": [],
   "source": [
    "stepDispElecPotTemp(uh,φh,Th,sh,0.01,320,1000,delt)"
   ]
  },
  {
   "cell_type": "code",
   "execution_count": null,
   "id": "d81d9488",
   "metadata": {},
   "outputs": [],
   "source": [
    "t = 0.0\n",
    "innerMax = 10\n",
    "count = 0\n",
    "tol = 1e-8\n",
    "Load = Float64[]\n",
    "Displacement = Float64[]\n",
    "# push !( Load , 0.0)\n",
    "# push !( Displacement , 0.0)\n",
    "ψPlusPrev = CellState(0.0 , dΩ)\n",
    "sPrev = CellState(1.0 , dΩ)\n",
    "sh = project(sPrev , model , dΩ, order )\n",
    "φPrev = CellState(0.0 , dΩ)\n",
    "φh = project(φPrev , model , dΩ, order )\n",
    "ThPrev = CellState(T0 , dΩ)\n",
    "Th = project(ThPrev , model , dΩ, order )\n",
    "while t.< tMax\n",
    "    count = count .+ 1\n",
    "    t = t + delt\n",
    "    vApp = AppVel * t\n",
    "    TApp = TAppVec[count]\n",
    "    phiApp = φAppVec[count]\n",
    "    print(\"\\n Entering displacemtent step$count :\",float(vApp))\n",
    "    for inner = 1: innerMax\n",
    "        ψhPlusPrev = project(ψPlusPrev , model , dΩ, order )\n",
    "        RelErr = abs(sum(∫( Gc*lsp*∇(sh)⋅ ∇(sh) + 2*ψhPlusPrev*sh*sh  + (Gc/lsp)*sh*sh)*dΩ - ∫( (Gc/lsp)*sh)*dΩ))/abs(sum(∫( (Gc/lsp)*sh)*dΩ))\n",
    "        print(\"\\n Relative error = \" , float(RelErr))\n",
    "        sh = stepPhaseField(uh,ψhPlusPrev) \n",
    "        uh,φh,Th = stepDispElecPotTemp(uh,φh,Th,sh,vApp,TApp,phiApp,delt)\n",
    "        ψhPos_in = ψPos∘(ε(uh),Th ,∇(φh))\n",
    "        update_state!(new_EnergyState ,ψPlusPrev ,ψhPos_in)\n",
    "        if RelErr < 1e-8\n",
    "            break\n",
    "        end\n",
    "    end\n",
    "    Node_Force = sum(∫( n_Γ_Load ⋅(σ_elasMod∘(ε(uh),ε(uh),sh,Th,Th))) * dΓ_Load+ ∫( n_Γ_Load ⋅(σ_piezoMod∘(∇(φh) , sh ) ) ) * dΓ_Load )\n",
    "    push!( Load , Node_Force[2])\n",
    "    push!( Displacement , vApp )\n",
    "    if mod(count ,10) == 0\n",
    "        writevtk(Ω,\" results_TEMNotchedPlate$count\" , cellfields =\n",
    "            [ \"uh\" => uh , \"s\" => sh ,\"phi\" => φh , \"epsi\" => ε(uh) , \"T\" => Th ])\n",
    "    end\n",
    "end"
   ]
  },
  {
   "cell_type": "code",
   "execution_count": null,
   "id": "6e9bb9af",
   "metadata": {},
   "outputs": [],
   "source": [
    "writevtk(Ω,\" results_TEMNotchedPlate$count \" , cellfields =\n",
    "    [\"uh\" => uh , \"s\" => sh ,\"phi\" =>φh , \"epsi\" =>ε(uh) , \"T\" => Th ])"
   ]
  },
  {
   "cell_type": "code",
   "execution_count": null,
   "id": "6d7db882",
   "metadata": {},
   "outputs": [],
   "source": [
    "plot(Displacement,(Load)*1e-3)"
   ]
  }
 ],
 "metadata": {
  "@webio": {
   "lastCommId": null,
   "lastKernelId": null
  },
  "kernelspec": {
   "display_name": "Julia 1.6.2",
   "language": "julia",
   "name": "julia-1.6"
  },
  "language_info": {
   "file_extension": ".jl",
   "mimetype": "application/julia",
   "name": "julia",
   "version": "1.6.2"
  }
 },
 "nbformat": 4,
 "nbformat_minor": 5
}
