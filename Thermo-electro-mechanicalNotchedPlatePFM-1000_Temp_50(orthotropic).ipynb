{
 "cells": [
  {
   "cell_type": "markdown",
   "id": "5a172ed2",
   "metadata": {},
   "source": [
    "### In case of positive hydrostatic strain i.e $\\text{tr}(\\boldsymbol{\\epsilon})\\geq 0$\n",
    "$\\langle p \\rangle_+ = p = \\boldsymbol{I}: \\boldsymbol{\\sigma}_{vol} = \\boldsymbol{I}: \\mathbb{I}_{vol}\\mathbb{C}  \\boldsymbol{\\epsilon}$    and      $\\langle p \\rangle_- = 0 $\n",
    "\n",
    "$\\mathbb{C}_{mod} = \\mathbb{C}_{+} = s^2\\left(\\mathbb{I}_{vol}\\mathbb{C} + \\mathbb{I}_{dev}\\mathbb{C}\\right) = s^2 \\mathbb{C}$\n",
    "\n",
    "### In case of negative hydrostatic strain $\\text{tr}(\\boldsymbol{\\epsilon})< 0$\n",
    "$\\langle p \\rangle_+ = 0 $   and    $\\langle p \\rangle_- = p =  \\boldsymbol{I}: \\boldsymbol{\\sigma}_{vol} = \\boldsymbol{I}:\\mathbb{I}_{vol}\\mathbb{C}  \\boldsymbol{\\epsilon}$\n",
    "\n",
    "$\\mathbb{C}_{mod} = \\mathbb{C}_{-} = s^2\\bigl(\\mathbb{I}_{dev}\\mathbb{C}\\bigr) + \\mathbb{I}_{vol}\\mathbb{C}$\n",
    "\n",
    " ## Strong Form in terms of $\\mathbb{C}_{mod}$ and $\\mathcal{H}(\\mathcal{E})$\n",
    " \n",
    " $\\nabla \\cdot \\boldsymbol{\\sigma} = {\\bf{0}}$\n",
    " \n",
    " $ \\nabla\\cdot \\boldsymbol{D}  = {0}$\n",
    "\n",
    " $ \\nabla \\cdot \\biggl(G_cl\\boldsymbol{A}\\nabla s\\biggr) - 2s\\mathcal{H}(\\mathcal{E})  + \\frac{G_c}{l}\\left(1-s\\right) = 0$\n",
    "\n",
    "where \n",
    "\n",
    "$\\boldsymbol{\\sigma} = \\biggl(\\mathbb{C}_{mod} \\boldsymbol{\\epsilon} -\\mathbb{e}_{mod}^T\\boldsymbol{E}\\biggr) $\n",
    "\n",
    "$\\boldsymbol{D} = \\biggr({\\boldsymbol{K}_{mod}\\boldsymbol{E}} +  \\mathbb{e}_{mod}\\boldsymbol{\\epsilon}\\biggl) $\n",
    "\n",
    "$\\mathcal{E} = \\frac{1}{2}\\biggl(\\langle p \\rangle_+\\boldsymbol{I}:\\mathbb{I}_{vol}\\boldsymbol{\\epsilon} + \\mathbb{I}_{dev}\\mathbb{C}\\boldsymbol{\\epsilon}:\\mathbb{I}_{dev}\\boldsymbol{\\epsilon} + \\boldsymbol{E} \\cdot \\boldsymbol{K}\\boldsymbol{E} + \\boldsymbol{\\epsilon}:\\mathbb{e}^T\\boldsymbol{E}\\biggr)$\n",
    "\n",
    "$\\mathcal{H}(f) = \\text{max}_{\\tau \\in [0,t]}f(\\tau)$\n",
    "\n",
    "$\\mathbb{e}_{mod} = s^2 \\mathbb{e}$\n",
    "\n",
    "$\\boldsymbol{K}_{mod} = s^2 \\boldsymbol{K}$"
   ]
  },
  {
   "cell_type": "markdown",
   "id": "26bc5576",
   "metadata": {},
   "source": [
    " # Weak Form\n",
    "\n",
    "### For Piezo-elasticity part\n",
    "\n",
    " $a((\\boldsymbol{u},\\phi), ({\\boldsymbol{v}},{\\psi})) = \\int_{\\Omega} \\bigl( \\mathbb{C}_{mod}\\mathbb{\\epsilon}: \\nabla \\boldsymbol{v} \\bigr)d\\Omega - \\int_\\Omega \\bigl ( \\boldsymbol{e}_{mod}^T\\boldsymbol{E}:\\nabla \\boldsymbol{v}\\bigr)d\\Omega + \\int_{\\Omega}\\left(\\boldsymbol{K}_{mod}\\boldsymbol{E} \\cdot \\nabla \\boldsymbol{\\psi}\\right) + \\int_{\\Omega}\\left(\\mathbb{e}_{mod}\\boldsymbol{\\epsilon}  \\cdot \\nabla  \\boldsymbol{\\psi}\\right)d\\Omega$\n",
    "\n",
    "### For phase-field part\n",
    " \n",
    " $ a(s,\\phi) = \\int_{\\Omega}\\bigl(G_cl\\nabla s \\cdot \\nabla \\phi + 2s \\phi\\mathcal{H}({\\mathcal{E}}) +  \\frac{G_c}{l} s \\phi\\bigr)d\\Omega$\n",
    "\n",
    " $ l(\\phi) = \\int_{\\Omega}\\frac{G_c}{l}\\phi d{\\Omega}$"
   ]
  },
  {
   "cell_type": "code",
   "execution_count": 1,
   "id": "frank-charity",
   "metadata": {},
   "outputs": [],
   "source": [
    "using Gmsh: gmsh\n",
    "using GridapGmsh\n",
    "using Gridap\n",
    "using Gridap.TensorValues\n",
    "using Plots"
   ]
  },
  {
   "cell_type": "code",
   "execution_count": 2,
   "id": "8ada626d",
   "metadata": {
    "scrolled": true
   },
   "outputs": [
    {
     "data": {
      "text/plain": [
       "interval (generic function with 1 method)"
      ]
     },
     "execution_count": 2,
     "metadata": {},
     "output_type": "execute_result"
    }
   ],
   "source": [
    "using SymPy\n",
    "\n",
    "x,x₁ = symbols(\"x,x₁\", real = true)\n",
    "\n",
    "heaviside(x) = 0.5 * (sign(x) + 1)\n",
    "interval(x, a, b) = heaviside(x-a) - heaviside(x-b)"
   ]
  },
  {
   "cell_type": "markdown",
   "id": "guided-cornell",
   "metadata": {},
   "source": [
    "## Definitions of Tensorial Quantities:\n",
    "\n",
    "$\\boldsymbol{I} = \\delta_{ij} \\boldsymbol{e}_i\\otimes\\boldsymbol{e}_j$\n",
    "\n",
    "$\\mathbb{I} = \\boldsymbol{I}\\otimes\\boldsymbol{I}$\n",
    "\n",
    "$\\mathbb{I}_{sym} = \\frac{1}{2}\\biggl(\\mathbb{I}+\\mathbb{I}^T\\biggr)$\n",
    "\n",
    "$\\mathbb{I}_{skw} = \\frac{1}{2}\\biggl(\\mathbb{I}-\\mathbb{I}^T\\biggr)$\n",
    "\n",
    "$\\mathbb{I}_{vol} = \\frac{1}{3}\\biggl(\\boldsymbol{I}\\otimes\\boldsymbol{I}\\biggr)$\n",
    "\n",
    "$\\mathbb{I}_{dev} = \\mathbb{I}_{sym} - \\mathbb{I}_{vol}$\n",
    "\n",
    "$\\boldsymbol{\\epsilon}_{vol} = \\frac{1}{3}\\text{tr}(\\boldsymbol{\\epsilon}) \\boldsymbol{I} = \\frac{1}{3}\\biggl(\\boldsymbol{\\epsilon}:\\boldsymbol{I}\\biggr)\\boldsymbol{I} = \\frac{1}{3}\\biggl(\\boldsymbol{I}\\otimes\\boldsymbol{I}\\biggr)\\boldsymbol{\\epsilon} = \\mathbb{I}_{vol} \\boldsymbol{\\epsilon} $\n",
    "\n",
    "$\\boldsymbol{\\epsilon}_{dev} = \\boldsymbol{\\epsilon} - \\boldsymbol{\\epsilon}_{vol} = \\biggl(\\mathbb{I}_{sym} -  \\mathbb{I}_{vol}\\biggl) \\boldsymbol{\\epsilon} = \\mathbb{I}_{dev} \\boldsymbol{\\epsilon}$\n",
    "\n",
    "$\\boldsymbol{\\sigma}_{vol} = p \\boldsymbol{I} = \\frac{1}{3}\\biggl(\\boldsymbol{\\sigma}:\\boldsymbol{I}\\biggr)\\boldsymbol{I} = \\frac{1}{3}\\biggl(\\boldsymbol{I}\\otimes\\boldsymbol{I}\\biggr)\\boldsymbol{\\sigma} = \\mathbb{I}_{vol} \\boldsymbol{\\sigma} = \\mathbb{I}_{vol}\\mathbb{C} \\boldsymbol{\\epsilon}$\n",
    "\n",
    "$\\boldsymbol{\\sigma}_{dev} = \\boldsymbol{\\sigma} - \\boldsymbol{\\sigma}_{vol} = \\biggl(\\mathbb{I}_{sym} -  \\mathbb{I}_{vol}\\biggl) \\boldsymbol{\\sigma} = \\mathbb{I}_{dev} \\boldsymbol{\\sigma}=\\mathbb{I}_{dev} \\mathbb{C} \\boldsymbol{\\epsilon}$"
   ]
  },
  {
   "cell_type": "code",
   "execution_count": 3,
   "id": "contained-intro",
   "metadata": {
    "scrolled": true
   },
   "outputs": [
    {
     "data": {
      "text/plain": [
       "SymFourthOrderTensorValue{2, Float64, 9}(0.6666666666666667, 0.0, -0.3333333333333333, 0.0, 0.5, 0.0, -0.3333333333333333, 0.0, 0.6666666666666667)"
      ]
     },
     "execution_count": 3,
     "metadata": {},
     "output_type": "execute_result"
    }
   ],
   "source": [
    "I2 = SymTensorValue{2,Float64}(1.0 ,0.0 ,1.0)\n",
    "I4 = I2⊗I2\n",
    "I4_sym = one(SymFourthOrderTensorValue{2,Float64})\n",
    "I4_vol = (1.0/2)*I4\n",
    "I4_dev = I4_sym  - I4_vol"
   ]
  },
  {
   "cell_type": "code",
   "execution_count": 4,
   "id": "municipal-incentive",
   "metadata": {
    "scrolled": true
   },
   "outputs": [
    {
     "name": "stdout",
     "output_type": "stream",
     "text": [
      "Info    : Meshing 1D...\n",
      "Info    : [  0%] Meshing curve 1 (Line)\n",
      "Info    : [ 20%] Meshing curve 2 (Line)\n",
      "Info    : [ 30%] Meshing curve 3 (Line)\n",
      "Info    : [ 40%] Meshing curve 4 (Line)\n",
      "Info    : [ 50%] Meshing curve 5 (Line)\n",
      "Info    : [ 70%] Meshing curve 6 (Line)\n",
      "Info    : [ 80%] Meshing curve 7 (Line)\n",
      "Info    : [ 90%] Meshing curve 8 (Line)\n",
      "Info    : Done meshing 1D (Wall 0.00357306s, CPU 0.00358s)\n",
      "Info    : Meshing 2D...\n",
      "Info    : Meshing surface 1 (Plane, Frontal-Delaunay)\n",
      "Info    : Done meshing 2D (Wall 0.347131s, CPU 0.34326s)\n",
      "Info    : 11526 nodes 23058 elements\n",
      "Info    : Writing 'SquarePlateWithEdgeNotch.msh'...\n",
      "Info    : Done writing 'SquarePlateWithEdgeNotch.msh'\n"
     ]
    },
    {
     "name": "stderr",
     "output_type": "stream",
     "text": [
      "Warning : Unknown entity of dimension 2 and tag 1 in physical group 1\n",
      "Warning : Unknown entity of dimension 1 and tag 1 in physical group 1\n",
      "Warning : Unknown entity of dimension 1 and tag 3 in physical group 2\n"
     ]
    }
   ],
   "source": [
    "const L = 1e-3\n",
    "const H = 1e-3\n",
    "const lsp = L/90\n",
    "const CP = H/2\n",
    "const CL = 0.5*L \n",
    "const CH = H/2000\n",
    "const hfc = lsp/5\n",
    "const hf = lsp/4\n",
    "const h = 20*hf \n",
    "const FMR = 6*lsp\n",
    " \n",
    "gmsh.initialize()\n",
    "gmsh.option.setNumber(\"General.Terminal\", 1)\n",
    "gmsh.model.geo.addPoint(0.0, 0.0, 0.0, h, 1)  \n",
    "gmsh.model.geo.addPoint(L, 0.0, 0.0, h, 2) \n",
    "gmsh.model.geo.addPoint(L, H, 0.0, h, 3) \n",
    "gmsh.model.geo.addPoint(0.0, H, 0.0, h, 4)\n",
    "gmsh.model.geo.addPoint(0.0, CP + CH, 0.0, h, 5)\n",
    "gmsh.model.geo.addPoint(CL, CP + CH, 0.0, hfc, 6)\n",
    "gmsh.model.geo.addPoint(CL, CP - CH, 0.0, hfc, 7)\n",
    "gmsh.model.geo.addPoint(0.0, CP - CH, 0.0, h, 8)\n",
    "\n",
    "gmsh.model.geo.addLine(1, 2, 1)\n",
    "gmsh.model.geo.addLine(2, 3, 2)\n",
    "gmsh.model.geo.addLine(3, 4, 3)\n",
    "gmsh.model.geo.addLine(4, 5, 4)\n",
    "gmsh.model.geo.addLine(5, 6, 5)\n",
    "gmsh.model.geo.addLine(6, 7, 6)\n",
    "gmsh.model.geo.addLine(7, 8, 7)\n",
    "gmsh.model.geo.addLine(8, 1, 8)\n",
    "gmsh.model.geo.addCurveLoop([1,2,3,4,5,6,7,8],1) \n",
    "gmsh.model.geo.addPlaneSurface([1], 1)\n",
    "gmsh.model.addPhysicalGroup(2, [1],1)\n",
    "gmsh.model.addPhysicalGroup(1, [1],1)\n",
    "gmsh.model.addPhysicalGroup(1, [3],2)\n",
    "gmsh.model.setPhysicalName(2, 1, \"Domain\")\n",
    "gmsh.model.setPhysicalName(1, 1, \"BottomEdge\")\n",
    "gmsh.model.setPhysicalName(1, 2, \"TopEdge\")\n",
    "\n",
    "\n",
    "gmsh.model.mesh.field.add(\"Box\", 11)\n",
    "gmsh.model.mesh.field.setNumber(11, \"VIn\", hf)\n",
    "gmsh.model.mesh.field.setNumber(11, \"VOut\", h)\n",
    "gmsh.model.mesh.field.setNumber(11, \"XMin\", 0.8*CL)\n",
    "gmsh.model.mesh.field.setNumber(11, \"XMax\", L)\n",
    "gmsh.model.mesh.field.setNumber(11, \"YMin\", CP-FMR)\n",
    "gmsh.model.mesh.field.setNumber(11, \"YMax\", CP+FMR)\n",
    "gmsh.model.mesh.field.setAsBackgroundMesh(11)\n",
    "\n",
    "gmsh.model.geo.synchronize()\n",
    "gmsh.model.mesh.generate(2)\n",
    "gmsh.write(\"SquarePlateWithEdgeNotch.msh\")\n",
    "gmsh.finalize()"
   ]
  },
  {
   "cell_type": "code",
   "execution_count": 5,
   "id": "dangerous-preference",
   "metadata": {},
   "outputs": [
    {
     "name": "stdout",
     "output_type": "stream",
     "text": [
      "Info    : Reading 'SquarePlateWithEdgeNotch.msh'...\n",
      "Info    : 17 entities\n",
      "Info    : 11526 nodes\n",
      "Info    : 22859 elements\n",
      "Info    : Done reading 'SquarePlateWithEdgeNotch.msh'\n"
     ]
    },
    {
     "data": {
      "text/plain": [
       "3-element Vector{Vector{String}}:\n",
       " [\"SquarePlateWithEdgeNotch_0.vtu\"]\n",
       " [\"SquarePlateWithEdgeNotch_1.vtu\"]\n",
       " [\"SquarePlateWithEdgeNotch_2.vtu\"]"
      ]
     },
     "execution_count": 5,
     "metadata": {},
     "output_type": "execute_result"
    }
   ],
   "source": [
    "model = GmshDiscreteModel(\"SquarePlateWithEdgeNotch.msh\")\n",
    "writevtk(model,\"SquarePlateWithEdgeNotch\")"
   ]
  },
  {
   "cell_type": "code",
   "execution_count": 6,
   "id": "bd6fbf65",
   "metadata": {},
   "outputs": [],
   "source": [
    "cd(\"ResultNotchedPlateElecField_50\")"
   ]
  },
  {
   "cell_type": "code",
   "execution_count": 7,
   "id": "a975e45a",
   "metadata": {},
   "outputs": [
    {
     "data": {
      "text/plain": [
       "1.7500000000000002e-7"
      ]
     },
     "execution_count": 7,
     "metadata": {},
     "output_type": "execute_result"
    }
   ],
   "source": [
    "const T0 = 300\n",
    "const TAppMax = T0+50\n",
    "\n",
    "#const ElecF = 0\n",
    "const phiMaxApp = 1000.0\n",
    "const phiMin = 0.0\n",
    "\n",
    "const delt = 1e-2\n",
    "const tMax = 1\n",
    "const uMax = 3.5e-6\n",
    "const AppVel = uMax/tMax\n",
    "const uMin = 0\n",
    "\n",
    "uTran_Temp = 0.2*uMax\n",
    "uTran2_EP = 0.05*uMax"
   ]
  },
  {
   "cell_type": "code",
   "execution_count": 8,
   "id": "1a28f6ef",
   "metadata": {},
   "outputs": [
    {
     "data": {
      "image/svg+xml": [
       "<?xml version=\"1.0\" encoding=\"utf-8\"?>\n",
       "<svg xmlns=\"http://www.w3.org/2000/svg\" xmlns:xlink=\"http://www.w3.org/1999/xlink\" width=\"600\" height=\"400\" viewBox=\"0 0 2400 1600\">\n",
       "<defs>\n",
       "  <clipPath id=\"clip180\">\n",
       "    <rect x=\"0\" y=\"0\" width=\"2400\" height=\"1600\"/>\n",
       "  </clipPath>\n",
       "</defs>\n",
       "<path clip-path=\"url(#clip180)\" d=\"\n",
       "M0 1600 L2400 1600 L2400 0 L0 0  Z\n",
       "  \" fill=\"#ffffff\" fill-rule=\"evenodd\" fill-opacity=\"1\"/>\n",
       "<defs>\n",
       "  <clipPath id=\"clip181\">\n",
       "    <rect x=\"480\" y=\"0\" width=\"1681\" height=\"1600\"/>\n",
       "  </clipPath>\n",
       "</defs>\n",
       "<path clip-path=\"url(#clip180)\" d=\"\n",
       "M170.719 1474.16 L2352.76 1474.16 L2352.76 47.2441 L170.719 47.2441  Z\n",
       "  \" fill=\"#ffffff\" fill-rule=\"evenodd\" fill-opacity=\"1\"/>\n",
       "<defs>\n",
       "  <clipPath id=\"clip182\">\n",
       "    <rect x=\"170\" y=\"47\" width=\"2183\" height=\"1428\"/>\n",
       "  </clipPath>\n",
       "</defs>\n",
       "<polyline clip-path=\"url(#clip182)\" style=\"stroke:#000000; stroke-linecap:round; stroke-linejoin:round; stroke-width:2; stroke-opacity:0.1; fill:none\" points=\"\n",
       "  232.474,1474.16 232.474,47.2441 \n",
       "  \"/>\n",
       "<polyline clip-path=\"url(#clip182)\" style=\"stroke:#000000; stroke-linecap:round; stroke-linejoin:round; stroke-width:2; stroke-opacity:0.1; fill:none\" points=\"\n",
       "  820.625,1474.16 820.625,47.2441 \n",
       "  \"/>\n",
       "<polyline clip-path=\"url(#clip182)\" style=\"stroke:#000000; stroke-linecap:round; stroke-linejoin:round; stroke-width:2; stroke-opacity:0.1; fill:none\" points=\"\n",
       "  1408.77,1474.16 1408.77,47.2441 \n",
       "  \"/>\n",
       "<polyline clip-path=\"url(#clip182)\" style=\"stroke:#000000; stroke-linecap:round; stroke-linejoin:round; stroke-width:2; stroke-opacity:0.1; fill:none\" points=\"\n",
       "  1996.93,1474.16 1996.93,47.2441 \n",
       "  \"/>\n",
       "<polyline clip-path=\"url(#clip180)\" style=\"stroke:#000000; stroke-linecap:round; stroke-linejoin:round; stroke-width:4; stroke-opacity:1; fill:none\" points=\"\n",
       "  170.719,1474.16 2352.76,1474.16 \n",
       "  \"/>\n",
       "<polyline clip-path=\"url(#clip180)\" style=\"stroke:#000000; stroke-linecap:round; stroke-linejoin:round; stroke-width:4; stroke-opacity:1; fill:none\" points=\"\n",
       "  232.474,1474.16 232.474,1455.27 \n",
       "  \"/>\n",
       "<polyline clip-path=\"url(#clip180)\" style=\"stroke:#000000; stroke-linecap:round; stroke-linejoin:round; stroke-width:4; stroke-opacity:1; fill:none\" points=\"\n",
       "  820.625,1474.16 820.625,1455.27 \n",
       "  \"/>\n",
       "<polyline clip-path=\"url(#clip180)\" style=\"stroke:#000000; stroke-linecap:round; stroke-linejoin:round; stroke-width:4; stroke-opacity:1; fill:none\" points=\"\n",
       "  1408.77,1474.16 1408.77,1455.27 \n",
       "  \"/>\n",
       "<polyline clip-path=\"url(#clip180)\" style=\"stroke:#000000; stroke-linecap:round; stroke-linejoin:round; stroke-width:4; stroke-opacity:1; fill:none\" points=\"\n",
       "  1996.93,1474.16 1996.93,1455.27 \n",
       "  \"/>\n",
       "<path clip-path=\"url(#clip180)\" d=\"M232.474 1505.08 Q228.863 1505.08 227.035 1508.65 Q225.229 1512.19 225.229 1519.32 Q225.229 1526.43 227.035 1529.99 Q228.863 1533.53 232.474 1533.53 Q236.109 1533.53 237.914 1529.99 Q239.743 1526.43 239.743 1519.32 Q239.743 1512.19 237.914 1508.65 Q236.109 1505.08 232.474 1505.08 M232.474 1501.38 Q238.284 1501.38 241.34 1505.99 Q244.419 1510.57 244.419 1519.32 Q244.419 1528.05 241.34 1532.65 Q238.284 1537.24 232.474 1537.24 Q226.664 1537.24 223.585 1532.65 Q220.53 1528.05 220.53 1519.32 Q220.53 1510.57 223.585 1505.99 Q226.664 1501.38 232.474 1501.38 Z\" fill=\"#000000\" fill-rule=\"evenodd\" fill-opacity=\"1\" /><path clip-path=\"url(#clip180)\" d=\"M712.618 1548.29 L720.257 1548.29 L720.257 1521.92 L711.947 1523.59 L711.947 1519.33 L720.211 1517.66 L724.886 1517.66 L724.886 1548.29 L732.525 1548.29 L732.525 1552.22 L712.618 1552.22 L712.618 1548.29 Z\" fill=\"#000000\" fill-rule=\"evenodd\" fill-opacity=\"1\" /><path clip-path=\"url(#clip180)\" d=\"M741.97 1546.35 L746.854 1546.35 L746.854 1552.22 L741.97 1552.22 L741.97 1546.35 Z\" fill=\"#000000\" fill-rule=\"evenodd\" fill-opacity=\"1\" /><path clip-path=\"url(#clip180)\" d=\"M767.039 1520.74 Q763.428 1520.74 761.599 1524.31 Q759.794 1527.85 759.794 1534.98 Q759.794 1542.09 761.599 1545.65 Q763.428 1549.19 767.039 1549.19 Q770.673 1549.19 772.479 1545.65 Q774.308 1542.09 774.308 1534.98 Q774.308 1527.85 772.479 1524.31 Q770.673 1520.74 767.039 1520.74 M767.039 1517.04 Q772.849 1517.04 775.905 1521.65 Q778.983 1526.23 778.983 1534.98 Q778.983 1543.71 775.905 1548.31 Q772.849 1552.9 767.039 1552.9 Q761.229 1552.9 758.15 1548.31 Q755.095 1543.71 755.095 1534.98 Q755.095 1526.23 758.15 1521.65 Q761.229 1517.04 767.039 1517.04 Z\" fill=\"#000000\" fill-rule=\"evenodd\" fill-opacity=\"1\" /><path clip-path=\"url(#clip180)\" d=\"M815.372 1526.76 L804.793 1537.39 L815.372 1547.97 L812.617 1550.77 L801.993 1540.14 L791.368 1550.77 L788.636 1547.97 L799.192 1537.39 L788.636 1526.76 L791.368 1523.96 L801.993 1534.59 L812.617 1523.96 L815.372 1526.76 Z\" fill=\"#000000\" fill-rule=\"evenodd\" fill-opacity=\"1\" /><path clip-path=\"url(#clip180)\" d=\"M827.733 1548.29 L835.372 1548.29 L835.372 1521.92 L827.062 1523.59 L827.062 1519.33 L835.326 1517.66 L840.002 1517.66 L840.002 1548.29 L847.64 1548.29 L847.64 1552.22 L827.733 1552.22 L827.733 1548.29 Z\" fill=\"#000000\" fill-rule=\"evenodd\" fill-opacity=\"1\" /><path clip-path=\"url(#clip180)\" d=\"M867.085 1520.74 Q863.474 1520.74 861.645 1524.31 Q859.839 1527.85 859.839 1534.98 Q859.839 1542.09 861.645 1545.65 Q863.474 1549.19 867.085 1549.19 Q870.719 1549.19 872.525 1545.65 Q874.353 1542.09 874.353 1534.98 Q874.353 1527.85 872.525 1524.31 Q870.719 1520.74 867.085 1520.74 M867.085 1517.04 Q872.895 1517.04 875.95 1521.65 Q879.029 1526.23 879.029 1534.98 Q879.029 1543.71 875.95 1548.31 Q872.895 1552.9 867.085 1552.9 Q861.275 1552.9 858.196 1548.31 Q855.14 1543.71 855.14 1534.98 Q855.14 1526.23 858.196 1521.65 Q861.275 1517.04 867.085 1517.04 Z\" fill=\"#000000\" fill-rule=\"evenodd\" fill-opacity=\"1\" /><path clip-path=\"url(#clip180)\" d=\"M879.029 1511.14 L903.141 1511.14 L903.141 1514.34 L879.029 1514.34 L879.029 1511.14 Z\" fill=\"#000000\" fill-rule=\"evenodd\" fill-opacity=\"1\" /><path clip-path=\"url(#clip180)\" d=\"M919.936 1509.26 Q917.378 1509.26 915.874 1511.01 Q914.388 1512.76 914.388 1515.81 Q914.388 1518.83 915.874 1520.6 Q917.378 1522.35 919.936 1522.35 Q922.494 1522.35 923.98 1520.6 Q925.484 1518.83 925.484 1515.81 Q925.484 1512.76 923.98 1511.01 Q922.494 1509.26 919.936 1509.26 M927.478 1497.35 L927.478 1500.82 Q926.049 1500.14 924.582 1499.78 Q923.133 1499.42 921.704 1499.42 Q917.942 1499.42 915.949 1501.96 Q913.974 1504.5 913.692 1509.64 Q914.802 1508 916.475 1507.13 Q918.149 1506.25 920.162 1506.25 Q924.394 1506.25 926.839 1508.83 Q929.302 1511.39 929.302 1515.81 Q929.302 1520.13 926.744 1522.75 Q924.187 1525.36 919.936 1525.36 Q915.065 1525.36 912.488 1521.64 Q909.912 1517.89 909.912 1510.8 Q909.912 1504.14 913.071 1500.19 Q916.231 1496.23 921.554 1496.23 Q922.983 1496.23 924.431 1496.51 Q925.898 1496.79 927.478 1497.35 Z\" fill=\"#000000\" fill-rule=\"evenodd\" fill-opacity=\"1\" /><path clip-path=\"url(#clip180)\" d=\"M1304.85 1548.29 L1321.17 1548.29 L1321.17 1552.22 L1299.23 1552.22 L1299.23 1548.29 Q1301.89 1545.53 1306.47 1540.91 Q1311.08 1536.25 1312.26 1534.91 Q1314.51 1532.39 1315.39 1530.65 Q1316.29 1528.89 1316.29 1527.2 Q1316.29 1524.45 1314.34 1522.71 Q1312.42 1520.97 1309.32 1520.97 Q1307.12 1520.97 1304.67 1521.74 Q1302.24 1522.5 1299.46 1524.05 L1299.46 1519.33 Q1302.28 1518.2 1304.74 1517.62 Q1307.19 1517.04 1309.23 1517.04 Q1314.6 1517.04 1317.79 1519.72 Q1320.99 1522.41 1320.99 1526.9 Q1320.99 1529.03 1320.18 1530.95 Q1319.39 1532.85 1317.28 1535.44 Q1316.71 1536.11 1313.6 1539.33 Q1310.5 1542.53 1304.85 1548.29 Z\" fill=\"#000000\" fill-rule=\"evenodd\" fill-opacity=\"1\" /><path clip-path=\"url(#clip180)\" d=\"M1330.99 1546.35 L1335.87 1546.35 L1335.87 1552.22 L1330.99 1552.22 L1330.99 1546.35 Z\" fill=\"#000000\" fill-rule=\"evenodd\" fill-opacity=\"1\" /><path clip-path=\"url(#clip180)\" d=\"M1356.06 1520.74 Q1352.45 1520.74 1350.62 1524.31 Q1348.81 1527.85 1348.81 1534.98 Q1348.81 1542.09 1350.62 1545.65 Q1352.45 1549.19 1356.06 1549.19 Q1359.69 1549.19 1361.5 1545.65 Q1363.33 1542.09 1363.33 1534.98 Q1363.33 1527.85 1361.5 1524.31 Q1359.69 1520.74 1356.06 1520.74 M1356.06 1517.04 Q1361.87 1517.04 1364.92 1521.65 Q1368 1526.23 1368 1534.98 Q1368 1543.71 1364.92 1548.31 Q1361.87 1552.9 1356.06 1552.9 Q1350.25 1552.9 1347.17 1548.31 Q1344.11 1543.71 1344.11 1534.98 Q1344.11 1526.23 1347.17 1521.65 Q1350.25 1517.04 1356.06 1517.04 Z\" fill=\"#000000\" fill-rule=\"evenodd\" fill-opacity=\"1\" /><path clip-path=\"url(#clip180)\" d=\"M1404.39 1526.76 L1393.81 1537.39 L1404.39 1547.97 L1401.64 1550.77 L1391.01 1540.14 L1380.39 1550.77 L1377.65 1547.97 L1388.21 1537.39 L1377.65 1526.76 L1380.39 1523.96 L1391.01 1534.59 L1401.64 1523.96 L1404.39 1526.76 Z\" fill=\"#000000\" fill-rule=\"evenodd\" fill-opacity=\"1\" /><path clip-path=\"url(#clip180)\" d=\"M1416.75 1548.29 L1424.39 1548.29 L1424.39 1521.92 L1416.08 1523.59 L1416.08 1519.33 L1424.34 1517.66 L1429.02 1517.66 L1429.02 1548.29 L1436.66 1548.29 L1436.66 1552.22 L1416.75 1552.22 L1416.75 1548.29 Z\" fill=\"#000000\" fill-rule=\"evenodd\" fill-opacity=\"1\" /><path clip-path=\"url(#clip180)\" d=\"M1456.1 1520.74 Q1452.49 1520.74 1450.66 1524.31 Q1448.86 1527.85 1448.86 1534.98 Q1448.86 1542.09 1450.66 1545.65 Q1452.49 1549.19 1456.1 1549.19 Q1459.74 1549.19 1461.54 1545.65 Q1463.37 1542.09 1463.37 1534.98 Q1463.37 1527.85 1461.54 1524.31 Q1459.74 1520.74 1456.1 1520.74 M1456.1 1517.04 Q1461.91 1517.04 1464.97 1521.65 Q1468.05 1526.23 1468.05 1534.98 Q1468.05 1543.71 1464.97 1548.31 Q1461.91 1552.9 1456.1 1552.9 Q1450.29 1552.9 1447.21 1548.31 Q1444.16 1543.71 1444.16 1534.98 Q1444.16 1526.23 1447.21 1521.65 Q1450.29 1517.04 1456.1 1517.04 Z\" fill=\"#000000\" fill-rule=\"evenodd\" fill-opacity=\"1\" /><path clip-path=\"url(#clip180)\" d=\"M1468.05 1511.14 L1492.16 1511.14 L1492.16 1514.34 L1468.05 1514.34 L1468.05 1511.14 Z\" fill=\"#000000\" fill-rule=\"evenodd\" fill-opacity=\"1\" /><path clip-path=\"url(#clip180)\" d=\"M1508.95 1509.26 Q1506.4 1509.26 1504.89 1511.01 Q1503.41 1512.76 1503.41 1515.81 Q1503.41 1518.83 1504.89 1520.6 Q1506.4 1522.35 1508.95 1522.35 Q1511.51 1522.35 1513 1520.6 Q1514.5 1518.83 1514.5 1515.81 Q1514.5 1512.76 1513 1511.01 Q1511.51 1509.26 1508.95 1509.26 M1516.5 1497.35 L1516.5 1500.82 Q1515.07 1500.14 1513.6 1499.78 Q1512.15 1499.42 1510.72 1499.42 Q1506.96 1499.42 1504.97 1501.96 Q1502.99 1504.5 1502.71 1509.64 Q1503.82 1508 1505.49 1507.13 Q1507.17 1506.25 1509.18 1506.25 Q1513.41 1506.25 1515.86 1508.83 Q1518.32 1511.39 1518.32 1515.81 Q1518.32 1520.13 1515.76 1522.75 Q1513.2 1525.36 1508.95 1525.36 Q1504.08 1525.36 1501.51 1521.64 Q1498.93 1517.89 1498.93 1510.8 Q1498.93 1504.14 1502.09 1500.19 Q1505.25 1496.23 1510.57 1496.23 Q1512 1496.23 1513.45 1496.51 Q1514.92 1496.79 1516.5 1497.35 Z\" fill=\"#000000\" fill-rule=\"evenodd\" fill-opacity=\"1\" /><path clip-path=\"url(#clip180)\" d=\"M1903.07 1533.59 Q1906.43 1534.31 1908.3 1536.58 Q1910.2 1538.85 1910.2 1542.18 Q1910.2 1547.29 1906.68 1550.1 Q1903.17 1552.9 1896.68 1552.9 Q1894.51 1552.9 1892.19 1552.46 Q1889.9 1552.04 1887.45 1551.18 L1887.45 1546.67 Q1889.39 1547.8 1891.71 1548.38 Q1894.02 1548.96 1896.55 1548.96 Q1900.94 1548.96 1903.24 1547.22 Q1905.55 1545.49 1905.55 1542.18 Q1905.55 1539.12 1903.4 1537.41 Q1901.27 1535.67 1897.45 1535.67 L1893.42 1535.67 L1893.42 1531.83 L1897.63 1531.83 Q1901.08 1531.83 1902.91 1530.47 Q1904.74 1529.08 1904.74 1526.48 Q1904.74 1523.82 1902.84 1522.41 Q1900.97 1520.97 1897.45 1520.97 Q1895.53 1520.97 1893.33 1521.39 Q1891.13 1521.81 1888.49 1522.69 L1888.49 1518.52 Q1891.15 1517.78 1893.47 1517.41 Q1895.81 1517.04 1897.87 1517.04 Q1903.19 1517.04 1906.29 1519.47 Q1909.39 1521.88 1909.39 1526 Q1909.39 1528.87 1907.75 1530.86 Q1906.11 1532.83 1903.07 1533.59 Z\" fill=\"#000000\" fill-rule=\"evenodd\" fill-opacity=\"1\" /><path clip-path=\"url(#clip180)\" d=\"M1919.07 1546.35 L1923.95 1546.35 L1923.95 1552.22 L1919.07 1552.22 L1919.07 1546.35 Z\" fill=\"#000000\" fill-rule=\"evenodd\" fill-opacity=\"1\" /><path clip-path=\"url(#clip180)\" d=\"M1944.14 1520.74 Q1940.53 1520.74 1938.7 1524.31 Q1936.89 1527.85 1936.89 1534.98 Q1936.89 1542.09 1938.7 1545.65 Q1940.53 1549.19 1944.14 1549.19 Q1947.77 1549.19 1949.58 1545.65 Q1951.41 1542.09 1951.41 1534.98 Q1951.41 1527.85 1949.58 1524.31 Q1947.77 1520.74 1944.14 1520.74 M1944.14 1517.04 Q1949.95 1517.04 1953 1521.65 Q1956.08 1526.23 1956.08 1534.98 Q1956.08 1543.71 1953 1548.31 Q1949.95 1552.9 1944.14 1552.9 Q1938.33 1552.9 1935.25 1548.31 Q1932.19 1543.71 1932.19 1534.98 Q1932.19 1526.23 1935.25 1521.65 Q1938.33 1517.04 1944.14 1517.04 Z\" fill=\"#000000\" fill-rule=\"evenodd\" fill-opacity=\"1\" /><path clip-path=\"url(#clip180)\" d=\"M1992.47 1526.76 L1981.89 1537.39 L1992.47 1547.97 L1989.72 1550.77 L1979.09 1540.14 L1968.47 1550.77 L1965.74 1547.97 L1976.29 1537.39 L1965.74 1526.76 L1968.47 1523.96 L1979.09 1534.59 L1989.72 1523.96 L1992.47 1526.76 Z\" fill=\"#000000\" fill-rule=\"evenodd\" fill-opacity=\"1\" /><path clip-path=\"url(#clip180)\" d=\"M2004.83 1548.29 L2012.47 1548.29 L2012.47 1521.92 L2004.16 1523.59 L2004.16 1519.33 L2012.42 1517.66 L2017.1 1517.66 L2017.1 1548.29 L2024.74 1548.29 L2024.74 1552.22 L2004.83 1552.22 L2004.83 1548.29 Z\" fill=\"#000000\" fill-rule=\"evenodd\" fill-opacity=\"1\" /><path clip-path=\"url(#clip180)\" d=\"M2044.18 1520.74 Q2040.57 1520.74 2038.74 1524.31 Q2036.94 1527.85 2036.94 1534.98 Q2036.94 1542.09 2038.74 1545.65 Q2040.57 1549.19 2044.18 1549.19 Q2047.82 1549.19 2049.62 1545.65 Q2051.45 1542.09 2051.45 1534.98 Q2051.45 1527.85 2049.62 1524.31 Q2047.82 1520.74 2044.18 1520.74 M2044.18 1517.04 Q2049.99 1517.04 2053.05 1521.65 Q2056.13 1526.23 2056.13 1534.98 Q2056.13 1543.71 2053.05 1548.31 Q2049.99 1552.9 2044.18 1552.9 Q2038.37 1552.9 2035.3 1548.31 Q2032.24 1543.71 2032.24 1534.98 Q2032.24 1526.23 2035.3 1521.65 Q2038.37 1517.04 2044.18 1517.04 Z\" fill=\"#000000\" fill-rule=\"evenodd\" fill-opacity=\"1\" /><path clip-path=\"url(#clip180)\" d=\"M2056.13 1511.14 L2080.24 1511.14 L2080.24 1514.34 L2056.13 1514.34 L2056.13 1511.14 Z\" fill=\"#000000\" fill-rule=\"evenodd\" fill-opacity=\"1\" /><path clip-path=\"url(#clip180)\" d=\"M2097.04 1509.26 Q2094.48 1509.26 2092.97 1511.01 Q2091.49 1512.76 2091.49 1515.81 Q2091.49 1518.83 2092.97 1520.6 Q2094.48 1522.35 2097.04 1522.35 Q2099.59 1522.35 2101.08 1520.6 Q2102.58 1518.83 2102.58 1515.81 Q2102.58 1512.76 2101.08 1511.01 Q2099.59 1509.26 2097.04 1509.26 M2104.58 1497.35 L2104.58 1500.82 Q2103.15 1500.14 2101.68 1499.78 Q2100.23 1499.42 2098.8 1499.42 Q2095.04 1499.42 2093.05 1501.96 Q2091.07 1504.5 2090.79 1509.64 Q2091.9 1508 2093.57 1507.13 Q2095.25 1506.25 2097.26 1506.25 Q2101.49 1506.25 2103.94 1508.83 Q2106.4 1511.39 2106.4 1515.81 Q2106.4 1520.13 2103.84 1522.75 Q2101.29 1525.36 2097.04 1525.36 Q2092.16 1525.36 2089.59 1521.64 Q2087.01 1517.89 2087.01 1510.8 Q2087.01 1504.14 2090.17 1500.19 Q2093.33 1496.23 2098.65 1496.23 Q2100.08 1496.23 2101.53 1496.51 Q2103 1496.79 2104.58 1497.35 Z\" fill=\"#000000\" fill-rule=\"evenodd\" fill-opacity=\"1\" /><polyline clip-path=\"url(#clip182)\" style=\"stroke:#000000; stroke-linecap:round; stroke-linejoin:round; stroke-width:2; stroke-opacity:0.1; fill:none\" points=\"\n",
       "  170.719,1465.16 2352.76,1465.16 \n",
       "  \"/>\n",
       "<polyline clip-path=\"url(#clip182)\" style=\"stroke:#000000; stroke-linecap:round; stroke-linejoin:round; stroke-width:2; stroke-opacity:0.1; fill:none\" points=\"\n",
       "  170.719,1189.66 2352.76,1189.66 \n",
       "  \"/>\n",
       "<polyline clip-path=\"url(#clip182)\" style=\"stroke:#000000; stroke-linecap:round; stroke-linejoin:round; stroke-width:2; stroke-opacity:0.1; fill:none\" points=\"\n",
       "  170.719,914.149 2352.76,914.149 \n",
       "  \"/>\n",
       "<polyline clip-path=\"url(#clip182)\" style=\"stroke:#000000; stroke-linecap:round; stroke-linejoin:round; stroke-width:2; stroke-opacity:0.1; fill:none\" points=\"\n",
       "  170.719,638.642 2352.76,638.642 \n",
       "  \"/>\n",
       "<polyline clip-path=\"url(#clip182)\" style=\"stroke:#000000; stroke-linecap:round; stroke-linejoin:round; stroke-width:2; stroke-opacity:0.1; fill:none\" points=\"\n",
       "  170.719,363.135 2352.76,363.135 \n",
       "  \"/>\n",
       "<polyline clip-path=\"url(#clip182)\" style=\"stroke:#000000; stroke-linecap:round; stroke-linejoin:round; stroke-width:2; stroke-opacity:0.1; fill:none\" points=\"\n",
       "  170.719,87.6286 2352.76,87.6286 \n",
       "  \"/>\n",
       "<polyline clip-path=\"url(#clip180)\" style=\"stroke:#000000; stroke-linecap:round; stroke-linejoin:round; stroke-width:4; stroke-opacity:1; fill:none\" points=\"\n",
       "  170.719,1474.16 170.719,47.2441 \n",
       "  \"/>\n",
       "<polyline clip-path=\"url(#clip180)\" style=\"stroke:#000000; stroke-linecap:round; stroke-linejoin:round; stroke-width:4; stroke-opacity:1; fill:none\" points=\"\n",
       "  170.719,1465.16 189.616,1465.16 \n",
       "  \"/>\n",
       "<polyline clip-path=\"url(#clip180)\" style=\"stroke:#000000; stroke-linecap:round; stroke-linejoin:round; stroke-width:4; stroke-opacity:1; fill:none\" points=\"\n",
       "  170.719,1189.66 189.616,1189.66 \n",
       "  \"/>\n",
       "<polyline clip-path=\"url(#clip180)\" style=\"stroke:#000000; stroke-linecap:round; stroke-linejoin:round; stroke-width:4; stroke-opacity:1; fill:none\" points=\"\n",
       "  170.719,914.149 189.616,914.149 \n",
       "  \"/>\n",
       "<polyline clip-path=\"url(#clip180)\" style=\"stroke:#000000; stroke-linecap:round; stroke-linejoin:round; stroke-width:4; stroke-opacity:1; fill:none\" points=\"\n",
       "  170.719,638.642 189.616,638.642 \n",
       "  \"/>\n",
       "<polyline clip-path=\"url(#clip180)\" style=\"stroke:#000000; stroke-linecap:round; stroke-linejoin:round; stroke-width:4; stroke-opacity:1; fill:none\" points=\"\n",
       "  170.719,363.135 189.616,363.135 \n",
       "  \"/>\n",
       "<polyline clip-path=\"url(#clip180)\" style=\"stroke:#000000; stroke-linecap:round; stroke-linejoin:round; stroke-width:4; stroke-opacity:1; fill:none\" points=\"\n",
       "  170.719,87.6286 189.616,87.6286 \n",
       "  \"/>\n",
       "<path clip-path=\"url(#clip180)\" d=\"M66.617 1463.81 Q69.9735 1464.53 71.8485 1466.79 Q73.7466 1469.06 73.7466 1472.4 Q73.7466 1477.51 70.2281 1480.31 Q66.7096 1483.11 60.2282 1483.11 Q58.0523 1483.11 55.7375 1482.67 Q53.4458 1482.26 50.9921 1481.4 L50.9921 1476.89 Q52.9366 1478.02 55.2514 1478.6 Q57.5662 1479.18 60.0893 1479.18 Q64.4874 1479.18 66.7791 1477.44 Q69.0939 1475.71 69.0939 1472.4 Q69.0939 1469.34 66.9411 1467.63 Q64.8115 1465.89 60.9921 1465.89 L56.9643 1465.89 L56.9643 1462.05 L61.1773 1462.05 Q64.6263 1462.05 66.455 1460.68 Q68.2837 1459.29 68.2837 1456.7 Q68.2837 1454.04 66.3856 1452.63 Q64.5106 1451.19 60.9921 1451.19 Q59.0708 1451.19 56.8717 1451.61 Q54.6727 1452.03 52.0338 1452.91 L52.0338 1448.74 Q54.6958 1448 57.0106 1447.63 Q59.3486 1447.26 61.4087 1447.26 Q66.7328 1447.26 69.8346 1449.69 Q72.9365 1452.1 72.9365 1456.22 Q72.9365 1459.09 71.2929 1461.08 Q69.6494 1463.04 66.617 1463.81 Z\" fill=\"#000000\" fill-rule=\"evenodd\" fill-opacity=\"1\" /><path clip-path=\"url(#clip180)\" d=\"M92.6123 1450.96 Q89.0012 1450.96 87.1725 1454.53 Q85.3669 1458.07 85.3669 1465.2 Q85.3669 1472.3 87.1725 1475.87 Q89.0012 1479.41 92.6123 1479.41 Q96.2465 1479.41 98.0521 1475.87 Q99.8808 1472.3 99.8808 1465.2 Q99.8808 1458.07 98.0521 1454.53 Q96.2465 1450.96 92.6123 1450.96 M92.6123 1447.26 Q98.4224 1447.26 101.478 1451.86 Q104.557 1456.45 104.557 1465.2 Q104.557 1473.92 101.478 1478.53 Q98.4224 1483.11 92.6123 1483.11 Q86.8021 1483.11 83.7234 1478.53 Q80.6679 1473.92 80.6679 1465.2 Q80.6679 1456.45 83.7234 1451.86 Q86.8021 1447.26 92.6123 1447.26 Z\" fill=\"#000000\" fill-rule=\"evenodd\" fill-opacity=\"1\" /><path clip-path=\"url(#clip180)\" d=\"M122.774 1450.96 Q119.163 1450.96 117.334 1454.53 Q115.529 1458.07 115.529 1465.2 Q115.529 1472.3 117.334 1475.87 Q119.163 1479.41 122.774 1479.41 Q126.408 1479.41 128.214 1475.87 Q130.043 1472.3 130.043 1465.2 Q130.043 1458.07 128.214 1454.53 Q126.408 1450.96 122.774 1450.96 M122.774 1447.26 Q128.584 1447.26 131.64 1451.86 Q134.719 1456.45 134.719 1465.2 Q134.719 1473.92 131.64 1478.53 Q128.584 1483.11 122.774 1483.11 Q116.964 1483.11 113.885 1478.53 Q110.83 1473.92 110.83 1465.2 Q110.83 1456.45 113.885 1451.86 Q116.964 1447.26 122.774 1447.26 Z\" fill=\"#000000\" fill-rule=\"evenodd\" fill-opacity=\"1\" /><path clip-path=\"url(#clip180)\" d=\"M66.617 1188.3 Q69.9735 1189.02 71.8485 1191.29 Q73.7466 1193.56 73.7466 1196.89 Q73.7466 1202.01 70.2281 1204.81 Q66.7096 1207.61 60.2282 1207.61 Q58.0523 1207.61 55.7375 1207.17 Q53.4458 1206.75 50.9921 1205.89 L50.9921 1201.38 Q52.9366 1202.51 55.2514 1203.09 Q57.5662 1203.67 60.0893 1203.67 Q64.4874 1203.67 66.7791 1201.94 Q69.0939 1200.2 69.0939 1196.89 Q69.0939 1193.83 66.9411 1192.12 Q64.8115 1190.39 60.9921 1190.39 L56.9643 1190.39 L56.9643 1186.54 L61.1773 1186.54 Q64.6263 1186.54 66.455 1185.18 Q68.2837 1183.79 68.2837 1181.2 Q68.2837 1178.53 66.3856 1177.12 Q64.5106 1175.69 60.9921 1175.69 Q59.0708 1175.69 56.8717 1176.1 Q54.6727 1176.52 52.0338 1177.4 L52.0338 1173.23 Q54.6958 1172.49 57.0106 1172.12 Q59.3486 1171.75 61.4087 1171.75 Q66.7328 1171.75 69.8346 1174.18 Q72.9365 1176.59 72.9365 1180.71 Q72.9365 1183.58 71.2929 1185.57 Q69.6494 1187.54 66.617 1188.3 Z\" fill=\"#000000\" fill-rule=\"evenodd\" fill-opacity=\"1\" /><path clip-path=\"url(#clip180)\" d=\"M83.4225 1203 L91.0614 1203 L91.0614 1176.64 L82.7512 1178.3 L82.7512 1174.04 L91.0151 1172.38 L95.691 1172.38 L95.691 1203 L103.33 1203 L103.33 1206.94 L83.4225 1206.94 L83.4225 1203 Z\" fill=\"#000000\" fill-rule=\"evenodd\" fill-opacity=\"1\" /><path clip-path=\"url(#clip180)\" d=\"M122.774 1175.45 Q119.163 1175.45 117.334 1179.02 Q115.529 1182.56 115.529 1189.69 Q115.529 1196.8 117.334 1200.36 Q119.163 1203.9 122.774 1203.9 Q126.408 1203.9 128.214 1200.36 Q130.043 1196.8 130.043 1189.69 Q130.043 1182.56 128.214 1179.02 Q126.408 1175.45 122.774 1175.45 M122.774 1171.75 Q128.584 1171.75 131.64 1176.36 Q134.719 1180.94 134.719 1189.69 Q134.719 1198.42 131.64 1203.02 Q128.584 1207.61 122.774 1207.61 Q116.964 1207.61 113.885 1203.02 Q110.83 1198.42 110.83 1189.69 Q110.83 1180.94 113.885 1176.36 Q116.964 1171.75 122.774 1171.75 Z\" fill=\"#000000\" fill-rule=\"evenodd\" fill-opacity=\"1\" /><path clip-path=\"url(#clip180)\" d=\"M66.617 912.795 Q69.9735 913.513 71.8485 915.781 Q73.7466 918.05 73.7466 921.383 Q73.7466 926.499 70.2281 929.3 Q66.7096 932.1 60.2282 932.1 Q58.0523 932.1 55.7375 931.661 Q53.4458 931.244 50.9921 930.388 L50.9921 925.874 Q52.9366 927.008 55.2514 927.587 Q57.5662 928.165 60.0893 928.165 Q64.4874 928.165 66.7791 926.429 Q69.0939 924.693 69.0939 921.383 Q69.0939 918.327 66.9411 916.614 Q64.8115 914.878 60.9921 914.878 L56.9643 914.878 L56.9643 911.036 L61.1773 911.036 Q64.6263 911.036 66.455 909.67 Q68.2837 908.281 68.2837 905.689 Q68.2837 903.027 66.3856 901.615 Q64.5106 900.179 60.9921 900.179 Q59.0708 900.179 56.8717 900.596 Q54.6727 901.013 52.0338 901.892 L52.0338 897.726 Q54.6958 896.985 57.0106 896.615 Q59.3486 896.244 61.4087 896.244 Q66.7328 896.244 69.8346 898.675 Q72.9365 901.082 72.9365 905.202 Q72.9365 908.073 71.2929 910.064 Q69.6494 912.031 66.617 912.795 Z\" fill=\"#000000\" fill-rule=\"evenodd\" fill-opacity=\"1\" /><path clip-path=\"url(#clip180)\" d=\"M86.6401 927.494 L102.959 927.494 L102.959 931.429 L81.0151 931.429 L81.0151 927.494 Q83.6771 924.739 88.2604 920.11 Q92.8669 915.457 94.0475 914.114 Q96.2928 911.591 97.1724 909.855 Q98.0752 908.096 98.0752 906.406 Q98.0752 903.652 96.1308 901.915 Q94.2095 900.179 91.1077 900.179 Q88.9086 900.179 86.4549 900.943 Q84.0244 901.707 81.2466 903.258 L81.2466 898.536 Q84.0707 897.402 86.5243 896.823 Q88.978 896.244 91.0151 896.244 Q96.3854 896.244 99.5798 898.929 Q102.774 901.615 102.774 906.105 Q102.774 908.235 101.964 910.156 Q101.177 912.054 99.0706 914.647 Q98.4919 915.318 95.39 918.536 Q92.2882 921.73 86.6401 927.494 Z\" fill=\"#000000\" fill-rule=\"evenodd\" fill-opacity=\"1\" /><path clip-path=\"url(#clip180)\" d=\"M122.774 899.948 Q119.163 899.948 117.334 903.513 Q115.529 907.054 115.529 914.184 Q115.529 921.29 117.334 924.855 Q119.163 928.397 122.774 928.397 Q126.408 928.397 128.214 924.855 Q130.043 921.29 130.043 914.184 Q130.043 907.054 128.214 903.513 Q126.408 899.948 122.774 899.948 M122.774 896.244 Q128.584 896.244 131.64 900.851 Q134.719 905.434 134.719 914.184 Q134.719 922.911 131.64 927.517 Q128.584 932.1 122.774 932.1 Q116.964 932.1 113.885 927.517 Q110.83 922.911 110.83 914.184 Q110.83 905.434 113.885 900.851 Q116.964 896.244 122.774 896.244 Z\" fill=\"#000000\" fill-rule=\"evenodd\" fill-opacity=\"1\" /><path clip-path=\"url(#clip180)\" d=\"M66.617 637.288 Q69.9735 638.006 71.8485 640.274 Q73.7466 642.543 73.7466 645.876 Q73.7466 650.992 70.2281 653.793 Q66.7096 656.594 60.2282 656.594 Q58.0523 656.594 55.7375 656.154 Q53.4458 655.737 50.9921 654.881 L50.9921 650.367 Q52.9366 651.501 55.2514 652.08 Q57.5662 652.658 60.0893 652.658 Q64.4874 652.658 66.7791 650.922 Q69.0939 649.186 69.0939 645.876 Q69.0939 642.821 66.9411 641.108 Q64.8115 639.371 60.9921 639.371 L56.9643 639.371 L56.9643 635.529 L61.1773 635.529 Q64.6263 635.529 66.455 634.163 Q68.2837 632.774 68.2837 630.182 Q68.2837 627.52 66.3856 626.108 Q64.5106 624.672 60.9921 624.672 Q59.0708 624.672 56.8717 625.089 Q54.6727 625.506 52.0338 626.385 L52.0338 622.219 Q54.6958 621.478 57.0106 621.108 Q59.3486 620.737 61.4087 620.737 Q66.7328 620.737 69.8346 623.168 Q72.9365 625.575 72.9365 629.696 Q72.9365 632.566 71.2929 634.557 Q69.6494 636.524 66.617 637.288 Z\" fill=\"#000000\" fill-rule=\"evenodd\" fill-opacity=\"1\" /><path clip-path=\"url(#clip180)\" d=\"M96.7789 637.288 Q100.135 638.006 102.01 640.274 Q103.909 642.543 103.909 645.876 Q103.909 650.992 100.39 653.793 Q96.8715 656.594 90.3901 656.594 Q88.2141 656.594 85.8993 656.154 Q83.6077 655.737 81.154 654.881 L81.154 650.367 Q83.0984 651.501 85.4132 652.08 Q87.728 652.658 90.2512 652.658 Q94.6493 652.658 96.941 650.922 Q99.2558 649.186 99.2558 645.876 Q99.2558 642.821 97.103 641.108 Q94.9734 639.371 91.1539 639.371 L87.1262 639.371 L87.1262 635.529 L91.3391 635.529 Q94.7882 635.529 96.6169 634.163 Q98.4456 632.774 98.4456 630.182 Q98.4456 627.52 96.5474 626.108 Q94.6724 624.672 91.1539 624.672 Q89.2327 624.672 87.0336 625.089 Q84.8345 625.506 82.1957 626.385 L82.1957 622.219 Q84.8577 621.478 87.1725 621.108 Q89.5104 620.737 91.5706 620.737 Q96.8947 620.737 99.9965 623.168 Q103.098 625.575 103.098 629.696 Q103.098 632.566 101.455 634.557 Q99.8113 636.524 96.7789 637.288 Z\" fill=\"#000000\" fill-rule=\"evenodd\" fill-opacity=\"1\" /><path clip-path=\"url(#clip180)\" d=\"M122.774 624.441 Q119.163 624.441 117.334 628.006 Q115.529 631.547 115.529 638.677 Q115.529 645.783 117.334 649.348 Q119.163 652.89 122.774 652.89 Q126.408 652.89 128.214 649.348 Q130.043 645.783 130.043 638.677 Q130.043 631.547 128.214 628.006 Q126.408 624.441 122.774 624.441 M122.774 620.737 Q128.584 620.737 131.64 625.344 Q134.719 629.927 134.719 638.677 Q134.719 647.404 131.64 652.01 Q128.584 656.594 122.774 656.594 Q116.964 656.594 113.885 652.01 Q110.83 647.404 110.83 638.677 Q110.83 629.927 113.885 625.344 Q116.964 620.737 122.774 620.737 Z\" fill=\"#000000\" fill-rule=\"evenodd\" fill-opacity=\"1\" /><path clip-path=\"url(#clip180)\" d=\"M66.617 361.781 Q69.9735 362.499 71.8485 364.767 Q73.7466 367.036 73.7466 370.369 Q73.7466 375.485 70.2281 378.286 Q66.7096 381.087 60.2282 381.087 Q58.0523 381.087 55.7375 380.647 Q53.4458 380.23 50.9921 379.374 L50.9921 374.86 Q52.9366 375.994 55.2514 376.573 Q57.5662 377.152 60.0893 377.152 Q64.4874 377.152 66.7791 375.416 Q69.0939 373.679 69.0939 370.369 Q69.0939 367.314 66.9411 365.601 Q64.8115 363.865 60.9921 363.865 L56.9643 363.865 L56.9643 360.022 L61.1773 360.022 Q64.6263 360.022 66.455 358.656 Q68.2837 357.267 68.2837 354.675 Q68.2837 352.013 66.3856 350.601 Q64.5106 349.166 60.9921 349.166 Q59.0708 349.166 56.8717 349.582 Q54.6727 349.999 52.0338 350.879 L52.0338 346.712 Q54.6958 345.971 57.0106 345.601 Q59.3486 345.23 61.4087 345.23 Q66.7328 345.23 69.8346 347.661 Q72.9365 350.068 72.9365 354.189 Q72.9365 357.059 71.2929 359.05 Q69.6494 361.017 66.617 361.781 Z\" fill=\"#000000\" fill-rule=\"evenodd\" fill-opacity=\"1\" /><path clip-path=\"url(#clip180)\" d=\"M95.4595 349.93 L83.654 368.379 L95.4595 368.379 L95.4595 349.93 M94.2326 345.855 L100.112 345.855 L100.112 368.379 L105.043 368.379 L105.043 372.267 L100.112 372.267 L100.112 380.415 L95.4595 380.415 L95.4595 372.267 L79.8577 372.267 L79.8577 367.754 L94.2326 345.855 Z\" fill=\"#000000\" fill-rule=\"evenodd\" fill-opacity=\"1\" /><path clip-path=\"url(#clip180)\" d=\"M122.774 348.934 Q119.163 348.934 117.334 352.499 Q115.529 356.041 115.529 363.17 Q115.529 370.277 117.334 373.841 Q119.163 377.383 122.774 377.383 Q126.408 377.383 128.214 373.841 Q130.043 370.277 130.043 363.17 Q130.043 356.041 128.214 352.499 Q126.408 348.934 122.774 348.934 M122.774 345.23 Q128.584 345.23 131.64 349.837 Q134.719 354.42 134.719 363.17 Q134.719 371.897 131.64 376.503 Q128.584 381.087 122.774 381.087 Q116.964 381.087 113.885 376.503 Q110.83 371.897 110.83 363.17 Q110.83 354.42 113.885 349.837 Q116.964 345.23 122.774 345.23 Z\" fill=\"#000000\" fill-rule=\"evenodd\" fill-opacity=\"1\" /><path clip-path=\"url(#clip180)\" d=\"M66.617 86.2745 Q69.9735 86.9921 71.8485 89.2606 Q73.7466 91.5291 73.7466 94.8624 Q73.7466 99.9781 70.2281 102.779 Q66.7096 105.58 60.2282 105.58 Q58.0523 105.58 55.7375 105.14 Q53.4458 104.723 50.9921 103.867 L50.9921 99.3531 Q52.9366 100.487 55.2514 101.066 Q57.5662 101.645 60.0893 101.645 Q64.4874 101.645 66.7791 99.9087 Q69.0939 98.1726 69.0939 94.8624 Q69.0939 91.8069 66.9411 90.0939 Q64.8115 88.3578 60.9921 88.3578 L56.9643 88.3578 L56.9643 84.5152 L61.1773 84.5152 Q64.6263 84.5152 66.455 83.1495 Q68.2837 81.7606 68.2837 79.168 Q68.2837 76.506 66.3856 75.094 Q64.5106 73.6588 60.9921 73.6588 Q59.0708 73.6588 56.8717 74.0755 Q54.6727 74.4921 52.0338 75.3718 L52.0338 71.2051 Q54.6958 70.4644 57.0106 70.094 Q59.3486 69.7236 61.4087 69.7236 Q66.7328 69.7236 69.8346 72.1542 Q72.9365 74.5616 72.9365 78.6819 Q72.9365 81.5523 71.2929 83.543 Q69.6494 85.5106 66.617 86.2745 Z\" fill=\"#000000\" fill-rule=\"evenodd\" fill-opacity=\"1\" /><path clip-path=\"url(#clip180)\" d=\"M82.6586 70.3486 L101.015 70.3486 L101.015 74.2838 L86.941 74.2838 L86.941 82.756 Q87.9595 82.4088 88.978 82.2467 Q89.9965 82.0615 91.0151 82.0615 Q96.8021 82.0615 100.182 85.2328 Q103.561 88.4041 103.561 93.8207 Q103.561 99.3994 100.089 102.501 Q96.6169 105.58 90.2975 105.58 Q88.1216 105.58 85.8531 105.21 Q83.6077 104.839 81.2003 104.098 L81.2003 99.3994 Q83.2836 100.534 85.5058 101.089 Q87.728 101.645 90.2049 101.645 Q94.2095 101.645 96.5474 99.5383 Q98.8854 97.4318 98.8854 93.8207 Q98.8854 90.2096 96.5474 88.1032 Q94.2095 85.9967 90.2049 85.9967 Q88.3299 85.9967 86.4549 86.4134 Q84.6031 86.83 82.6586 87.7097 L82.6586 70.3486 Z\" fill=\"#000000\" fill-rule=\"evenodd\" fill-opacity=\"1\" /><path clip-path=\"url(#clip180)\" d=\"M122.774 73.4273 Q119.163 73.4273 117.334 76.9921 Q115.529 80.5338 115.529 87.6634 Q115.529 94.7698 117.334 98.3346 Q119.163 101.876 122.774 101.876 Q126.408 101.876 128.214 98.3346 Q130.043 94.7698 130.043 87.6634 Q130.043 80.5338 128.214 76.9921 Q126.408 73.4273 122.774 73.4273 M122.774 69.7236 Q128.584 69.7236 131.64 74.3301 Q134.719 78.9134 134.719 87.6634 Q134.719 96.3902 131.64 100.997 Q128.584 105.58 122.774 105.58 Q116.964 105.58 113.885 100.997 Q110.83 96.3902 110.83 87.6634 Q110.83 78.9134 113.885 74.3301 Q116.964 69.7236 122.774 69.7236 Z\" fill=\"#000000\" fill-rule=\"evenodd\" fill-opacity=\"1\" /><polyline clip-path=\"url(#clip182)\" style=\"stroke:#009af9; stroke-linecap:round; stroke-linejoin:round; stroke-width:4; stroke-opacity:1; fill:none\" points=\"\n",
       "  232.474,1433.78 235.825,1432.55 239.175,1431.28 242.526,1429.97 245.876,1428.62 261.367,1421.79 276.857,1413.93 292.347,1404.94 307.837,1394.71 323.328,1383.14 \n",
       "  338.818,1370.13 354.308,1355.59 369.798,1339.42 388.416,1317.72 407.034,1293.44 425.652,1266.5 444.27,1236.85 460.012,1209.65 475.753,1180.53 491.494,1149.53 \n",
       "  507.236,1116.72 524.335,1079.15 541.434,1039.71 558.534,998.612 575.633,956.065 607.162,874.691 638.69,791.049 672.492,701.049 706.293,613.055 725.875,563.89 \n",
       "  745.456,516.544 765.037,471.362 784.619,428.632 802.02,392.905 819.422,359.418 836.823,328.256 854.225,299.462 869.484,276.17 884.744,254.692 900.003,234.996 \n",
       "  915.263,217.033 931.9,199.348 948.537,183.552 965.174,169.534 981.811,157.174 998.547,146.289 1015.28,136.824 1032.02,128.649 1048.75,121.634 1067.26,115.079 \n",
       "  1085.76,109.629 1104.27,105.134 1122.77,101.457 1157.98,96.2805 1193.19,92.8995 1266.42,89.354 1328.06,88.2439 1403.31,87.7845 1472.25,87.6683 1535.92,87.6388 \n",
       "  1600.41,87.631 1672.69,87.629 1738.19,87.6287 1813.18,87.6286 1882.61,87.6286 1951.07,87.6286 2017.53,87.6286 2085.67,87.6286 2160.31,87.6286 2268.75,87.6286 \n",
       "  2291,87.6286 \n",
       "  \"/>\n",
       "<path clip-path=\"url(#clip180)\" d=\"\n",
       "M243.453 198.488 L514.087 198.488 L514.087 94.8081 L243.453 94.8081  Z\n",
       "  \" fill=\"#ffffff\" fill-rule=\"evenodd\" fill-opacity=\"1\"/>\n",
       "<polyline clip-path=\"url(#clip180)\" style=\"stroke:#000000; stroke-linecap:round; stroke-linejoin:round; stroke-width:4; stroke-opacity:1; fill:none\" points=\"\n",
       "  243.453,198.488 514.087,198.488 514.087,94.8081 243.453,94.8081 243.453,198.488 \n",
       "  \"/>\n",
       "<polyline clip-path=\"url(#clip180)\" style=\"stroke:#009af9; stroke-linecap:round; stroke-linejoin:round; stroke-width:4; stroke-opacity:1; fill:none\" points=\"\n",
       "  267.698,146.648 413.167,146.648 \n",
       "  \"/>\n",
       "<path clip-path=\"url(#clip180)\" d=\"M451.255 166.336 Q449.449 170.965 447.736 172.377 Q446.023 173.789 443.153 173.789 L439.75 173.789 L439.75 170.224 L442.25 170.224 Q444.009 170.224 444.981 169.391 Q445.954 168.558 447.134 165.456 L447.898 163.511 L437.412 138.002 L441.926 138.002 L450.028 158.28 L458.129 138.002 L462.643 138.002 L451.255 166.336 Z\" fill=\"#000000\" fill-rule=\"evenodd\" fill-opacity=\"1\" /><path clip-path=\"url(#clip180)\" d=\"M469.935 159.993 L477.574 159.993 L477.574 133.627 L469.264 135.294 L469.264 131.035 L477.528 129.368 L482.203 129.368 L482.203 159.993 L489.842 159.993 L489.842 163.928 L469.935 163.928 L469.935 159.993 Z\" fill=\"#000000\" fill-rule=\"evenodd\" fill-opacity=\"1\" /></svg>\n"
      ]
     },
     "execution_count": 8,
     "metadata": {},
     "output_type": "execute_result"
    }
   ],
   "source": [
    "hS = uMax/10\n",
    "F_Temp(x) = (T0 - TAppMax) * interval(x,-4*hS+uMin,uTran_Temp)\n",
    "wₕ(x,x₁) = (1/(sqrt(2*pi)*hS))*exp(-(x-x₁)^2/(2*hS^2))\n",
    "smoothT = SymPy.integrate(F_Temp(x₁)*wₕ(x,x₁),(x₁,-4*hS,uMax)) +  TAppMax\n",
    "plot(smoothT,0,uMax)"
   ]
  },
  {
   "cell_type": "code",
   "execution_count": 9,
   "id": "b946c25e",
   "metadata": {},
   "outputs": [
    {
     "data": {
      "image/svg+xml": [
       "<?xml version=\"1.0\" encoding=\"utf-8\"?>\n",
       "<svg xmlns=\"http://www.w3.org/2000/svg\" xmlns:xlink=\"http://www.w3.org/1999/xlink\" width=\"600\" height=\"400\" viewBox=\"0 0 2400 1600\">\n",
       "<defs>\n",
       "  <clipPath id=\"clip220\">\n",
       "    <rect x=\"0\" y=\"0\" width=\"2400\" height=\"1600\"/>\n",
       "  </clipPath>\n",
       "</defs>\n",
       "<path clip-path=\"url(#clip220)\" d=\"\n",
       "M0 1600 L2400 1600 L2400 0 L0 0  Z\n",
       "  \" fill=\"#ffffff\" fill-rule=\"evenodd\" fill-opacity=\"1\"/>\n",
       "<defs>\n",
       "  <clipPath id=\"clip221\">\n",
       "    <rect x=\"480\" y=\"0\" width=\"1681\" height=\"1600\"/>\n",
       "  </clipPath>\n",
       "</defs>\n",
       "<path clip-path=\"url(#clip220)\" d=\"\n",
       "M199.283 1474.16 L2352.76 1474.16 L2352.76 47.2441 L199.283 47.2441  Z\n",
       "  \" fill=\"#ffffff\" fill-rule=\"evenodd\" fill-opacity=\"1\"/>\n",
       "<defs>\n",
       "  <clipPath id=\"clip222\">\n",
       "    <rect x=\"199\" y=\"47\" width=\"2154\" height=\"1428\"/>\n",
       "  </clipPath>\n",
       "</defs>\n",
       "<polyline clip-path=\"url(#clip222)\" style=\"stroke:#000000; stroke-linecap:round; stroke-linejoin:round; stroke-width:2; stroke-opacity:0.1; fill:none\" points=\"\n",
       "  260.231,1474.16 260.231,47.2441 \n",
       "  \"/>\n",
       "<polyline clip-path=\"url(#clip222)\" style=\"stroke:#000000; stroke-linecap:round; stroke-linejoin:round; stroke-width:2; stroke-opacity:0.1; fill:none\" points=\"\n",
       "  840.681,1474.16 840.681,47.2441 \n",
       "  \"/>\n",
       "<polyline clip-path=\"url(#clip222)\" style=\"stroke:#000000; stroke-linecap:round; stroke-linejoin:round; stroke-width:2; stroke-opacity:0.1; fill:none\" points=\"\n",
       "  1421.13,1474.16 1421.13,47.2441 \n",
       "  \"/>\n",
       "<polyline clip-path=\"url(#clip222)\" style=\"stroke:#000000; stroke-linecap:round; stroke-linejoin:round; stroke-width:2; stroke-opacity:0.1; fill:none\" points=\"\n",
       "  2001.58,1474.16 2001.58,47.2441 \n",
       "  \"/>\n",
       "<polyline clip-path=\"url(#clip220)\" style=\"stroke:#000000; stroke-linecap:round; stroke-linejoin:round; stroke-width:4; stroke-opacity:1; fill:none\" points=\"\n",
       "  199.283,1474.16 2352.76,1474.16 \n",
       "  \"/>\n",
       "<polyline clip-path=\"url(#clip220)\" style=\"stroke:#000000; stroke-linecap:round; stroke-linejoin:round; stroke-width:4; stroke-opacity:1; fill:none\" points=\"\n",
       "  260.231,1474.16 260.231,1455.27 \n",
       "  \"/>\n",
       "<polyline clip-path=\"url(#clip220)\" style=\"stroke:#000000; stroke-linecap:round; stroke-linejoin:round; stroke-width:4; stroke-opacity:1; fill:none\" points=\"\n",
       "  840.681,1474.16 840.681,1455.27 \n",
       "  \"/>\n",
       "<polyline clip-path=\"url(#clip220)\" style=\"stroke:#000000; stroke-linecap:round; stroke-linejoin:round; stroke-width:4; stroke-opacity:1; fill:none\" points=\"\n",
       "  1421.13,1474.16 1421.13,1455.27 \n",
       "  \"/>\n",
       "<polyline clip-path=\"url(#clip220)\" style=\"stroke:#000000; stroke-linecap:round; stroke-linejoin:round; stroke-width:4; stroke-opacity:1; fill:none\" points=\"\n",
       "  2001.58,1474.16 2001.58,1455.27 \n",
       "  \"/>\n",
       "<path clip-path=\"url(#clip220)\" d=\"M260.231 1505.08 Q256.619 1505.08 254.791 1508.65 Q252.985 1512.19 252.985 1519.32 Q252.985 1526.43 254.791 1529.99 Q256.619 1533.53 260.231 1533.53 Q263.865 1533.53 265.67 1529.99 Q267.499 1526.43 267.499 1519.32 Q267.499 1512.19 265.67 1508.65 Q263.865 1505.08 260.231 1505.08 M260.231 1501.38 Q266.041 1501.38 269.096 1505.99 Q272.175 1510.57 272.175 1519.32 Q272.175 1528.05 269.096 1532.65 Q266.041 1537.24 260.231 1537.24 Q254.42 1537.24 251.342 1532.65 Q248.286 1528.05 248.286 1519.32 Q248.286 1510.57 251.342 1505.99 Q254.42 1501.38 260.231 1501.38 Z\" fill=\"#000000\" fill-rule=\"evenodd\" fill-opacity=\"1\" /><path clip-path=\"url(#clip220)\" d=\"M732.675 1548.29 L740.314 1548.29 L740.314 1521.92 L732.004 1523.59 L732.004 1519.33 L740.267 1517.66 L744.943 1517.66 L744.943 1548.29 L752.582 1548.29 L752.582 1552.22 L732.675 1552.22 L732.675 1548.29 Z\" fill=\"#000000\" fill-rule=\"evenodd\" fill-opacity=\"1\" /><path clip-path=\"url(#clip220)\" d=\"M762.027 1546.35 L766.911 1546.35 L766.911 1552.22 L762.027 1552.22 L762.027 1546.35 Z\" fill=\"#000000\" fill-rule=\"evenodd\" fill-opacity=\"1\" /><path clip-path=\"url(#clip220)\" d=\"M787.096 1520.74 Q783.485 1520.74 781.656 1524.31 Q779.851 1527.85 779.851 1534.98 Q779.851 1542.09 781.656 1545.65 Q783.485 1549.19 787.096 1549.19 Q790.73 1549.19 792.536 1545.65 Q794.364 1542.09 794.364 1534.98 Q794.364 1527.85 792.536 1524.31 Q790.73 1520.74 787.096 1520.74 M787.096 1517.04 Q792.906 1517.04 795.962 1521.65 Q799.04 1526.23 799.04 1534.98 Q799.04 1543.71 795.962 1548.31 Q792.906 1552.9 787.096 1552.9 Q781.286 1552.9 778.207 1548.31 Q775.152 1543.71 775.152 1534.98 Q775.152 1526.23 778.207 1521.65 Q781.286 1517.04 787.096 1517.04 Z\" fill=\"#000000\" fill-rule=\"evenodd\" fill-opacity=\"1\" /><path clip-path=\"url(#clip220)\" d=\"M835.429 1526.76 L824.85 1537.39 L835.429 1547.97 L832.674 1550.77 L822.049 1540.14 L811.424 1550.77 L808.693 1547.97 L819.248 1537.39 L808.693 1526.76 L811.424 1523.96 L822.049 1534.59 L832.674 1523.96 L835.429 1526.76 Z\" fill=\"#000000\" fill-rule=\"evenodd\" fill-opacity=\"1\" /><path clip-path=\"url(#clip220)\" d=\"M847.79 1548.29 L855.429 1548.29 L855.429 1521.92 L847.119 1523.59 L847.119 1519.33 L855.383 1517.66 L860.058 1517.66 L860.058 1548.29 L867.697 1548.29 L867.697 1552.22 L847.79 1552.22 L847.79 1548.29 Z\" fill=\"#000000\" fill-rule=\"evenodd\" fill-opacity=\"1\" /><path clip-path=\"url(#clip220)\" d=\"M887.142 1520.74 Q883.531 1520.74 881.702 1524.31 Q879.896 1527.85 879.896 1534.98 Q879.896 1542.09 881.702 1545.65 Q883.531 1549.19 887.142 1549.19 Q890.776 1549.19 892.581 1545.65 Q894.41 1542.09 894.41 1534.98 Q894.41 1527.85 892.581 1524.31 Q890.776 1520.74 887.142 1520.74 M887.142 1517.04 Q892.952 1517.04 896.007 1521.65 Q899.086 1526.23 899.086 1534.98 Q899.086 1543.71 896.007 1548.31 Q892.952 1552.9 887.142 1552.9 Q881.331 1552.9 878.253 1548.31 Q875.197 1543.71 875.197 1534.98 Q875.197 1526.23 878.253 1521.65 Q881.331 1517.04 887.142 1517.04 Z\" fill=\"#000000\" fill-rule=\"evenodd\" fill-opacity=\"1\" /><path clip-path=\"url(#clip220)\" d=\"M899.086 1511.14 L923.198 1511.14 L923.198 1514.34 L899.086 1514.34 L899.086 1511.14 Z\" fill=\"#000000\" fill-rule=\"evenodd\" fill-opacity=\"1\" /><path clip-path=\"url(#clip220)\" d=\"M939.993 1509.26 Q937.435 1509.26 935.93 1511.01 Q934.445 1512.76 934.445 1515.81 Q934.445 1518.83 935.93 1520.6 Q937.435 1522.35 939.993 1522.35 Q942.551 1522.35 944.037 1520.6 Q945.541 1518.83 945.541 1515.81 Q945.541 1512.76 944.037 1511.01 Q942.551 1509.26 939.993 1509.26 M947.535 1497.35 L947.535 1500.82 Q946.105 1500.14 944.638 1499.78 Q943.19 1499.42 941.761 1499.42 Q937.999 1499.42 936.006 1501.96 Q934.031 1504.5 933.749 1509.64 Q934.858 1508 936.532 1507.13 Q938.206 1506.25 940.219 1506.25 Q944.45 1506.25 946.895 1508.83 Q949.359 1511.39 949.359 1515.81 Q949.359 1520.13 946.801 1522.75 Q944.243 1525.36 939.993 1525.36 Q935.122 1525.36 932.545 1521.64 Q929.968 1517.89 929.968 1510.8 Q929.968 1504.14 933.128 1500.19 Q936.288 1496.23 941.61 1496.23 Q943.04 1496.23 944.488 1496.51 Q945.955 1496.79 947.535 1497.35 Z\" fill=\"#000000\" fill-rule=\"evenodd\" fill-opacity=\"1\" /><path clip-path=\"url(#clip220)\" d=\"M1317.21 1548.29 L1333.53 1548.29 L1333.53 1552.22 L1311.59 1552.22 L1311.59 1548.29 Q1314.25 1545.53 1318.83 1540.91 Q1323.44 1536.25 1324.62 1534.91 Q1326.86 1532.39 1327.74 1530.65 Q1328.65 1528.89 1328.65 1527.2 Q1328.65 1524.45 1326.7 1522.71 Q1324.78 1520.97 1321.68 1520.97 Q1319.48 1520.97 1317.03 1521.74 Q1314.6 1522.5 1311.82 1524.05 L1311.82 1519.33 Q1314.64 1518.2 1317.1 1517.62 Q1319.55 1517.04 1321.59 1517.04 Q1326.96 1517.04 1330.15 1519.72 Q1333.35 1522.41 1333.35 1526.9 Q1333.35 1529.03 1332.54 1530.95 Q1331.75 1532.85 1329.64 1535.44 Q1329.06 1536.11 1325.96 1539.33 Q1322.86 1542.53 1317.21 1548.29 Z\" fill=\"#000000\" fill-rule=\"evenodd\" fill-opacity=\"1\" /><path clip-path=\"url(#clip220)\" d=\"M1343.35 1546.35 L1348.23 1546.35 L1348.23 1552.22 L1343.35 1552.22 L1343.35 1546.35 Z\" fill=\"#000000\" fill-rule=\"evenodd\" fill-opacity=\"1\" /><path clip-path=\"url(#clip220)\" d=\"M1368.41 1520.74 Q1364.8 1520.74 1362.98 1524.31 Q1361.17 1527.85 1361.17 1534.98 Q1361.17 1542.09 1362.98 1545.65 Q1364.8 1549.19 1368.41 1549.19 Q1372.05 1549.19 1373.85 1545.65 Q1375.68 1542.09 1375.68 1534.98 Q1375.68 1527.85 1373.85 1524.31 Q1372.05 1520.74 1368.41 1520.74 M1368.41 1517.04 Q1374.22 1517.04 1377.28 1521.65 Q1380.36 1526.23 1380.36 1534.98 Q1380.36 1543.71 1377.28 1548.31 Q1374.22 1552.9 1368.41 1552.9 Q1362.6 1552.9 1359.53 1548.31 Q1356.47 1543.71 1356.47 1534.98 Q1356.47 1526.23 1359.53 1521.65 Q1362.6 1517.04 1368.41 1517.04 Z\" fill=\"#000000\" fill-rule=\"evenodd\" fill-opacity=\"1\" /><path clip-path=\"url(#clip220)\" d=\"M1416.75 1526.76 L1406.17 1537.39 L1416.75 1547.97 L1413.99 1550.77 L1403.37 1540.14 L1392.74 1550.77 L1390.01 1547.97 L1400.57 1537.39 L1390.01 1526.76 L1392.74 1523.96 L1403.37 1534.59 L1413.99 1523.96 L1416.75 1526.76 Z\" fill=\"#000000\" fill-rule=\"evenodd\" fill-opacity=\"1\" /><path clip-path=\"url(#clip220)\" d=\"M1429.11 1548.29 L1436.75 1548.29 L1436.75 1521.92 L1428.44 1523.59 L1428.44 1519.33 L1436.7 1517.66 L1441.38 1517.66 L1441.38 1548.29 L1449.02 1548.29 L1449.02 1552.22 L1429.11 1552.22 L1429.11 1548.29 Z\" fill=\"#000000\" fill-rule=\"evenodd\" fill-opacity=\"1\" /><path clip-path=\"url(#clip220)\" d=\"M1468.46 1520.74 Q1464.85 1520.74 1463.02 1524.31 Q1461.22 1527.85 1461.22 1534.98 Q1461.22 1542.09 1463.02 1545.65 Q1464.85 1549.19 1468.46 1549.19 Q1472.09 1549.19 1473.9 1545.65 Q1475.73 1542.09 1475.73 1534.98 Q1475.73 1527.85 1473.9 1524.31 Q1472.09 1520.74 1468.46 1520.74 M1468.46 1517.04 Q1474.27 1517.04 1477.33 1521.65 Q1480.4 1526.23 1480.4 1534.98 Q1480.4 1543.71 1477.33 1548.31 Q1474.27 1552.9 1468.46 1552.9 Q1462.65 1552.9 1459.57 1548.31 Q1456.52 1543.71 1456.52 1534.98 Q1456.52 1526.23 1459.57 1521.65 Q1462.65 1517.04 1468.46 1517.04 Z\" fill=\"#000000\" fill-rule=\"evenodd\" fill-opacity=\"1\" /><path clip-path=\"url(#clip220)\" d=\"M1480.4 1511.14 L1504.52 1511.14 L1504.52 1514.34 L1480.4 1514.34 L1480.4 1511.14 Z\" fill=\"#000000\" fill-rule=\"evenodd\" fill-opacity=\"1\" /><path clip-path=\"url(#clip220)\" d=\"M1521.31 1509.26 Q1518.75 1509.26 1517.25 1511.01 Q1515.76 1512.76 1515.76 1515.81 Q1515.76 1518.83 1517.25 1520.6 Q1518.75 1522.35 1521.31 1522.35 Q1523.87 1522.35 1525.36 1520.6 Q1526.86 1518.83 1526.86 1515.81 Q1526.86 1512.76 1525.36 1511.01 Q1523.87 1509.26 1521.31 1509.26 M1528.85 1497.35 L1528.85 1500.82 Q1527.42 1500.14 1525.96 1499.78 Q1524.51 1499.42 1523.08 1499.42 Q1519.32 1499.42 1517.32 1501.96 Q1515.35 1504.5 1515.07 1509.64 Q1516.18 1508 1517.85 1507.13 Q1519.53 1506.25 1521.54 1506.25 Q1525.77 1506.25 1528.21 1508.83 Q1530.68 1511.39 1530.68 1515.81 Q1530.68 1520.13 1528.12 1522.75 Q1525.56 1525.36 1521.31 1525.36 Q1516.44 1525.36 1513.86 1521.64 Q1511.29 1517.89 1511.29 1510.8 Q1511.29 1504.14 1514.45 1500.19 Q1517.61 1496.23 1522.93 1496.23 Q1524.36 1496.23 1525.81 1496.51 Q1527.27 1496.79 1528.85 1497.35 Z\" fill=\"#000000\" fill-rule=\"evenodd\" fill-opacity=\"1\" /><path clip-path=\"url(#clip220)\" d=\"M1907.73 1533.59 Q1911.09 1534.31 1912.96 1536.58 Q1914.86 1538.85 1914.86 1542.18 Q1914.86 1547.29 1911.34 1550.1 Q1907.82 1552.9 1901.34 1552.9 Q1899.17 1552.9 1896.85 1552.46 Q1894.56 1552.04 1892.11 1551.18 L1892.11 1546.67 Q1894.05 1547.8 1896.37 1548.38 Q1898.68 1548.96 1901.2 1548.96 Q1905.6 1548.96 1907.89 1547.22 Q1910.21 1545.49 1910.21 1542.18 Q1910.21 1539.12 1908.06 1537.41 Q1905.93 1535.67 1902.11 1535.67 L1898.08 1535.67 L1898.08 1531.83 L1902.29 1531.83 Q1905.74 1531.83 1907.57 1530.47 Q1909.4 1529.08 1909.4 1526.48 Q1909.4 1523.82 1907.5 1522.41 Q1905.63 1520.97 1902.11 1520.97 Q1900.19 1520.97 1897.99 1521.39 Q1895.79 1521.81 1893.15 1522.69 L1893.15 1518.52 Q1895.81 1517.78 1898.13 1517.41 Q1900.46 1517.04 1902.52 1517.04 Q1907.85 1517.04 1910.95 1519.47 Q1914.05 1521.88 1914.05 1526 Q1914.05 1528.87 1912.41 1530.86 Q1910.76 1532.83 1907.73 1533.59 Z\" fill=\"#000000\" fill-rule=\"evenodd\" fill-opacity=\"1\" /><path clip-path=\"url(#clip220)\" d=\"M1923.73 1546.35 L1928.61 1546.35 L1928.61 1552.22 L1923.73 1552.22 L1923.73 1546.35 Z\" fill=\"#000000\" fill-rule=\"evenodd\" fill-opacity=\"1\" /><path clip-path=\"url(#clip220)\" d=\"M1948.8 1520.74 Q1945.19 1520.74 1943.36 1524.31 Q1941.55 1527.85 1941.55 1534.98 Q1941.55 1542.09 1943.36 1545.65 Q1945.19 1549.19 1948.8 1549.19 Q1952.43 1549.19 1954.24 1545.65 Q1956.06 1542.09 1956.06 1534.98 Q1956.06 1527.85 1954.24 1524.31 Q1952.43 1520.74 1948.8 1520.74 M1948.8 1517.04 Q1954.61 1517.04 1957.66 1521.65 Q1960.74 1526.23 1960.74 1534.98 Q1960.74 1543.71 1957.66 1548.31 Q1954.61 1552.9 1948.8 1552.9 Q1942.99 1552.9 1939.91 1548.31 Q1936.85 1543.71 1936.85 1534.98 Q1936.85 1526.23 1939.91 1521.65 Q1942.99 1517.04 1948.8 1517.04 Z\" fill=\"#000000\" fill-rule=\"evenodd\" fill-opacity=\"1\" /><path clip-path=\"url(#clip220)\" d=\"M1997.13 1526.76 L1986.55 1537.39 L1997.13 1547.97 L1994.37 1550.77 L1983.75 1540.14 L1973.12 1550.77 L1970.39 1547.97 L1980.95 1537.39 L1970.39 1526.76 L1973.12 1523.96 L1983.75 1534.59 L1994.37 1523.96 L1997.13 1526.76 Z\" fill=\"#000000\" fill-rule=\"evenodd\" fill-opacity=\"1\" /><path clip-path=\"url(#clip220)\" d=\"M2009.49 1548.29 L2017.13 1548.29 L2017.13 1521.92 L2008.82 1523.59 L2008.82 1519.33 L2017.08 1517.66 L2021.76 1517.66 L2021.76 1548.29 L2029.4 1548.29 L2029.4 1552.22 L2009.49 1552.22 L2009.49 1548.29 Z\" fill=\"#000000\" fill-rule=\"evenodd\" fill-opacity=\"1\" /><path clip-path=\"url(#clip220)\" d=\"M2048.84 1520.74 Q2045.23 1520.74 2043.4 1524.31 Q2041.6 1527.85 2041.6 1534.98 Q2041.6 1542.09 2043.4 1545.65 Q2045.23 1549.19 2048.84 1549.19 Q2052.48 1549.19 2054.28 1545.65 Q2056.11 1542.09 2056.11 1534.98 Q2056.11 1527.85 2054.28 1524.31 Q2052.48 1520.74 2048.84 1520.74 M2048.84 1517.04 Q2054.65 1517.04 2057.71 1521.65 Q2060.79 1526.23 2060.79 1534.98 Q2060.79 1543.71 2057.71 1548.31 Q2054.65 1552.9 2048.84 1552.9 Q2043.03 1552.9 2039.95 1548.31 Q2036.9 1543.71 2036.9 1534.98 Q2036.9 1526.23 2039.95 1521.65 Q2043.03 1517.04 2048.84 1517.04 Z\" fill=\"#000000\" fill-rule=\"evenodd\" fill-opacity=\"1\" /><path clip-path=\"url(#clip220)\" d=\"M2060.79 1511.14 L2084.9 1511.14 L2084.9 1514.34 L2060.79 1514.34 L2060.79 1511.14 Z\" fill=\"#000000\" fill-rule=\"evenodd\" fill-opacity=\"1\" /><path clip-path=\"url(#clip220)\" d=\"M2101.69 1509.26 Q2099.14 1509.26 2097.63 1511.01 Q2096.14 1512.76 2096.14 1515.81 Q2096.14 1518.83 2097.63 1520.6 Q2099.14 1522.35 2101.69 1522.35 Q2104.25 1522.35 2105.74 1520.6 Q2107.24 1518.83 2107.24 1515.81 Q2107.24 1512.76 2105.74 1511.01 Q2104.25 1509.26 2101.69 1509.26 M2109.24 1497.35 L2109.24 1500.82 Q2107.81 1500.14 2106.34 1499.78 Q2104.89 1499.42 2103.46 1499.42 Q2099.7 1499.42 2097.71 1501.96 Q2095.73 1504.5 2095.45 1509.64 Q2096.56 1508 2098.23 1507.13 Q2099.91 1506.25 2101.92 1506.25 Q2106.15 1506.25 2108.6 1508.83 Q2111.06 1511.39 2111.06 1515.81 Q2111.06 1520.13 2108.5 1522.75 Q2105.94 1525.36 2101.69 1525.36 Q2096.82 1525.36 2094.25 1521.64 Q2091.67 1517.89 2091.67 1510.8 Q2091.67 1504.14 2094.83 1500.19 Q2097.99 1496.23 2103.31 1496.23 Q2104.74 1496.23 2106.19 1496.51 Q2107.66 1496.79 2109.24 1497.35 Z\" fill=\"#000000\" fill-rule=\"evenodd\" fill-opacity=\"1\" /><polyline clip-path=\"url(#clip222)\" style=\"stroke:#000000; stroke-linecap:round; stroke-linejoin:round; stroke-width:2; stroke-opacity:0.1; fill:none\" points=\"\n",
       "  199.283,1433.79 2352.76,1433.79 \n",
       "  \"/>\n",
       "<polyline clip-path=\"url(#clip222)\" style=\"stroke:#000000; stroke-linecap:round; stroke-linejoin:round; stroke-width:2; stroke-opacity:0.1; fill:none\" points=\"\n",
       "  199.283,1097.25 2352.76,1097.25 \n",
       "  \"/>\n",
       "<polyline clip-path=\"url(#clip222)\" style=\"stroke:#000000; stroke-linecap:round; stroke-linejoin:round; stroke-width:2; stroke-opacity:0.1; fill:none\" points=\"\n",
       "  199.283,760.709 2352.76,760.709 \n",
       "  \"/>\n",
       "<polyline clip-path=\"url(#clip222)\" style=\"stroke:#000000; stroke-linecap:round; stroke-linejoin:round; stroke-width:2; stroke-opacity:0.1; fill:none\" points=\"\n",
       "  199.283,424.169 2352.76,424.169 \n",
       "  \"/>\n",
       "<polyline clip-path=\"url(#clip222)\" style=\"stroke:#000000; stroke-linecap:round; stroke-linejoin:round; stroke-width:2; stroke-opacity:0.1; fill:none\" points=\"\n",
       "  199.283,87.6286 2352.76,87.6286 \n",
       "  \"/>\n",
       "<polyline clip-path=\"url(#clip220)\" style=\"stroke:#000000; stroke-linecap:round; stroke-linejoin:round; stroke-width:4; stroke-opacity:1; fill:none\" points=\"\n",
       "  199.283,1474.16 199.283,47.2441 \n",
       "  \"/>\n",
       "<polyline clip-path=\"url(#clip220)\" style=\"stroke:#000000; stroke-linecap:round; stroke-linejoin:round; stroke-width:4; stroke-opacity:1; fill:none\" points=\"\n",
       "  199.283,1433.79 218.181,1433.79 \n",
       "  \"/>\n",
       "<polyline clip-path=\"url(#clip220)\" style=\"stroke:#000000; stroke-linecap:round; stroke-linejoin:round; stroke-width:4; stroke-opacity:1; fill:none\" points=\"\n",
       "  199.283,1097.25 218.181,1097.25 \n",
       "  \"/>\n",
       "<polyline clip-path=\"url(#clip220)\" style=\"stroke:#000000; stroke-linecap:round; stroke-linejoin:round; stroke-width:4; stroke-opacity:1; fill:none\" points=\"\n",
       "  199.283,760.709 218.181,760.709 \n",
       "  \"/>\n",
       "<polyline clip-path=\"url(#clip220)\" style=\"stroke:#000000; stroke-linecap:round; stroke-linejoin:round; stroke-width:4; stroke-opacity:1; fill:none\" points=\"\n",
       "  199.283,424.169 218.181,424.169 \n",
       "  \"/>\n",
       "<polyline clip-path=\"url(#clip220)\" style=\"stroke:#000000; stroke-linecap:round; stroke-linejoin:round; stroke-width:4; stroke-opacity:1; fill:none\" points=\"\n",
       "  199.283,87.6286 218.181,87.6286 \n",
       "  \"/>\n",
       "<path clip-path=\"url(#clip220)\" d=\"M151.339 1419.59 Q147.728 1419.59 145.899 1423.15 Q144.093 1426.69 144.093 1433.82 Q144.093 1440.93 145.899 1444.5 Q147.728 1448.04 151.339 1448.04 Q154.973 1448.04 156.779 1444.5 Q158.607 1440.93 158.607 1433.82 Q158.607 1426.69 156.779 1423.15 Q154.973 1419.59 151.339 1419.59 M151.339 1415.88 Q157.149 1415.88 160.205 1420.49 Q163.283 1425.07 163.283 1433.82 Q163.283 1442.55 160.205 1447.16 Q157.149 1451.74 151.339 1451.74 Q145.529 1451.74 142.45 1447.16 Q139.394 1442.55 139.394 1433.82 Q139.394 1425.07 142.45 1420.49 Q145.529 1415.88 151.339 1415.88 Z\" fill=\"#000000\" fill-rule=\"evenodd\" fill-opacity=\"1\" /><path clip-path=\"url(#clip220)\" d=\"M85.0429 1110.59 L101.362 1110.59 L101.362 1114.53 L79.4179 1114.53 L79.4179 1110.59 Q82.0799 1107.84 86.6632 1103.21 Q91.2697 1098.56 92.4502 1097.21 Q94.6956 1094.69 95.5752 1092.96 Q96.478 1091.2 96.478 1089.51 Q96.478 1086.75 94.5336 1085.02 Q92.6123 1083.28 89.5104 1083.28 Q87.3114 1083.28 84.8577 1084.04 Q82.4271 1084.81 79.6494 1086.36 L79.6494 1081.64 Q82.4734 1080.5 84.9271 1079.92 Q87.3808 1079.34 89.4178 1079.34 Q94.7882 1079.34 97.9826 1082.03 Q101.177 1084.71 101.177 1089.21 Q101.177 1091.33 100.367 1093.26 Q99.5798 1095.15 97.4734 1097.75 Q96.8947 1098.42 93.7928 1101.64 Q90.691 1104.83 85.0429 1110.59 Z\" fill=\"#000000\" fill-rule=\"evenodd\" fill-opacity=\"1\" /><path clip-path=\"url(#clip220)\" d=\"M111.223 1079.97 L129.58 1079.97 L129.58 1083.9 L115.506 1083.9 L115.506 1092.38 Q116.524 1092.03 117.543 1091.87 Q118.561 1091.68 119.58 1091.68 Q125.367 1091.68 128.746 1094.85 Q132.126 1098.02 132.126 1103.44 Q132.126 1109.02 128.654 1112.12 Q125.182 1115.2 118.862 1115.2 Q116.686 1115.2 114.418 1114.83 Q112.172 1114.46 109.765 1113.72 L109.765 1109.02 Q111.848 1110.15 114.07 1110.71 Q116.293 1111.27 118.77 1111.27 Q122.774 1111.27 125.112 1109.16 Q127.45 1107.05 127.45 1103.44 Q127.45 1099.83 125.112 1097.72 Q122.774 1095.62 118.77 1095.62 Q116.895 1095.62 115.02 1096.03 Q113.168 1096.45 111.223 1097.33 L111.223 1079.97 Z\" fill=\"#000000\" fill-rule=\"evenodd\" fill-opacity=\"1\" /><path clip-path=\"url(#clip220)\" d=\"M151.339 1083.05 Q147.728 1083.05 145.899 1086.61 Q144.093 1090.15 144.093 1097.28 Q144.093 1104.39 145.899 1107.96 Q147.728 1111.5 151.339 1111.5 Q154.973 1111.5 156.779 1107.96 Q158.607 1104.39 158.607 1097.28 Q158.607 1090.15 156.779 1086.61 Q154.973 1083.05 151.339 1083.05 M151.339 1079.34 Q157.149 1079.34 160.205 1083.95 Q163.283 1088.53 163.283 1097.28 Q163.283 1106.01 160.205 1110.62 Q157.149 1115.2 151.339 1115.2 Q145.529 1115.2 142.45 1110.62 Q139.394 1106.01 139.394 1097.28 Q139.394 1088.53 142.45 1083.95 Q145.529 1079.34 151.339 1079.34 Z\" fill=\"#000000\" fill-rule=\"evenodd\" fill-opacity=\"1\" /><path clip-path=\"url(#clip220)\" d=\"M81.0614 743.429 L99.4178 743.429 L99.4178 747.364 L85.3438 747.364 L85.3438 755.836 Q86.3623 755.489 87.3808 755.327 Q88.3993 755.142 89.4178 755.142 Q95.2049 755.142 98.5845 758.313 Q101.964 761.484 101.964 766.901 Q101.964 772.48 98.4919 775.582 Q95.0197 778.66 88.7003 778.66 Q86.5243 778.66 84.2558 778.29 Q82.0105 777.92 79.6031 777.179 L79.6031 772.48 Q81.6864 773.614 83.9086 774.17 Q86.1308 774.725 88.6077 774.725 Q92.6123 774.725 94.9502 772.619 Q97.2882 770.512 97.2882 766.901 Q97.2882 763.29 94.9502 761.183 Q92.6123 759.077 88.6077 759.077 Q86.7327 759.077 84.8577 759.494 Q83.0058 759.91 81.0614 760.79 L81.0614 743.429 Z\" fill=\"#000000\" fill-rule=\"evenodd\" fill-opacity=\"1\" /><path clip-path=\"url(#clip220)\" d=\"M121.177 746.508 Q117.566 746.508 115.737 750.072 Q113.932 753.614 113.932 760.744 Q113.932 767.85 115.737 771.415 Q117.566 774.957 121.177 774.957 Q124.811 774.957 126.617 771.415 Q128.445 767.85 128.445 760.744 Q128.445 753.614 126.617 750.072 Q124.811 746.508 121.177 746.508 M121.177 742.804 Q126.987 742.804 130.043 747.41 Q133.121 751.994 133.121 760.744 Q133.121 769.47 130.043 774.077 Q126.987 778.66 121.177 778.66 Q115.367 778.66 112.288 774.077 Q109.233 769.47 109.233 760.744 Q109.233 751.994 112.288 747.41 Q115.367 742.804 121.177 742.804 Z\" fill=\"#000000\" fill-rule=\"evenodd\" fill-opacity=\"1\" /><path clip-path=\"url(#clip220)\" d=\"M151.339 746.508 Q147.728 746.508 145.899 750.072 Q144.093 753.614 144.093 760.744 Q144.093 767.85 145.899 771.415 Q147.728 774.957 151.339 774.957 Q154.973 774.957 156.779 771.415 Q158.607 767.85 158.607 760.744 Q158.607 753.614 156.779 750.072 Q154.973 746.508 151.339 746.508 M151.339 742.804 Q157.149 742.804 160.205 747.41 Q163.283 751.994 163.283 760.744 Q163.283 769.47 160.205 774.077 Q157.149 778.66 151.339 778.66 Q145.529 778.66 142.45 774.077 Q139.394 769.47 139.394 760.744 Q139.394 751.994 142.45 747.41 Q145.529 742.804 151.339 742.804 Z\" fill=\"#000000\" fill-rule=\"evenodd\" fill-opacity=\"1\" /><path clip-path=\"url(#clip220)\" d=\"M79.8346 406.889 L102.057 406.889 L102.057 408.88 L89.5104 441.449 L84.6262 441.449 L96.4317 410.824 L79.8346 410.824 L79.8346 406.889 Z\" fill=\"#000000\" fill-rule=\"evenodd\" fill-opacity=\"1\" /><path clip-path=\"url(#clip220)\" d=\"M111.223 406.889 L129.58 406.889 L129.58 410.824 L115.506 410.824 L115.506 419.296 Q116.524 418.949 117.543 418.787 Q118.561 418.602 119.58 418.602 Q125.367 418.602 128.746 421.773 Q132.126 424.944 132.126 430.361 Q132.126 435.94 128.654 439.041 Q125.182 442.12 118.862 442.12 Q116.686 442.12 114.418 441.75 Q112.172 441.379 109.765 440.639 L109.765 435.94 Q111.848 437.074 114.07 437.629 Q116.293 438.185 118.77 438.185 Q122.774 438.185 125.112 436.078 Q127.45 433.972 127.45 430.361 Q127.45 426.75 125.112 424.643 Q122.774 422.537 118.77 422.537 Q116.895 422.537 115.02 422.954 Q113.168 423.37 111.223 424.25 L111.223 406.889 Z\" fill=\"#000000\" fill-rule=\"evenodd\" fill-opacity=\"1\" /><path clip-path=\"url(#clip220)\" d=\"M151.339 409.967 Q147.728 409.967 145.899 413.532 Q144.093 417.074 144.093 424.204 Q144.093 431.31 145.899 434.875 Q147.728 438.416 151.339 438.416 Q154.973 438.416 156.779 434.875 Q158.607 431.31 158.607 424.204 Q158.607 417.074 156.779 413.532 Q154.973 409.967 151.339 409.967 M151.339 406.264 Q157.149 406.264 160.205 410.87 Q163.283 415.454 163.283 424.204 Q163.283 432.93 160.205 437.537 Q157.149 442.12 151.339 442.12 Q145.529 442.12 142.45 437.537 Q139.394 432.93 139.394 424.204 Q139.394 415.454 142.45 410.87 Q145.529 406.264 151.339 406.264 Z\" fill=\"#000000\" fill-rule=\"evenodd\" fill-opacity=\"1\" /><path clip-path=\"url(#clip220)\" d=\"M51.6634 100.973 L59.3023 100.973 L59.3023 74.6079 L50.9921 76.2745 L50.9921 72.0153 L59.256 70.3486 L63.9319 70.3486 L63.9319 100.973 L71.5707 100.973 L71.5707 104.909 L51.6634 104.909 L51.6634 100.973 Z\" fill=\"#000000\" fill-rule=\"evenodd\" fill-opacity=\"1\" /><path clip-path=\"url(#clip220)\" d=\"M91.0151 73.4273 Q87.404 73.4273 85.5753 76.9921 Q83.7697 80.5338 83.7697 87.6634 Q83.7697 94.7698 85.5753 98.3346 Q87.404 101.876 91.0151 101.876 Q94.6493 101.876 96.4548 98.3346 Q98.2835 94.7698 98.2835 87.6634 Q98.2835 80.5338 96.4548 76.9921 Q94.6493 73.4273 91.0151 73.4273 M91.0151 69.7236 Q96.8252 69.7236 99.8808 74.3301 Q102.959 78.9134 102.959 87.6634 Q102.959 96.3902 99.8808 100.997 Q96.8252 105.58 91.0151 105.58 Q85.2049 105.58 82.1262 100.997 Q79.0707 96.3902 79.0707 87.6634 Q79.0707 78.9134 82.1262 74.3301 Q85.2049 69.7236 91.0151 69.7236 Z\" fill=\"#000000\" fill-rule=\"evenodd\" fill-opacity=\"1\" /><path clip-path=\"url(#clip220)\" d=\"M121.177 73.4273 Q117.566 73.4273 115.737 76.9921 Q113.932 80.5338 113.932 87.6634 Q113.932 94.7698 115.737 98.3346 Q117.566 101.876 121.177 101.876 Q124.811 101.876 126.617 98.3346 Q128.445 94.7698 128.445 87.6634 Q128.445 80.5338 126.617 76.9921 Q124.811 73.4273 121.177 73.4273 M121.177 69.7236 Q126.987 69.7236 130.043 74.3301 Q133.121 78.9134 133.121 87.6634 Q133.121 96.3902 130.043 100.997 Q126.987 105.58 121.177 105.58 Q115.367 105.58 112.288 100.997 Q109.233 96.3902 109.233 87.6634 Q109.233 78.9134 112.288 74.3301 Q115.367 69.7236 121.177 69.7236 Z\" fill=\"#000000\" fill-rule=\"evenodd\" fill-opacity=\"1\" /><path clip-path=\"url(#clip220)\" d=\"M151.339 73.4273 Q147.728 73.4273 145.899 76.9921 Q144.093 80.5338 144.093 87.6634 Q144.093 94.7698 145.899 98.3346 Q147.728 101.876 151.339 101.876 Q154.973 101.876 156.779 98.3346 Q158.607 94.7698 158.607 87.6634 Q158.607 80.5338 156.779 76.9921 Q154.973 73.4273 151.339 73.4273 M151.339 69.7236 Q157.149 69.7236 160.205 74.3301 Q163.283 78.9134 163.283 87.6634 Q163.283 96.3902 160.205 100.997 Q157.149 105.58 151.339 105.58 Q145.529 105.58 142.45 100.997 Q139.394 96.3902 139.394 87.6634 Q139.394 78.9134 142.45 74.3301 Q145.529 69.7236 151.339 69.7236 Z\" fill=\"#000000\" fill-rule=\"evenodd\" fill-opacity=\"1\" /><polyline clip-path=\"url(#clip222)\" style=\"stroke:#009af9; stroke-linecap:round; stroke-linejoin:round; stroke-width:4; stroke-opacity:1; fill:none\" points=\"\n",
       "  260.231,1433.75 263.537,1433.77 266.844,1433.78 270.151,1433.78 273.457,1433.78 281.101,1433.74 288.745,1433.57 296.388,1432.93 304.032,1430.79 307.854,1428.46 \n",
       "  311.676,1424.64 315.498,1418.56 319.32,1409.23 321.231,1402.97 323.141,1395.43 325.052,1386.4 326.963,1375.7 328.874,1363.13 330.785,1348.49 332.696,1331.58 \n",
       "  334.607,1312.25 336.518,1290.31 338.429,1265.66 340.34,1238.19 342.251,1207.85 344.162,1174.63 346.073,1138.59 347.984,1099.83 349.895,1058.51 351.806,1014.85 \n",
       "  353.716,969.118 355.627,921.642 357.538,872.788 361.36,772.584 365.182,671.963 367.093,622.599 369.004,574.427 370.915,527.832 372.826,483.159 374.737,440.706 \n",
       "  376.648,400.718 378.559,363.382 380.47,328.831 382.38,297.137 384.291,268.321 386.202,242.351 388.113,219.153 390.024,198.613 391.935,180.587 393.846,164.906 \n",
       "  395.757,151.385 398.054,137.716 400.351,126.542 402.647,117.523 404.944,110.336 407.241,104.681 409.538,100.288 411.834,96.9185 414.131,94.3673 418.725,91.0519 \n",
       "  423.318,89.2876 427.912,88.3952 432.506,87.9663 450.88,87.6365 469.254,87.6287 500.324,87.6286 531.395,87.6286 598.897,87.6286 661.128,87.6286 727.847,87.6286 \n",
       "  805.147,87.6286 873.842,87.6286 934.081,87.6286 999.758,87.6286 1065.83,87.6286 1138.87,87.6286 1208.37,87.6286 1280.64,87.6286 1341.47,87.6286 1415.74,87.6286 \n",
       "  1483.77,87.6286 1546.61,87.6286 1610.26,87.6286 1681.59,87.6286 1746.23,87.6286 1820.24,87.6286 1888.77,87.6286 1956.33,87.6286 2021.92,87.6286 2089.16,87.6286 \n",
       "  2162.83,87.6286 2269.85,87.6286 2291.81,87.6286 \n",
       "  \"/>\n",
       "<path clip-path=\"url(#clip220)\" d=\"\n",
       "M2013.2 1426.6 L2280.97 1426.6 L2280.97 1322.92 L2013.2 1322.92  Z\n",
       "  \" fill=\"#ffffff\" fill-rule=\"evenodd\" fill-opacity=\"1\"/>\n",
       "<polyline clip-path=\"url(#clip220)\" style=\"stroke:#000000; stroke-linecap:round; stroke-linejoin:round; stroke-width:4; stroke-opacity:1; fill:none\" points=\"\n",
       "  2013.2,1426.6 2280.97,1426.6 2280.97,1322.92 2013.2,1322.92 2013.2,1426.6 \n",
       "  \"/>\n",
       "<polyline clip-path=\"url(#clip220)\" style=\"stroke:#009af9; stroke-linecap:round; stroke-linejoin:round; stroke-width:4; stroke-opacity:1; fill:none\" points=\"\n",
       "  2037.12,1374.76 2180.69,1374.76 \n",
       "  \"/>\n",
       "<path clip-path=\"url(#clip220)\" d=\"M2218.46 1394.45 Q2216.65 1399.08 2214.94 1400.49 Q2213.23 1401.9 2210.36 1401.9 L2206.95 1401.9 L2206.95 1398.34 L2209.45 1398.34 Q2211.21 1398.34 2212.19 1397.5 Q2213.16 1396.67 2214.34 1393.57 L2215.1 1391.62 L2204.62 1366.11 L2209.13 1366.11 L2217.23 1386.39 L2225.33 1366.11 L2229.85 1366.11 L2218.46 1394.45 Z\" fill=\"#000000\" fill-rule=\"evenodd\" fill-opacity=\"1\" /><path clip-path=\"url(#clip220)\" d=\"M2237.14 1388.11 L2244.78 1388.11 L2244.78 1361.74 L2236.47 1363.41 L2236.47 1359.15 L2244.73 1357.48 L2249.41 1357.48 L2249.41 1388.11 L2257.05 1388.11 L2257.05 1392.04 L2237.14 1392.04 L2237.14 1388.11 Z\" fill=\"#000000\" fill-rule=\"evenodd\" fill-opacity=\"1\" /></svg>\n"
      ]
     },
     "execution_count": 9,
     "metadata": {},
     "output_type": "execute_result"
    }
   ],
   "source": [
    "hS_pf = uMax/100\n",
    "F_ϕ(x) = (phiMin - phiMaxApp) * interval(x,-4*hS_pf+uMin,uTran2_EP)\n",
    "wₕ(x,x₁) = (1/(sqrt(2*pi)*hS_pf))*exp(-(x-x₁)^2/(2*hS_pf^2))\n",
    "smoothϕ = SymPy.integrate(F_ϕ(x₁)*wₕ(x,x₁),(x₁,-4*hS_pf,uMax)) +  phiMaxApp\n",
    "plot(smoothϕ,0,uMax)"
   ]
  },
  {
   "cell_type": "code",
   "execution_count": 10,
   "id": "89edaa77",
   "metadata": {},
   "outputs": [
    {
     "data": {
      "image/svg+xml": [
       "<?xml version=\"1.0\" encoding=\"utf-8\"?>\n",
       "<svg xmlns=\"http://www.w3.org/2000/svg\" xmlns:xlink=\"http://www.w3.org/1999/xlink\" width=\"600\" height=\"400\" viewBox=\"0 0 2400 1600\">\n",
       "<defs>\n",
       "  <clipPath id=\"clip260\">\n",
       "    <rect x=\"0\" y=\"0\" width=\"2400\" height=\"1600\"/>\n",
       "  </clipPath>\n",
       "</defs>\n",
       "<path clip-path=\"url(#clip260)\" d=\"\n",
       "M0 1600 L2400 1600 L2400 0 L0 0  Z\n",
       "  \" fill=\"#ffffff\" fill-rule=\"evenodd\" fill-opacity=\"1\"/>\n",
       "<defs>\n",
       "  <clipPath id=\"clip261\">\n",
       "    <rect x=\"480\" y=\"0\" width=\"1681\" height=\"1600\"/>\n",
       "  </clipPath>\n",
       "</defs>\n",
       "<path clip-path=\"url(#clip260)\" d=\"\n",
       "M170.719 1474.16 L2352.76 1474.16 L2352.76 47.2441 L170.719 47.2441  Z\n",
       "  \" fill=\"#ffffff\" fill-rule=\"evenodd\" fill-opacity=\"1\"/>\n",
       "<defs>\n",
       "  <clipPath id=\"clip262\">\n",
       "    <rect x=\"170\" y=\"47\" width=\"2183\" height=\"1428\"/>\n",
       "  </clipPath>\n",
       "</defs>\n",
       "<polyline clip-path=\"url(#clip262)\" style=\"stroke:#000000; stroke-linecap:round; stroke-linejoin:round; stroke-width:2; stroke-opacity:0.1; fill:none\" points=\"\n",
       "  232.474,1474.16 232.474,47.2441 \n",
       "  \"/>\n",
       "<polyline clip-path=\"url(#clip262)\" style=\"stroke:#000000; stroke-linecap:round; stroke-linejoin:round; stroke-width:2; stroke-opacity:0.1; fill:none\" points=\"\n",
       "  820.625,1474.16 820.625,47.2441 \n",
       "  \"/>\n",
       "<polyline clip-path=\"url(#clip262)\" style=\"stroke:#000000; stroke-linecap:round; stroke-linejoin:round; stroke-width:2; stroke-opacity:0.1; fill:none\" points=\"\n",
       "  1408.77,1474.16 1408.77,47.2441 \n",
       "  \"/>\n",
       "<polyline clip-path=\"url(#clip262)\" style=\"stroke:#000000; stroke-linecap:round; stroke-linejoin:round; stroke-width:2; stroke-opacity:0.1; fill:none\" points=\"\n",
       "  1996.93,1474.16 1996.93,47.2441 \n",
       "  \"/>\n",
       "<polyline clip-path=\"url(#clip260)\" style=\"stroke:#000000; stroke-linecap:round; stroke-linejoin:round; stroke-width:4; stroke-opacity:1; fill:none\" points=\"\n",
       "  170.719,1474.16 2352.76,1474.16 \n",
       "  \"/>\n",
       "<polyline clip-path=\"url(#clip260)\" style=\"stroke:#000000; stroke-linecap:round; stroke-linejoin:round; stroke-width:4; stroke-opacity:1; fill:none\" points=\"\n",
       "  232.474,1474.16 232.474,1455.27 \n",
       "  \"/>\n",
       "<polyline clip-path=\"url(#clip260)\" style=\"stroke:#000000; stroke-linecap:round; stroke-linejoin:round; stroke-width:4; stroke-opacity:1; fill:none\" points=\"\n",
       "  820.625,1474.16 820.625,1455.27 \n",
       "  \"/>\n",
       "<polyline clip-path=\"url(#clip260)\" style=\"stroke:#000000; stroke-linecap:round; stroke-linejoin:round; stroke-width:4; stroke-opacity:1; fill:none\" points=\"\n",
       "  1408.77,1474.16 1408.77,1455.27 \n",
       "  \"/>\n",
       "<polyline clip-path=\"url(#clip260)\" style=\"stroke:#000000; stroke-linecap:round; stroke-linejoin:round; stroke-width:4; stroke-opacity:1; fill:none\" points=\"\n",
       "  1996.93,1474.16 1996.93,1455.27 \n",
       "  \"/>\n",
       "<path clip-path=\"url(#clip260)\" d=\"M232.474 1505.08 Q228.863 1505.08 227.035 1508.65 Q225.229 1512.19 225.229 1519.32 Q225.229 1526.43 227.035 1529.99 Q228.863 1533.53 232.474 1533.53 Q236.109 1533.53 237.914 1529.99 Q239.743 1526.43 239.743 1519.32 Q239.743 1512.19 237.914 1508.65 Q236.109 1505.08 232.474 1505.08 M232.474 1501.38 Q238.284 1501.38 241.34 1505.99 Q244.419 1510.57 244.419 1519.32 Q244.419 1528.05 241.34 1532.65 Q238.284 1537.24 232.474 1537.24 Q226.664 1537.24 223.585 1532.65 Q220.53 1528.05 220.53 1519.32 Q220.53 1510.57 223.585 1505.99 Q226.664 1501.38 232.474 1501.38 Z\" fill=\"#000000\" fill-rule=\"evenodd\" fill-opacity=\"1\" /><path clip-path=\"url(#clip260)\" d=\"M712.618 1548.29 L720.257 1548.29 L720.257 1521.92 L711.947 1523.59 L711.947 1519.33 L720.211 1517.66 L724.886 1517.66 L724.886 1548.29 L732.525 1548.29 L732.525 1552.22 L712.618 1552.22 L712.618 1548.29 Z\" fill=\"#000000\" fill-rule=\"evenodd\" fill-opacity=\"1\" /><path clip-path=\"url(#clip260)\" d=\"M741.97 1546.35 L746.854 1546.35 L746.854 1552.22 L741.97 1552.22 L741.97 1546.35 Z\" fill=\"#000000\" fill-rule=\"evenodd\" fill-opacity=\"1\" /><path clip-path=\"url(#clip260)\" d=\"M767.039 1520.74 Q763.428 1520.74 761.599 1524.31 Q759.794 1527.85 759.794 1534.98 Q759.794 1542.09 761.599 1545.65 Q763.428 1549.19 767.039 1549.19 Q770.673 1549.19 772.479 1545.65 Q774.308 1542.09 774.308 1534.98 Q774.308 1527.85 772.479 1524.31 Q770.673 1520.74 767.039 1520.74 M767.039 1517.04 Q772.849 1517.04 775.905 1521.65 Q778.983 1526.23 778.983 1534.98 Q778.983 1543.71 775.905 1548.31 Q772.849 1552.9 767.039 1552.9 Q761.229 1552.9 758.15 1548.31 Q755.095 1543.71 755.095 1534.98 Q755.095 1526.23 758.15 1521.65 Q761.229 1517.04 767.039 1517.04 Z\" fill=\"#000000\" fill-rule=\"evenodd\" fill-opacity=\"1\" /><path clip-path=\"url(#clip260)\" d=\"M815.372 1526.76 L804.793 1537.39 L815.372 1547.97 L812.617 1550.77 L801.993 1540.14 L791.368 1550.77 L788.636 1547.97 L799.192 1537.39 L788.636 1526.76 L791.368 1523.96 L801.993 1534.59 L812.617 1523.96 L815.372 1526.76 Z\" fill=\"#000000\" fill-rule=\"evenodd\" fill-opacity=\"1\" /><path clip-path=\"url(#clip260)\" d=\"M827.733 1548.29 L835.372 1548.29 L835.372 1521.92 L827.062 1523.59 L827.062 1519.33 L835.326 1517.66 L840.002 1517.66 L840.002 1548.29 L847.64 1548.29 L847.64 1552.22 L827.733 1552.22 L827.733 1548.29 Z\" fill=\"#000000\" fill-rule=\"evenodd\" fill-opacity=\"1\" /><path clip-path=\"url(#clip260)\" d=\"M867.085 1520.74 Q863.474 1520.74 861.645 1524.31 Q859.839 1527.85 859.839 1534.98 Q859.839 1542.09 861.645 1545.65 Q863.474 1549.19 867.085 1549.19 Q870.719 1549.19 872.525 1545.65 Q874.353 1542.09 874.353 1534.98 Q874.353 1527.85 872.525 1524.31 Q870.719 1520.74 867.085 1520.74 M867.085 1517.04 Q872.895 1517.04 875.95 1521.65 Q879.029 1526.23 879.029 1534.98 Q879.029 1543.71 875.95 1548.31 Q872.895 1552.9 867.085 1552.9 Q861.275 1552.9 858.196 1548.31 Q855.14 1543.71 855.14 1534.98 Q855.14 1526.23 858.196 1521.65 Q861.275 1517.04 867.085 1517.04 Z\" fill=\"#000000\" fill-rule=\"evenodd\" fill-opacity=\"1\" /><path clip-path=\"url(#clip260)\" d=\"M879.029 1511.14 L903.141 1511.14 L903.141 1514.34 L879.029 1514.34 L879.029 1511.14 Z\" fill=\"#000000\" fill-rule=\"evenodd\" fill-opacity=\"1\" /><path clip-path=\"url(#clip260)\" d=\"M919.936 1509.26 Q917.378 1509.26 915.874 1511.01 Q914.388 1512.76 914.388 1515.81 Q914.388 1518.83 915.874 1520.6 Q917.378 1522.35 919.936 1522.35 Q922.494 1522.35 923.98 1520.6 Q925.484 1518.83 925.484 1515.81 Q925.484 1512.76 923.98 1511.01 Q922.494 1509.26 919.936 1509.26 M927.478 1497.35 L927.478 1500.82 Q926.049 1500.14 924.582 1499.78 Q923.133 1499.42 921.704 1499.42 Q917.942 1499.42 915.949 1501.96 Q913.974 1504.5 913.692 1509.64 Q914.802 1508 916.475 1507.13 Q918.149 1506.25 920.162 1506.25 Q924.394 1506.25 926.839 1508.83 Q929.302 1511.39 929.302 1515.81 Q929.302 1520.13 926.744 1522.75 Q924.187 1525.36 919.936 1525.36 Q915.065 1525.36 912.488 1521.64 Q909.912 1517.89 909.912 1510.8 Q909.912 1504.14 913.071 1500.19 Q916.231 1496.23 921.554 1496.23 Q922.983 1496.23 924.431 1496.51 Q925.898 1496.79 927.478 1497.35 Z\" fill=\"#000000\" fill-rule=\"evenodd\" fill-opacity=\"1\" /><path clip-path=\"url(#clip260)\" d=\"M1304.85 1548.29 L1321.17 1548.29 L1321.17 1552.22 L1299.23 1552.22 L1299.23 1548.29 Q1301.89 1545.53 1306.47 1540.91 Q1311.08 1536.25 1312.26 1534.91 Q1314.51 1532.39 1315.39 1530.65 Q1316.29 1528.89 1316.29 1527.2 Q1316.29 1524.45 1314.34 1522.71 Q1312.42 1520.97 1309.32 1520.97 Q1307.12 1520.97 1304.67 1521.74 Q1302.24 1522.5 1299.46 1524.05 L1299.46 1519.33 Q1302.28 1518.2 1304.74 1517.62 Q1307.19 1517.04 1309.23 1517.04 Q1314.6 1517.04 1317.79 1519.72 Q1320.99 1522.41 1320.99 1526.9 Q1320.99 1529.03 1320.18 1530.95 Q1319.39 1532.85 1317.28 1535.44 Q1316.71 1536.11 1313.6 1539.33 Q1310.5 1542.53 1304.85 1548.29 Z\" fill=\"#000000\" fill-rule=\"evenodd\" fill-opacity=\"1\" /><path clip-path=\"url(#clip260)\" d=\"M1330.99 1546.35 L1335.87 1546.35 L1335.87 1552.22 L1330.99 1552.22 L1330.99 1546.35 Z\" fill=\"#000000\" fill-rule=\"evenodd\" fill-opacity=\"1\" /><path clip-path=\"url(#clip260)\" d=\"M1356.06 1520.74 Q1352.45 1520.74 1350.62 1524.31 Q1348.81 1527.85 1348.81 1534.98 Q1348.81 1542.09 1350.62 1545.65 Q1352.45 1549.19 1356.06 1549.19 Q1359.69 1549.19 1361.5 1545.65 Q1363.33 1542.09 1363.33 1534.98 Q1363.33 1527.85 1361.5 1524.31 Q1359.69 1520.74 1356.06 1520.74 M1356.06 1517.04 Q1361.87 1517.04 1364.92 1521.65 Q1368 1526.23 1368 1534.98 Q1368 1543.71 1364.92 1548.31 Q1361.87 1552.9 1356.06 1552.9 Q1350.25 1552.9 1347.17 1548.31 Q1344.11 1543.71 1344.11 1534.98 Q1344.11 1526.23 1347.17 1521.65 Q1350.25 1517.04 1356.06 1517.04 Z\" fill=\"#000000\" fill-rule=\"evenodd\" fill-opacity=\"1\" /><path clip-path=\"url(#clip260)\" d=\"M1404.39 1526.76 L1393.81 1537.39 L1404.39 1547.97 L1401.64 1550.77 L1391.01 1540.14 L1380.39 1550.77 L1377.65 1547.97 L1388.21 1537.39 L1377.65 1526.76 L1380.39 1523.96 L1391.01 1534.59 L1401.64 1523.96 L1404.39 1526.76 Z\" fill=\"#000000\" fill-rule=\"evenodd\" fill-opacity=\"1\" /><path clip-path=\"url(#clip260)\" d=\"M1416.75 1548.29 L1424.39 1548.29 L1424.39 1521.92 L1416.08 1523.59 L1416.08 1519.33 L1424.34 1517.66 L1429.02 1517.66 L1429.02 1548.29 L1436.66 1548.29 L1436.66 1552.22 L1416.75 1552.22 L1416.75 1548.29 Z\" fill=\"#000000\" fill-rule=\"evenodd\" fill-opacity=\"1\" /><path clip-path=\"url(#clip260)\" d=\"M1456.1 1520.74 Q1452.49 1520.74 1450.66 1524.31 Q1448.86 1527.85 1448.86 1534.98 Q1448.86 1542.09 1450.66 1545.65 Q1452.49 1549.19 1456.1 1549.19 Q1459.74 1549.19 1461.54 1545.65 Q1463.37 1542.09 1463.37 1534.98 Q1463.37 1527.85 1461.54 1524.31 Q1459.74 1520.74 1456.1 1520.74 M1456.1 1517.04 Q1461.91 1517.04 1464.97 1521.65 Q1468.05 1526.23 1468.05 1534.98 Q1468.05 1543.71 1464.97 1548.31 Q1461.91 1552.9 1456.1 1552.9 Q1450.29 1552.9 1447.21 1548.31 Q1444.16 1543.71 1444.16 1534.98 Q1444.16 1526.23 1447.21 1521.65 Q1450.29 1517.04 1456.1 1517.04 Z\" fill=\"#000000\" fill-rule=\"evenodd\" fill-opacity=\"1\" /><path clip-path=\"url(#clip260)\" d=\"M1468.05 1511.14 L1492.16 1511.14 L1492.16 1514.34 L1468.05 1514.34 L1468.05 1511.14 Z\" fill=\"#000000\" fill-rule=\"evenodd\" fill-opacity=\"1\" /><path clip-path=\"url(#clip260)\" d=\"M1508.95 1509.26 Q1506.4 1509.26 1504.89 1511.01 Q1503.41 1512.76 1503.41 1515.81 Q1503.41 1518.83 1504.89 1520.6 Q1506.4 1522.35 1508.95 1522.35 Q1511.51 1522.35 1513 1520.6 Q1514.5 1518.83 1514.5 1515.81 Q1514.5 1512.76 1513 1511.01 Q1511.51 1509.26 1508.95 1509.26 M1516.5 1497.35 L1516.5 1500.82 Q1515.07 1500.14 1513.6 1499.78 Q1512.15 1499.42 1510.72 1499.42 Q1506.96 1499.42 1504.97 1501.96 Q1502.99 1504.5 1502.71 1509.64 Q1503.82 1508 1505.49 1507.13 Q1507.17 1506.25 1509.18 1506.25 Q1513.41 1506.25 1515.86 1508.83 Q1518.32 1511.39 1518.32 1515.81 Q1518.32 1520.13 1515.76 1522.75 Q1513.2 1525.36 1508.95 1525.36 Q1504.08 1525.36 1501.51 1521.64 Q1498.93 1517.89 1498.93 1510.8 Q1498.93 1504.14 1502.09 1500.19 Q1505.25 1496.23 1510.57 1496.23 Q1512 1496.23 1513.45 1496.51 Q1514.92 1496.79 1516.5 1497.35 Z\" fill=\"#000000\" fill-rule=\"evenodd\" fill-opacity=\"1\" /><path clip-path=\"url(#clip260)\" d=\"M1903.07 1533.59 Q1906.43 1534.31 1908.3 1536.58 Q1910.2 1538.85 1910.2 1542.18 Q1910.2 1547.29 1906.68 1550.1 Q1903.17 1552.9 1896.68 1552.9 Q1894.51 1552.9 1892.19 1552.46 Q1889.9 1552.04 1887.45 1551.18 L1887.45 1546.67 Q1889.39 1547.8 1891.71 1548.38 Q1894.02 1548.96 1896.55 1548.96 Q1900.94 1548.96 1903.24 1547.22 Q1905.55 1545.49 1905.55 1542.18 Q1905.55 1539.12 1903.4 1537.41 Q1901.27 1535.67 1897.45 1535.67 L1893.42 1535.67 L1893.42 1531.83 L1897.63 1531.83 Q1901.08 1531.83 1902.91 1530.47 Q1904.74 1529.08 1904.74 1526.48 Q1904.74 1523.82 1902.84 1522.41 Q1900.97 1520.97 1897.45 1520.97 Q1895.53 1520.97 1893.33 1521.39 Q1891.13 1521.81 1888.49 1522.69 L1888.49 1518.52 Q1891.15 1517.78 1893.47 1517.41 Q1895.81 1517.04 1897.87 1517.04 Q1903.19 1517.04 1906.29 1519.47 Q1909.39 1521.88 1909.39 1526 Q1909.39 1528.87 1907.75 1530.86 Q1906.11 1532.83 1903.07 1533.59 Z\" fill=\"#000000\" fill-rule=\"evenodd\" fill-opacity=\"1\" /><path clip-path=\"url(#clip260)\" d=\"M1919.07 1546.35 L1923.95 1546.35 L1923.95 1552.22 L1919.07 1552.22 L1919.07 1546.35 Z\" fill=\"#000000\" fill-rule=\"evenodd\" fill-opacity=\"1\" /><path clip-path=\"url(#clip260)\" d=\"M1944.14 1520.74 Q1940.53 1520.74 1938.7 1524.31 Q1936.89 1527.85 1936.89 1534.98 Q1936.89 1542.09 1938.7 1545.65 Q1940.53 1549.19 1944.14 1549.19 Q1947.77 1549.19 1949.58 1545.65 Q1951.41 1542.09 1951.41 1534.98 Q1951.41 1527.85 1949.58 1524.31 Q1947.77 1520.74 1944.14 1520.74 M1944.14 1517.04 Q1949.95 1517.04 1953 1521.65 Q1956.08 1526.23 1956.08 1534.98 Q1956.08 1543.71 1953 1548.31 Q1949.95 1552.9 1944.14 1552.9 Q1938.33 1552.9 1935.25 1548.31 Q1932.19 1543.71 1932.19 1534.98 Q1932.19 1526.23 1935.25 1521.65 Q1938.33 1517.04 1944.14 1517.04 Z\" fill=\"#000000\" fill-rule=\"evenodd\" fill-opacity=\"1\" /><path clip-path=\"url(#clip260)\" d=\"M1992.47 1526.76 L1981.89 1537.39 L1992.47 1547.97 L1989.72 1550.77 L1979.09 1540.14 L1968.47 1550.77 L1965.74 1547.97 L1976.29 1537.39 L1965.74 1526.76 L1968.47 1523.96 L1979.09 1534.59 L1989.72 1523.96 L1992.47 1526.76 Z\" fill=\"#000000\" fill-rule=\"evenodd\" fill-opacity=\"1\" /><path clip-path=\"url(#clip260)\" d=\"M2004.83 1548.29 L2012.47 1548.29 L2012.47 1521.92 L2004.16 1523.59 L2004.16 1519.33 L2012.42 1517.66 L2017.1 1517.66 L2017.1 1548.29 L2024.74 1548.29 L2024.74 1552.22 L2004.83 1552.22 L2004.83 1548.29 Z\" fill=\"#000000\" fill-rule=\"evenodd\" fill-opacity=\"1\" /><path clip-path=\"url(#clip260)\" d=\"M2044.18 1520.74 Q2040.57 1520.74 2038.74 1524.31 Q2036.94 1527.85 2036.94 1534.98 Q2036.94 1542.09 2038.74 1545.65 Q2040.57 1549.19 2044.18 1549.19 Q2047.82 1549.19 2049.62 1545.65 Q2051.45 1542.09 2051.45 1534.98 Q2051.45 1527.85 2049.62 1524.31 Q2047.82 1520.74 2044.18 1520.74 M2044.18 1517.04 Q2049.99 1517.04 2053.05 1521.65 Q2056.13 1526.23 2056.13 1534.98 Q2056.13 1543.71 2053.05 1548.31 Q2049.99 1552.9 2044.18 1552.9 Q2038.37 1552.9 2035.3 1548.31 Q2032.24 1543.71 2032.24 1534.98 Q2032.24 1526.23 2035.3 1521.65 Q2038.37 1517.04 2044.18 1517.04 Z\" fill=\"#000000\" fill-rule=\"evenodd\" fill-opacity=\"1\" /><path clip-path=\"url(#clip260)\" d=\"M2056.13 1511.14 L2080.24 1511.14 L2080.24 1514.34 L2056.13 1514.34 L2056.13 1511.14 Z\" fill=\"#000000\" fill-rule=\"evenodd\" fill-opacity=\"1\" /><path clip-path=\"url(#clip260)\" d=\"M2097.04 1509.26 Q2094.48 1509.26 2092.97 1511.01 Q2091.49 1512.76 2091.49 1515.81 Q2091.49 1518.83 2092.97 1520.6 Q2094.48 1522.35 2097.04 1522.35 Q2099.59 1522.35 2101.08 1520.6 Q2102.58 1518.83 2102.58 1515.81 Q2102.58 1512.76 2101.08 1511.01 Q2099.59 1509.26 2097.04 1509.26 M2104.58 1497.35 L2104.58 1500.82 Q2103.15 1500.14 2101.68 1499.78 Q2100.23 1499.42 2098.8 1499.42 Q2095.04 1499.42 2093.05 1501.96 Q2091.07 1504.5 2090.79 1509.64 Q2091.9 1508 2093.57 1507.13 Q2095.25 1506.25 2097.26 1506.25 Q2101.49 1506.25 2103.94 1508.83 Q2106.4 1511.39 2106.4 1515.81 Q2106.4 1520.13 2103.84 1522.75 Q2101.29 1525.36 2097.04 1525.36 Q2092.16 1525.36 2089.59 1521.64 Q2087.01 1517.89 2087.01 1510.8 Q2087.01 1504.14 2090.17 1500.19 Q2093.33 1496.23 2098.65 1496.23 Q2100.08 1496.23 2101.53 1496.51 Q2103 1496.79 2104.58 1497.35 Z\" fill=\"#000000\" fill-rule=\"evenodd\" fill-opacity=\"1\" /><polyline clip-path=\"url(#clip262)\" style=\"stroke:#000000; stroke-linecap:round; stroke-linejoin:round; stroke-width:2; stroke-opacity:0.1; fill:none\" points=\"\n",
       "  170.719,1433.78 2352.76,1433.78 \n",
       "  \"/>\n",
       "<polyline clip-path=\"url(#clip262)\" style=\"stroke:#000000; stroke-linecap:round; stroke-linejoin:round; stroke-width:2; stroke-opacity:0.1; fill:none\" points=\"\n",
       "  170.719,1164.55 2352.76,1164.55 \n",
       "  \"/>\n",
       "<polyline clip-path=\"url(#clip262)\" style=\"stroke:#000000; stroke-linecap:round; stroke-linejoin:round; stroke-width:2; stroke-opacity:0.1; fill:none\" points=\"\n",
       "  170.719,895.32 2352.76,895.32 \n",
       "  \"/>\n",
       "<polyline clip-path=\"url(#clip262)\" style=\"stroke:#000000; stroke-linecap:round; stroke-linejoin:round; stroke-width:2; stroke-opacity:0.1; fill:none\" points=\"\n",
       "  170.719,626.089 2352.76,626.089 \n",
       "  \"/>\n",
       "<polyline clip-path=\"url(#clip262)\" style=\"stroke:#000000; stroke-linecap:round; stroke-linejoin:round; stroke-width:2; stroke-opacity:0.1; fill:none\" points=\"\n",
       "  170.719,356.859 2352.76,356.859 \n",
       "  \"/>\n",
       "<polyline clip-path=\"url(#clip262)\" style=\"stroke:#000000; stroke-linecap:round; stroke-linejoin:round; stroke-width:2; stroke-opacity:0.1; fill:none\" points=\"\n",
       "  170.719,87.6286 2352.76,87.6286 \n",
       "  \"/>\n",
       "<polyline clip-path=\"url(#clip260)\" style=\"stroke:#000000; stroke-linecap:round; stroke-linejoin:round; stroke-width:4; stroke-opacity:1; fill:none\" points=\"\n",
       "  170.719,1474.16 170.719,47.2441 \n",
       "  \"/>\n",
       "<polyline clip-path=\"url(#clip260)\" style=\"stroke:#000000; stroke-linecap:round; stroke-linejoin:round; stroke-width:4; stroke-opacity:1; fill:none\" points=\"\n",
       "  170.719,1433.78 189.616,1433.78 \n",
       "  \"/>\n",
       "<polyline clip-path=\"url(#clip260)\" style=\"stroke:#000000; stroke-linecap:round; stroke-linejoin:round; stroke-width:4; stroke-opacity:1; fill:none\" points=\"\n",
       "  170.719,1164.55 189.616,1164.55 \n",
       "  \"/>\n",
       "<polyline clip-path=\"url(#clip260)\" style=\"stroke:#000000; stroke-linecap:round; stroke-linejoin:round; stroke-width:4; stroke-opacity:1; fill:none\" points=\"\n",
       "  170.719,895.32 189.616,895.32 \n",
       "  \"/>\n",
       "<polyline clip-path=\"url(#clip260)\" style=\"stroke:#000000; stroke-linecap:round; stroke-linejoin:round; stroke-width:4; stroke-opacity:1; fill:none\" points=\"\n",
       "  170.719,626.089 189.616,626.089 \n",
       "  \"/>\n",
       "<polyline clip-path=\"url(#clip260)\" style=\"stroke:#000000; stroke-linecap:round; stroke-linejoin:round; stroke-width:4; stroke-opacity:1; fill:none\" points=\"\n",
       "  170.719,356.859 189.616,356.859 \n",
       "  \"/>\n",
       "<polyline clip-path=\"url(#clip260)\" style=\"stroke:#000000; stroke-linecap:round; stroke-linejoin:round; stroke-width:4; stroke-opacity:1; fill:none\" points=\"\n",
       "  170.719,87.6286 189.616,87.6286 \n",
       "  \"/>\n",
       "<path clip-path=\"url(#clip260)\" d=\"M66.617 1432.43 Q69.9735 1433.14 71.8485 1435.41 Q73.7466 1437.68 73.7466 1441.01 Q73.7466 1446.13 70.2281 1448.93 Q66.7096 1451.73 60.2282 1451.73 Q58.0523 1451.73 55.7375 1451.29 Q53.4458 1450.87 50.9921 1450.02 L50.9921 1445.5 Q52.9366 1446.64 55.2514 1447.22 Q57.5662 1447.8 60.0893 1447.8 Q64.4874 1447.8 66.7791 1446.06 Q69.0939 1444.32 69.0939 1441.01 Q69.0939 1437.96 66.9411 1436.25 Q64.8115 1434.51 60.9921 1434.51 L56.9643 1434.51 L56.9643 1430.67 L61.1773 1430.67 Q64.6263 1430.67 66.455 1429.3 Q68.2837 1427.91 68.2837 1425.32 Q68.2837 1422.66 66.3856 1421.25 Q64.5106 1419.81 60.9921 1419.81 Q59.0708 1419.81 56.8717 1420.23 Q54.6727 1420.64 52.0338 1421.52 L52.0338 1417.36 Q54.6958 1416.62 57.0106 1416.25 Q59.3486 1415.88 61.4087 1415.88 Q66.7328 1415.88 69.8346 1418.31 Q72.9365 1420.71 72.9365 1424.83 Q72.9365 1427.7 71.2929 1429.69 Q69.6494 1431.66 66.617 1432.43 Z\" fill=\"#000000\" fill-rule=\"evenodd\" fill-opacity=\"1\" /><path clip-path=\"url(#clip260)\" d=\"M92.6123 1419.58 Q89.0012 1419.58 87.1725 1423.14 Q85.3669 1426.69 85.3669 1433.81 Q85.3669 1440.92 87.1725 1444.49 Q89.0012 1448.03 92.6123 1448.03 Q96.2465 1448.03 98.0521 1444.49 Q99.8808 1440.92 99.8808 1433.81 Q99.8808 1426.69 98.0521 1423.14 Q96.2465 1419.58 92.6123 1419.58 M92.6123 1415.88 Q98.4224 1415.88 101.478 1420.48 Q104.557 1425.06 104.557 1433.81 Q104.557 1442.54 101.478 1447.15 Q98.4224 1451.73 92.6123 1451.73 Q86.8021 1451.73 83.7234 1447.15 Q80.6679 1442.54 80.6679 1433.81 Q80.6679 1425.06 83.7234 1420.48 Q86.8021 1415.88 92.6123 1415.88 Z\" fill=\"#000000\" fill-rule=\"evenodd\" fill-opacity=\"1\" /><path clip-path=\"url(#clip260)\" d=\"M122.774 1419.58 Q119.163 1419.58 117.334 1423.14 Q115.529 1426.69 115.529 1433.81 Q115.529 1440.92 117.334 1444.49 Q119.163 1448.03 122.774 1448.03 Q126.408 1448.03 128.214 1444.49 Q130.043 1440.92 130.043 1433.81 Q130.043 1426.69 128.214 1423.14 Q126.408 1419.58 122.774 1419.58 M122.774 1415.88 Q128.584 1415.88 131.64 1420.48 Q134.719 1425.06 134.719 1433.81 Q134.719 1442.54 131.64 1447.15 Q128.584 1451.73 122.774 1451.73 Q116.964 1451.73 113.885 1447.15 Q110.83 1442.54 110.83 1433.81 Q110.83 1425.06 113.885 1420.48 Q116.964 1415.88 122.774 1415.88 Z\" fill=\"#000000\" fill-rule=\"evenodd\" fill-opacity=\"1\" /><path clip-path=\"url(#clip260)\" d=\"M66.617 1163.2 Q69.9735 1163.91 71.8485 1166.18 Q73.7466 1168.45 73.7466 1171.78 Q73.7466 1176.9 70.2281 1179.7 Q66.7096 1182.5 60.2282 1182.5 Q58.0523 1182.5 55.7375 1182.06 Q53.4458 1181.64 50.9921 1180.79 L50.9921 1176.27 Q52.9366 1177.41 55.2514 1177.99 Q57.5662 1178.57 60.0893 1178.57 Q64.4874 1178.57 66.7791 1176.83 Q69.0939 1175.09 69.0939 1171.78 Q69.0939 1168.73 66.9411 1167.02 Q64.8115 1165.28 60.9921 1165.28 L56.9643 1165.28 L56.9643 1161.44 L61.1773 1161.44 Q64.6263 1161.44 66.455 1160.07 Q68.2837 1158.68 68.2837 1156.09 Q68.2837 1153.43 66.3856 1152.02 Q64.5106 1150.58 60.9921 1150.58 Q59.0708 1150.58 56.8717 1151 Q54.6727 1151.41 52.0338 1152.29 L52.0338 1148.13 Q54.6958 1147.39 57.0106 1147.02 Q59.3486 1146.64 61.4087 1146.64 Q66.7328 1146.64 69.8346 1149.08 Q72.9365 1151.48 72.9365 1155.6 Q72.9365 1158.47 71.2929 1160.46 Q69.6494 1162.43 66.617 1163.2 Z\" fill=\"#000000\" fill-rule=\"evenodd\" fill-opacity=\"1\" /><path clip-path=\"url(#clip260)\" d=\"M83.4225 1177.89 L91.0614 1177.89 L91.0614 1151.53 L82.7512 1153.2 L82.7512 1148.94 L91.0151 1147.27 L95.691 1147.27 L95.691 1177.89 L103.33 1177.89 L103.33 1181.83 L83.4225 1181.83 L83.4225 1177.89 Z\" fill=\"#000000\" fill-rule=\"evenodd\" fill-opacity=\"1\" /><path clip-path=\"url(#clip260)\" d=\"M122.774 1150.35 Q119.163 1150.35 117.334 1153.91 Q115.529 1157.45 115.529 1164.58 Q115.529 1171.69 117.334 1175.26 Q119.163 1178.8 122.774 1178.8 Q126.408 1178.8 128.214 1175.26 Q130.043 1171.69 130.043 1164.58 Q130.043 1157.45 128.214 1153.91 Q126.408 1150.35 122.774 1150.35 M122.774 1146.64 Q128.584 1146.64 131.64 1151.25 Q134.719 1155.83 134.719 1164.58 Q134.719 1173.31 131.64 1177.92 Q128.584 1182.5 122.774 1182.5 Q116.964 1182.5 113.885 1177.92 Q110.83 1173.31 110.83 1164.58 Q110.83 1155.83 113.885 1151.25 Q116.964 1146.64 122.774 1146.64 Z\" fill=\"#000000\" fill-rule=\"evenodd\" fill-opacity=\"1\" /><path clip-path=\"url(#clip260)\" d=\"M66.617 893.965 Q69.9735 894.683 71.8485 896.951 Q73.7466 899.22 73.7466 902.553 Q73.7466 907.669 70.2281 910.47 Q66.7096 913.271 60.2282 913.271 Q58.0523 913.271 55.7375 912.831 Q53.4458 912.414 50.9921 911.558 L50.9921 907.044 Q52.9366 908.178 55.2514 908.757 Q57.5662 909.336 60.0893 909.336 Q64.4874 909.336 66.7791 907.6 Q69.0939 905.863 69.0939 902.553 Q69.0939 899.498 66.9411 897.785 Q64.8115 896.049 60.9921 896.049 L56.9643 896.049 L56.9643 892.206 L61.1773 892.206 Q64.6263 892.206 66.455 890.84 Q68.2837 889.452 68.2837 886.859 Q68.2837 884.197 66.3856 882.785 Q64.5106 881.35 60.9921 881.35 Q59.0708 881.35 56.8717 881.766 Q54.6727 882.183 52.0338 883.063 L52.0338 878.896 Q54.6958 878.155 57.0106 877.785 Q59.3486 877.415 61.4087 877.415 Q66.7328 877.415 69.8346 879.845 Q72.9365 882.252 72.9365 886.373 Q72.9365 889.243 71.2929 891.234 Q69.6494 893.201 66.617 893.965 Z\" fill=\"#000000\" fill-rule=\"evenodd\" fill-opacity=\"1\" /><path clip-path=\"url(#clip260)\" d=\"M86.6401 908.664 L102.959 908.664 L102.959 912.6 L81.0151 912.6 L81.0151 908.664 Q83.6771 905.91 88.2604 901.28 Q92.8669 896.627 94.0475 895.285 Q96.2928 892.762 97.1724 891.026 Q98.0752 889.266 98.0752 887.577 Q98.0752 884.822 96.1308 883.086 Q94.2095 881.35 91.1077 881.35 Q88.9086 881.35 86.4549 882.114 Q84.0244 882.877 81.2466 884.428 L81.2466 879.706 Q84.0707 878.572 86.5243 877.993 Q88.978 877.415 91.0151 877.415 Q96.3854 877.415 99.5798 880.1 Q102.774 882.785 102.774 887.276 Q102.774 889.405 101.964 891.326 Q101.177 893.225 99.0706 895.817 Q98.4919 896.489 95.39 899.706 Q92.2882 902.901 86.6401 908.664 Z\" fill=\"#000000\" fill-rule=\"evenodd\" fill-opacity=\"1\" /><path clip-path=\"url(#clip260)\" d=\"M122.774 881.118 Q119.163 881.118 117.334 884.683 Q115.529 888.225 115.529 895.354 Q115.529 902.461 117.334 906.025 Q119.163 909.567 122.774 909.567 Q126.408 909.567 128.214 906.025 Q130.043 902.461 130.043 895.354 Q130.043 888.225 128.214 884.683 Q126.408 881.118 122.774 881.118 M122.774 877.415 Q128.584 877.415 131.64 882.021 Q134.719 886.604 134.719 895.354 Q134.719 904.081 131.64 908.688 Q128.584 913.271 122.774 913.271 Q116.964 913.271 113.885 908.688 Q110.83 904.081 110.83 895.354 Q110.83 886.604 113.885 882.021 Q116.964 877.415 122.774 877.415 Z\" fill=\"#000000\" fill-rule=\"evenodd\" fill-opacity=\"1\" /><path clip-path=\"url(#clip260)\" d=\"M66.617 624.735 Q69.9735 625.453 71.8485 627.721 Q73.7466 629.99 73.7466 633.323 Q73.7466 638.439 70.2281 641.24 Q66.7096 644.041 60.2282 644.041 Q58.0523 644.041 55.7375 643.601 Q53.4458 643.184 50.9921 642.328 L50.9921 637.814 Q52.9366 638.948 55.2514 639.527 Q57.5662 640.105 60.0893 640.105 Q64.4874 640.105 66.7791 638.369 Q69.0939 636.633 69.0939 633.323 Q69.0939 630.267 66.9411 628.554 Q64.8115 626.818 60.9921 626.818 L56.9643 626.818 L56.9643 622.976 L61.1773 622.976 Q64.6263 622.976 66.455 621.61 Q68.2837 620.221 68.2837 617.629 Q68.2837 614.967 66.3856 613.555 Q64.5106 612.119 60.9921 612.119 Q59.0708 612.119 56.8717 612.536 Q54.6727 612.953 52.0338 613.832 L52.0338 609.666 Q54.6958 608.925 57.0106 608.555 Q59.3486 608.184 61.4087 608.184 Q66.7328 608.184 69.8346 610.615 Q72.9365 613.022 72.9365 617.143 Q72.9365 620.013 71.2929 622.004 Q69.6494 623.971 66.617 624.735 Z\" fill=\"#000000\" fill-rule=\"evenodd\" fill-opacity=\"1\" /><path clip-path=\"url(#clip260)\" d=\"M96.7789 624.735 Q100.135 625.453 102.01 627.721 Q103.909 629.99 103.909 633.323 Q103.909 638.439 100.39 641.24 Q96.8715 644.041 90.3901 644.041 Q88.2141 644.041 85.8993 643.601 Q83.6077 643.184 81.154 642.328 L81.154 637.814 Q83.0984 638.948 85.4132 639.527 Q87.728 640.105 90.2512 640.105 Q94.6493 640.105 96.941 638.369 Q99.2558 636.633 99.2558 633.323 Q99.2558 630.267 97.103 628.554 Q94.9734 626.818 91.1539 626.818 L87.1262 626.818 L87.1262 622.976 L91.3391 622.976 Q94.7882 622.976 96.6169 621.61 Q98.4456 620.221 98.4456 617.629 Q98.4456 614.967 96.5474 613.555 Q94.6724 612.119 91.1539 612.119 Q89.2327 612.119 87.0336 612.536 Q84.8345 612.953 82.1957 613.832 L82.1957 609.666 Q84.8577 608.925 87.1725 608.555 Q89.5104 608.184 91.5706 608.184 Q96.8947 608.184 99.9965 610.615 Q103.098 613.022 103.098 617.143 Q103.098 620.013 101.455 622.004 Q99.8113 623.971 96.7789 624.735 Z\" fill=\"#000000\" fill-rule=\"evenodd\" fill-opacity=\"1\" /><path clip-path=\"url(#clip260)\" d=\"M122.774 611.888 Q119.163 611.888 117.334 615.453 Q115.529 618.994 115.529 626.124 Q115.529 633.23 117.334 636.795 Q119.163 640.337 122.774 640.337 Q126.408 640.337 128.214 636.795 Q130.043 633.23 130.043 626.124 Q130.043 618.994 128.214 615.453 Q126.408 611.888 122.774 611.888 M122.774 608.184 Q128.584 608.184 131.64 612.791 Q134.719 617.374 134.719 626.124 Q134.719 634.851 131.64 639.457 Q128.584 644.041 122.774 644.041 Q116.964 644.041 113.885 639.457 Q110.83 634.851 110.83 626.124 Q110.83 617.374 113.885 612.791 Q116.964 608.184 122.774 608.184 Z\" fill=\"#000000\" fill-rule=\"evenodd\" fill-opacity=\"1\" /><path clip-path=\"url(#clip260)\" d=\"M66.617 355.505 Q69.9735 356.222 71.8485 358.491 Q73.7466 360.759 73.7466 364.093 Q73.7466 369.208 70.2281 372.009 Q66.7096 374.81 60.2282 374.81 Q58.0523 374.81 55.7375 374.37 Q53.4458 373.954 50.9921 373.097 L50.9921 368.583 Q52.9366 369.718 55.2514 370.296 Q57.5662 370.875 60.0893 370.875 Q64.4874 370.875 66.7791 369.139 Q69.0939 367.403 69.0939 364.093 Q69.0939 361.037 66.9411 359.324 Q64.8115 357.588 60.9921 357.588 L56.9643 357.588 L56.9643 353.746 L61.1773 353.746 Q64.6263 353.746 66.455 352.38 Q68.2837 350.991 68.2837 348.398 Q68.2837 345.736 66.3856 344.324 Q64.5106 342.889 60.9921 342.889 Q59.0708 342.889 56.8717 343.306 Q54.6727 343.722 52.0338 344.602 L52.0338 340.435 Q54.6958 339.695 57.0106 339.324 Q59.3486 338.954 61.4087 338.954 Q66.7328 338.954 69.8346 341.384 Q72.9365 343.792 72.9365 347.912 Q72.9365 350.783 71.2929 352.773 Q69.6494 354.741 66.617 355.505 Z\" fill=\"#000000\" fill-rule=\"evenodd\" fill-opacity=\"1\" /><path clip-path=\"url(#clip260)\" d=\"M95.4595 343.653 L83.654 362.102 L95.4595 362.102 L95.4595 343.653 M94.2326 339.579 L100.112 339.579 L100.112 362.102 L105.043 362.102 L105.043 365.991 L100.112 365.991 L100.112 374.139 L95.4595 374.139 L95.4595 365.991 L79.8577 365.991 L79.8577 361.477 L94.2326 339.579 Z\" fill=\"#000000\" fill-rule=\"evenodd\" fill-opacity=\"1\" /><path clip-path=\"url(#clip260)\" d=\"M122.774 342.658 Q119.163 342.658 117.334 346.222 Q115.529 349.764 115.529 356.894 Q115.529 364 117.334 367.565 Q119.163 371.107 122.774 371.107 Q126.408 371.107 128.214 367.565 Q130.043 364 130.043 356.894 Q130.043 349.764 128.214 346.222 Q126.408 342.658 122.774 342.658 M122.774 338.954 Q128.584 338.954 131.64 343.56 Q134.719 348.144 134.719 356.894 Q134.719 365.62 131.64 370.227 Q128.584 374.81 122.774 374.81 Q116.964 374.81 113.885 370.227 Q110.83 365.62 110.83 356.894 Q110.83 348.144 113.885 343.56 Q116.964 338.954 122.774 338.954 Z\" fill=\"#000000\" fill-rule=\"evenodd\" fill-opacity=\"1\" /><path clip-path=\"url(#clip260)\" d=\"M66.617 86.2745 Q69.9735 86.9921 71.8485 89.2606 Q73.7466 91.5291 73.7466 94.8624 Q73.7466 99.9781 70.2281 102.779 Q66.7096 105.58 60.2282 105.58 Q58.0523 105.58 55.7375 105.14 Q53.4458 104.723 50.9921 103.867 L50.9921 99.3531 Q52.9366 100.487 55.2514 101.066 Q57.5662 101.645 60.0893 101.645 Q64.4874 101.645 66.7791 99.9087 Q69.0939 98.1726 69.0939 94.8624 Q69.0939 91.8069 66.9411 90.0939 Q64.8115 88.3578 60.9921 88.3578 L56.9643 88.3578 L56.9643 84.5152 L61.1773 84.5152 Q64.6263 84.5152 66.455 83.1495 Q68.2837 81.7606 68.2837 79.168 Q68.2837 76.506 66.3856 75.094 Q64.5106 73.6588 60.9921 73.6588 Q59.0708 73.6588 56.8717 74.0755 Q54.6727 74.4921 52.0338 75.3718 L52.0338 71.2051 Q54.6958 70.4644 57.0106 70.094 Q59.3486 69.7236 61.4087 69.7236 Q66.7328 69.7236 69.8346 72.1542 Q72.9365 74.5616 72.9365 78.6819 Q72.9365 81.5523 71.2929 83.543 Q69.6494 85.5106 66.617 86.2745 Z\" fill=\"#000000\" fill-rule=\"evenodd\" fill-opacity=\"1\" /><path clip-path=\"url(#clip260)\" d=\"M82.6586 70.3486 L101.015 70.3486 L101.015 74.2838 L86.941 74.2838 L86.941 82.756 Q87.9595 82.4088 88.978 82.2467 Q89.9965 82.0615 91.0151 82.0615 Q96.8021 82.0615 100.182 85.2328 Q103.561 88.4041 103.561 93.8207 Q103.561 99.3994 100.089 102.501 Q96.6169 105.58 90.2975 105.58 Q88.1216 105.58 85.8531 105.21 Q83.6077 104.839 81.2003 104.098 L81.2003 99.3994 Q83.2836 100.534 85.5058 101.089 Q87.728 101.645 90.2049 101.645 Q94.2095 101.645 96.5474 99.5383 Q98.8854 97.4318 98.8854 93.8207 Q98.8854 90.2096 96.5474 88.1032 Q94.2095 85.9967 90.2049 85.9967 Q88.3299 85.9967 86.4549 86.4134 Q84.6031 86.83 82.6586 87.7097 L82.6586 70.3486 Z\" fill=\"#000000\" fill-rule=\"evenodd\" fill-opacity=\"1\" /><path clip-path=\"url(#clip260)\" d=\"M122.774 73.4273 Q119.163 73.4273 117.334 76.9921 Q115.529 80.5338 115.529 87.6634 Q115.529 94.7698 117.334 98.3346 Q119.163 101.876 122.774 101.876 Q126.408 101.876 128.214 98.3346 Q130.043 94.7698 130.043 87.6634 Q130.043 80.5338 128.214 76.9921 Q126.408 73.4273 122.774 73.4273 M122.774 69.7236 Q128.584 69.7236 131.64 74.3301 Q134.719 78.9134 134.719 87.6634 Q134.719 96.3902 131.64 100.997 Q128.584 105.58 122.774 105.58 Q116.964 105.58 113.885 100.997 Q110.83 96.3902 110.83 87.6634 Q110.83 78.9134 113.885 74.3301 Q116.964 69.7236 122.774 69.7236 Z\" fill=\"#000000\" fill-rule=\"evenodd\" fill-opacity=\"1\" /><polyline clip-path=\"url(#clip262)\" style=\"stroke:#009af9; stroke-linecap:round; stroke-linejoin:round; stroke-width:4; stroke-opacity:1; fill:none\" points=\"\n",
       "  232.474,1433.78 245.876,1389.96 369.798,984.772 444.27,741.271 507.236,535.394 541.434,423.574 575.633,311.754 591.397,260.21 607.162,208.666 615.044,182.894 \n",
       "  622.926,157.122 630.808,131.35 638.69,105.578 640.803,98.6702 642.915,91.7626 645.028,87.6286 647.14,87.6286 651.366,87.6286 655.591,87.6286 664.041,87.6286 \n",
       "  672.492,87.6286 689.392,87.6286 706.293,87.6286 745.456,87.6286 784.619,87.6286 854.225,87.6286 915.263,87.6286 981.811,87.6286 1048.75,87.6286 1122.77,87.6286 \n",
       "  1193.19,87.6286 1266.42,87.6286 1328.06,87.6286 1403.31,87.6286 1472.25,87.6286 1535.92,87.6286 1600.41,87.6286 1672.69,87.6286 1738.19,87.6286 1813.18,87.6286 \n",
       "  1882.61,87.6286 1951.07,87.6286 2017.53,87.6286 2085.67,87.6286 2160.31,87.6286 2268.75,87.6286 2291,87.6286 \n",
       "  \"/>\n",
       "<path clip-path=\"url(#clip260)\" d=\"\n",
       "M2009.39 1426.6 L2280.02 1426.6 L2280.02 1322.92 L2009.39 1322.92  Z\n",
       "  \" fill=\"#ffffff\" fill-rule=\"evenodd\" fill-opacity=\"1\"/>\n",
       "<polyline clip-path=\"url(#clip260)\" style=\"stroke:#000000; stroke-linecap:round; stroke-linejoin:round; stroke-width:4; stroke-opacity:1; fill:none\" points=\"\n",
       "  2009.39,1426.6 2280.02,1426.6 2280.02,1322.92 2009.39,1322.92 2009.39,1426.6 \n",
       "  \"/>\n",
       "<polyline clip-path=\"url(#clip260)\" style=\"stroke:#009af9; stroke-linecap:round; stroke-linejoin:round; stroke-width:4; stroke-opacity:1; fill:none\" points=\"\n",
       "  2033.63,1374.76 2179.1,1374.76 \n",
       "  \"/>\n",
       "<path clip-path=\"url(#clip260)\" d=\"M2217.19 1394.45 Q2215.38 1399.08 2213.67 1400.49 Q2211.96 1401.9 2209.09 1401.9 L2205.68 1401.9 L2205.68 1398.34 L2208.18 1398.34 Q2209.94 1398.34 2210.92 1397.5 Q2211.89 1396.67 2213.07 1393.57 L2213.83 1391.62 L2203.35 1366.11 L2207.86 1366.11 L2215.96 1386.39 L2224.06 1366.11 L2228.58 1366.11 L2217.19 1394.45 Z\" fill=\"#000000\" fill-rule=\"evenodd\" fill-opacity=\"1\" /><path clip-path=\"url(#clip260)\" d=\"M2235.87 1388.11 L2243.51 1388.11 L2243.51 1361.74 L2235.2 1363.41 L2235.2 1359.15 L2243.46 1357.48 L2248.14 1357.48 L2248.14 1388.11 L2255.78 1388.11 L2255.78 1392.04 L2235.87 1392.04 L2235.87 1388.11 Z\" fill=\"#000000\" fill-rule=\"evenodd\" fill-opacity=\"1\" /></svg>\n"
      ]
     },
     "execution_count": 10,
     "metadata": {},
     "output_type": "execute_result"
    }
   ],
   "source": [
    "function Tfun(u)  \n",
    "    if u <= uTran_Temp\n",
    "      return ((TAppMax - T0)/uTran_Temp)*u + T0\n",
    "    else\n",
    "     return  TAppMax\n",
    "    end\n",
    "end \n",
    "plot(Tfun,0,uMax)"
   ]
  },
  {
   "cell_type": "code",
   "execution_count": 11,
   "id": "988e7469",
   "metadata": {},
   "outputs": [
    {
     "data": {
      "image/svg+xml": [
       "<?xml version=\"1.0\" encoding=\"utf-8\"?>\n",
       "<svg xmlns=\"http://www.w3.org/2000/svg\" xmlns:xlink=\"http://www.w3.org/1999/xlink\" width=\"600\" height=\"400\" viewBox=\"0 0 2400 1600\">\n",
       "<defs>\n",
       "  <clipPath id=\"clip300\">\n",
       "    <rect x=\"0\" y=\"0\" width=\"2400\" height=\"1600\"/>\n",
       "  </clipPath>\n",
       "</defs>\n",
       "<path clip-path=\"url(#clip300)\" d=\"\n",
       "M0 1600 L2400 1600 L2400 0 L0 0  Z\n",
       "  \" fill=\"#ffffff\" fill-rule=\"evenodd\" fill-opacity=\"1\"/>\n",
       "<defs>\n",
       "  <clipPath id=\"clip301\">\n",
       "    <rect x=\"480\" y=\"0\" width=\"1681\" height=\"1600\"/>\n",
       "  </clipPath>\n",
       "</defs>\n",
       "<path clip-path=\"url(#clip300)\" d=\"\n",
       "M199.283 1474.16 L2352.76 1474.16 L2352.76 47.2441 L199.283 47.2441  Z\n",
       "  \" fill=\"#ffffff\" fill-rule=\"evenodd\" fill-opacity=\"1\"/>\n",
       "<defs>\n",
       "  <clipPath id=\"clip302\">\n",
       "    <rect x=\"199\" y=\"47\" width=\"2154\" height=\"1428\"/>\n",
       "  </clipPath>\n",
       "</defs>\n",
       "<polyline clip-path=\"url(#clip302)\" style=\"stroke:#000000; stroke-linecap:round; stroke-linejoin:round; stroke-width:2; stroke-opacity:0.1; fill:none\" points=\"\n",
       "  260.231,1474.16 260.231,47.2441 \n",
       "  \"/>\n",
       "<polyline clip-path=\"url(#clip302)\" style=\"stroke:#000000; stroke-linecap:round; stroke-linejoin:round; stroke-width:2; stroke-opacity:0.1; fill:none\" points=\"\n",
       "  840.681,1474.16 840.681,47.2441 \n",
       "  \"/>\n",
       "<polyline clip-path=\"url(#clip302)\" style=\"stroke:#000000; stroke-linecap:round; stroke-linejoin:round; stroke-width:2; stroke-opacity:0.1; fill:none\" points=\"\n",
       "  1421.13,1474.16 1421.13,47.2441 \n",
       "  \"/>\n",
       "<polyline clip-path=\"url(#clip302)\" style=\"stroke:#000000; stroke-linecap:round; stroke-linejoin:round; stroke-width:2; stroke-opacity:0.1; fill:none\" points=\"\n",
       "  2001.58,1474.16 2001.58,47.2441 \n",
       "  \"/>\n",
       "<polyline clip-path=\"url(#clip300)\" style=\"stroke:#000000; stroke-linecap:round; stroke-linejoin:round; stroke-width:4; stroke-opacity:1; fill:none\" points=\"\n",
       "  199.283,1474.16 2352.76,1474.16 \n",
       "  \"/>\n",
       "<polyline clip-path=\"url(#clip300)\" style=\"stroke:#000000; stroke-linecap:round; stroke-linejoin:round; stroke-width:4; stroke-opacity:1; fill:none\" points=\"\n",
       "  260.231,1474.16 260.231,1455.27 \n",
       "  \"/>\n",
       "<polyline clip-path=\"url(#clip300)\" style=\"stroke:#000000; stroke-linecap:round; stroke-linejoin:round; stroke-width:4; stroke-opacity:1; fill:none\" points=\"\n",
       "  840.681,1474.16 840.681,1455.27 \n",
       "  \"/>\n",
       "<polyline clip-path=\"url(#clip300)\" style=\"stroke:#000000; stroke-linecap:round; stroke-linejoin:round; stroke-width:4; stroke-opacity:1; fill:none\" points=\"\n",
       "  1421.13,1474.16 1421.13,1455.27 \n",
       "  \"/>\n",
       "<polyline clip-path=\"url(#clip300)\" style=\"stroke:#000000; stroke-linecap:round; stroke-linejoin:round; stroke-width:4; stroke-opacity:1; fill:none\" points=\"\n",
       "  2001.58,1474.16 2001.58,1455.27 \n",
       "  \"/>\n",
       "<path clip-path=\"url(#clip300)\" d=\"M260.231 1505.08 Q256.619 1505.08 254.791 1508.65 Q252.985 1512.19 252.985 1519.32 Q252.985 1526.43 254.791 1529.99 Q256.619 1533.53 260.231 1533.53 Q263.865 1533.53 265.67 1529.99 Q267.499 1526.43 267.499 1519.32 Q267.499 1512.19 265.67 1508.65 Q263.865 1505.08 260.231 1505.08 M260.231 1501.38 Q266.041 1501.38 269.096 1505.99 Q272.175 1510.57 272.175 1519.32 Q272.175 1528.05 269.096 1532.65 Q266.041 1537.24 260.231 1537.24 Q254.42 1537.24 251.342 1532.65 Q248.286 1528.05 248.286 1519.32 Q248.286 1510.57 251.342 1505.99 Q254.42 1501.38 260.231 1501.38 Z\" fill=\"#000000\" fill-rule=\"evenodd\" fill-opacity=\"1\" /><path clip-path=\"url(#clip300)\" d=\"M732.675 1548.29 L740.314 1548.29 L740.314 1521.92 L732.004 1523.59 L732.004 1519.33 L740.267 1517.66 L744.943 1517.66 L744.943 1548.29 L752.582 1548.29 L752.582 1552.22 L732.675 1552.22 L732.675 1548.29 Z\" fill=\"#000000\" fill-rule=\"evenodd\" fill-opacity=\"1\" /><path clip-path=\"url(#clip300)\" d=\"M762.027 1546.35 L766.911 1546.35 L766.911 1552.22 L762.027 1552.22 L762.027 1546.35 Z\" fill=\"#000000\" fill-rule=\"evenodd\" fill-opacity=\"1\" /><path clip-path=\"url(#clip300)\" d=\"M787.096 1520.74 Q783.485 1520.74 781.656 1524.31 Q779.851 1527.85 779.851 1534.98 Q779.851 1542.09 781.656 1545.65 Q783.485 1549.19 787.096 1549.19 Q790.73 1549.19 792.536 1545.65 Q794.364 1542.09 794.364 1534.98 Q794.364 1527.85 792.536 1524.31 Q790.73 1520.74 787.096 1520.74 M787.096 1517.04 Q792.906 1517.04 795.962 1521.65 Q799.04 1526.23 799.04 1534.98 Q799.04 1543.71 795.962 1548.31 Q792.906 1552.9 787.096 1552.9 Q781.286 1552.9 778.207 1548.31 Q775.152 1543.71 775.152 1534.98 Q775.152 1526.23 778.207 1521.65 Q781.286 1517.04 787.096 1517.04 Z\" fill=\"#000000\" fill-rule=\"evenodd\" fill-opacity=\"1\" /><path clip-path=\"url(#clip300)\" d=\"M835.429 1526.76 L824.85 1537.39 L835.429 1547.97 L832.674 1550.77 L822.049 1540.14 L811.424 1550.77 L808.693 1547.97 L819.248 1537.39 L808.693 1526.76 L811.424 1523.96 L822.049 1534.59 L832.674 1523.96 L835.429 1526.76 Z\" fill=\"#000000\" fill-rule=\"evenodd\" fill-opacity=\"1\" /><path clip-path=\"url(#clip300)\" d=\"M847.79 1548.29 L855.429 1548.29 L855.429 1521.92 L847.119 1523.59 L847.119 1519.33 L855.383 1517.66 L860.058 1517.66 L860.058 1548.29 L867.697 1548.29 L867.697 1552.22 L847.79 1552.22 L847.79 1548.29 Z\" fill=\"#000000\" fill-rule=\"evenodd\" fill-opacity=\"1\" /><path clip-path=\"url(#clip300)\" d=\"M887.142 1520.74 Q883.531 1520.74 881.702 1524.31 Q879.896 1527.85 879.896 1534.98 Q879.896 1542.09 881.702 1545.65 Q883.531 1549.19 887.142 1549.19 Q890.776 1549.19 892.581 1545.65 Q894.41 1542.09 894.41 1534.98 Q894.41 1527.85 892.581 1524.31 Q890.776 1520.74 887.142 1520.74 M887.142 1517.04 Q892.952 1517.04 896.007 1521.65 Q899.086 1526.23 899.086 1534.98 Q899.086 1543.71 896.007 1548.31 Q892.952 1552.9 887.142 1552.9 Q881.331 1552.9 878.253 1548.31 Q875.197 1543.71 875.197 1534.98 Q875.197 1526.23 878.253 1521.65 Q881.331 1517.04 887.142 1517.04 Z\" fill=\"#000000\" fill-rule=\"evenodd\" fill-opacity=\"1\" /><path clip-path=\"url(#clip300)\" d=\"M899.086 1511.14 L923.198 1511.14 L923.198 1514.34 L899.086 1514.34 L899.086 1511.14 Z\" fill=\"#000000\" fill-rule=\"evenodd\" fill-opacity=\"1\" /><path clip-path=\"url(#clip300)\" d=\"M939.993 1509.26 Q937.435 1509.26 935.93 1511.01 Q934.445 1512.76 934.445 1515.81 Q934.445 1518.83 935.93 1520.6 Q937.435 1522.35 939.993 1522.35 Q942.551 1522.35 944.037 1520.6 Q945.541 1518.83 945.541 1515.81 Q945.541 1512.76 944.037 1511.01 Q942.551 1509.26 939.993 1509.26 M947.535 1497.35 L947.535 1500.82 Q946.105 1500.14 944.638 1499.78 Q943.19 1499.42 941.761 1499.42 Q937.999 1499.42 936.006 1501.96 Q934.031 1504.5 933.749 1509.64 Q934.858 1508 936.532 1507.13 Q938.206 1506.25 940.219 1506.25 Q944.45 1506.25 946.895 1508.83 Q949.359 1511.39 949.359 1515.81 Q949.359 1520.13 946.801 1522.75 Q944.243 1525.36 939.993 1525.36 Q935.122 1525.36 932.545 1521.64 Q929.968 1517.89 929.968 1510.8 Q929.968 1504.14 933.128 1500.19 Q936.288 1496.23 941.61 1496.23 Q943.04 1496.23 944.488 1496.51 Q945.955 1496.79 947.535 1497.35 Z\" fill=\"#000000\" fill-rule=\"evenodd\" fill-opacity=\"1\" /><path clip-path=\"url(#clip300)\" d=\"M1317.21 1548.29 L1333.53 1548.29 L1333.53 1552.22 L1311.59 1552.22 L1311.59 1548.29 Q1314.25 1545.53 1318.83 1540.91 Q1323.44 1536.25 1324.62 1534.91 Q1326.86 1532.39 1327.74 1530.65 Q1328.65 1528.89 1328.65 1527.2 Q1328.65 1524.45 1326.7 1522.71 Q1324.78 1520.97 1321.68 1520.97 Q1319.48 1520.97 1317.03 1521.74 Q1314.6 1522.5 1311.82 1524.05 L1311.82 1519.33 Q1314.64 1518.2 1317.1 1517.62 Q1319.55 1517.04 1321.59 1517.04 Q1326.96 1517.04 1330.15 1519.72 Q1333.35 1522.41 1333.35 1526.9 Q1333.35 1529.03 1332.54 1530.95 Q1331.75 1532.85 1329.64 1535.44 Q1329.06 1536.11 1325.96 1539.33 Q1322.86 1542.53 1317.21 1548.29 Z\" fill=\"#000000\" fill-rule=\"evenodd\" fill-opacity=\"1\" /><path clip-path=\"url(#clip300)\" d=\"M1343.35 1546.35 L1348.23 1546.35 L1348.23 1552.22 L1343.35 1552.22 L1343.35 1546.35 Z\" fill=\"#000000\" fill-rule=\"evenodd\" fill-opacity=\"1\" /><path clip-path=\"url(#clip300)\" d=\"M1368.41 1520.74 Q1364.8 1520.74 1362.98 1524.31 Q1361.17 1527.85 1361.17 1534.98 Q1361.17 1542.09 1362.98 1545.65 Q1364.8 1549.19 1368.41 1549.19 Q1372.05 1549.19 1373.85 1545.65 Q1375.68 1542.09 1375.68 1534.98 Q1375.68 1527.85 1373.85 1524.31 Q1372.05 1520.74 1368.41 1520.74 M1368.41 1517.04 Q1374.22 1517.04 1377.28 1521.65 Q1380.36 1526.23 1380.36 1534.98 Q1380.36 1543.71 1377.28 1548.31 Q1374.22 1552.9 1368.41 1552.9 Q1362.6 1552.9 1359.53 1548.31 Q1356.47 1543.71 1356.47 1534.98 Q1356.47 1526.23 1359.53 1521.65 Q1362.6 1517.04 1368.41 1517.04 Z\" fill=\"#000000\" fill-rule=\"evenodd\" fill-opacity=\"1\" /><path clip-path=\"url(#clip300)\" d=\"M1416.75 1526.76 L1406.17 1537.39 L1416.75 1547.97 L1413.99 1550.77 L1403.37 1540.14 L1392.74 1550.77 L1390.01 1547.97 L1400.57 1537.39 L1390.01 1526.76 L1392.74 1523.96 L1403.37 1534.59 L1413.99 1523.96 L1416.75 1526.76 Z\" fill=\"#000000\" fill-rule=\"evenodd\" fill-opacity=\"1\" /><path clip-path=\"url(#clip300)\" d=\"M1429.11 1548.29 L1436.75 1548.29 L1436.75 1521.92 L1428.44 1523.59 L1428.44 1519.33 L1436.7 1517.66 L1441.38 1517.66 L1441.38 1548.29 L1449.02 1548.29 L1449.02 1552.22 L1429.11 1552.22 L1429.11 1548.29 Z\" fill=\"#000000\" fill-rule=\"evenodd\" fill-opacity=\"1\" /><path clip-path=\"url(#clip300)\" d=\"M1468.46 1520.74 Q1464.85 1520.74 1463.02 1524.31 Q1461.22 1527.85 1461.22 1534.98 Q1461.22 1542.09 1463.02 1545.65 Q1464.85 1549.19 1468.46 1549.19 Q1472.09 1549.19 1473.9 1545.65 Q1475.73 1542.09 1475.73 1534.98 Q1475.73 1527.85 1473.9 1524.31 Q1472.09 1520.74 1468.46 1520.74 M1468.46 1517.04 Q1474.27 1517.04 1477.33 1521.65 Q1480.4 1526.23 1480.4 1534.98 Q1480.4 1543.71 1477.33 1548.31 Q1474.27 1552.9 1468.46 1552.9 Q1462.65 1552.9 1459.57 1548.31 Q1456.52 1543.71 1456.52 1534.98 Q1456.52 1526.23 1459.57 1521.65 Q1462.65 1517.04 1468.46 1517.04 Z\" fill=\"#000000\" fill-rule=\"evenodd\" fill-opacity=\"1\" /><path clip-path=\"url(#clip300)\" d=\"M1480.4 1511.14 L1504.52 1511.14 L1504.52 1514.34 L1480.4 1514.34 L1480.4 1511.14 Z\" fill=\"#000000\" fill-rule=\"evenodd\" fill-opacity=\"1\" /><path clip-path=\"url(#clip300)\" d=\"M1521.31 1509.26 Q1518.75 1509.26 1517.25 1511.01 Q1515.76 1512.76 1515.76 1515.81 Q1515.76 1518.83 1517.25 1520.6 Q1518.75 1522.35 1521.31 1522.35 Q1523.87 1522.35 1525.36 1520.6 Q1526.86 1518.83 1526.86 1515.81 Q1526.86 1512.76 1525.36 1511.01 Q1523.87 1509.26 1521.31 1509.26 M1528.85 1497.35 L1528.85 1500.82 Q1527.42 1500.14 1525.96 1499.78 Q1524.51 1499.42 1523.08 1499.42 Q1519.32 1499.42 1517.32 1501.96 Q1515.35 1504.5 1515.07 1509.64 Q1516.18 1508 1517.85 1507.13 Q1519.53 1506.25 1521.54 1506.25 Q1525.77 1506.25 1528.21 1508.83 Q1530.68 1511.39 1530.68 1515.81 Q1530.68 1520.13 1528.12 1522.75 Q1525.56 1525.36 1521.31 1525.36 Q1516.44 1525.36 1513.86 1521.64 Q1511.29 1517.89 1511.29 1510.8 Q1511.29 1504.14 1514.45 1500.19 Q1517.61 1496.23 1522.93 1496.23 Q1524.36 1496.23 1525.81 1496.51 Q1527.27 1496.79 1528.85 1497.35 Z\" fill=\"#000000\" fill-rule=\"evenodd\" fill-opacity=\"1\" /><path clip-path=\"url(#clip300)\" d=\"M1907.73 1533.59 Q1911.09 1534.31 1912.96 1536.58 Q1914.86 1538.85 1914.86 1542.18 Q1914.86 1547.29 1911.34 1550.1 Q1907.82 1552.9 1901.34 1552.9 Q1899.17 1552.9 1896.85 1552.46 Q1894.56 1552.04 1892.11 1551.18 L1892.11 1546.67 Q1894.05 1547.8 1896.37 1548.38 Q1898.68 1548.96 1901.2 1548.96 Q1905.6 1548.96 1907.89 1547.22 Q1910.21 1545.49 1910.21 1542.18 Q1910.21 1539.12 1908.06 1537.41 Q1905.93 1535.67 1902.11 1535.67 L1898.08 1535.67 L1898.08 1531.83 L1902.29 1531.83 Q1905.74 1531.83 1907.57 1530.47 Q1909.4 1529.08 1909.4 1526.48 Q1909.4 1523.82 1907.5 1522.41 Q1905.63 1520.97 1902.11 1520.97 Q1900.19 1520.97 1897.99 1521.39 Q1895.79 1521.81 1893.15 1522.69 L1893.15 1518.52 Q1895.81 1517.78 1898.13 1517.41 Q1900.46 1517.04 1902.52 1517.04 Q1907.85 1517.04 1910.95 1519.47 Q1914.05 1521.88 1914.05 1526 Q1914.05 1528.87 1912.41 1530.86 Q1910.76 1532.83 1907.73 1533.59 Z\" fill=\"#000000\" fill-rule=\"evenodd\" fill-opacity=\"1\" /><path clip-path=\"url(#clip300)\" d=\"M1923.73 1546.35 L1928.61 1546.35 L1928.61 1552.22 L1923.73 1552.22 L1923.73 1546.35 Z\" fill=\"#000000\" fill-rule=\"evenodd\" fill-opacity=\"1\" /><path clip-path=\"url(#clip300)\" d=\"M1948.8 1520.74 Q1945.19 1520.74 1943.36 1524.31 Q1941.55 1527.85 1941.55 1534.98 Q1941.55 1542.09 1943.36 1545.65 Q1945.19 1549.19 1948.8 1549.19 Q1952.43 1549.19 1954.24 1545.65 Q1956.06 1542.09 1956.06 1534.98 Q1956.06 1527.85 1954.24 1524.31 Q1952.43 1520.74 1948.8 1520.74 M1948.8 1517.04 Q1954.61 1517.04 1957.66 1521.65 Q1960.74 1526.23 1960.74 1534.98 Q1960.74 1543.71 1957.66 1548.31 Q1954.61 1552.9 1948.8 1552.9 Q1942.99 1552.9 1939.91 1548.31 Q1936.85 1543.71 1936.85 1534.98 Q1936.85 1526.23 1939.91 1521.65 Q1942.99 1517.04 1948.8 1517.04 Z\" fill=\"#000000\" fill-rule=\"evenodd\" fill-opacity=\"1\" /><path clip-path=\"url(#clip300)\" d=\"M1997.13 1526.76 L1986.55 1537.39 L1997.13 1547.97 L1994.37 1550.77 L1983.75 1540.14 L1973.12 1550.77 L1970.39 1547.97 L1980.95 1537.39 L1970.39 1526.76 L1973.12 1523.96 L1983.75 1534.59 L1994.37 1523.96 L1997.13 1526.76 Z\" fill=\"#000000\" fill-rule=\"evenodd\" fill-opacity=\"1\" /><path clip-path=\"url(#clip300)\" d=\"M2009.49 1548.29 L2017.13 1548.29 L2017.13 1521.92 L2008.82 1523.59 L2008.82 1519.33 L2017.08 1517.66 L2021.76 1517.66 L2021.76 1548.29 L2029.4 1548.29 L2029.4 1552.22 L2009.49 1552.22 L2009.49 1548.29 Z\" fill=\"#000000\" fill-rule=\"evenodd\" fill-opacity=\"1\" /><path clip-path=\"url(#clip300)\" d=\"M2048.84 1520.74 Q2045.23 1520.74 2043.4 1524.31 Q2041.6 1527.85 2041.6 1534.98 Q2041.6 1542.09 2043.4 1545.65 Q2045.23 1549.19 2048.84 1549.19 Q2052.48 1549.19 2054.28 1545.65 Q2056.11 1542.09 2056.11 1534.98 Q2056.11 1527.85 2054.28 1524.31 Q2052.48 1520.74 2048.84 1520.74 M2048.84 1517.04 Q2054.65 1517.04 2057.71 1521.65 Q2060.79 1526.23 2060.79 1534.98 Q2060.79 1543.71 2057.71 1548.31 Q2054.65 1552.9 2048.84 1552.9 Q2043.03 1552.9 2039.95 1548.31 Q2036.9 1543.71 2036.9 1534.98 Q2036.9 1526.23 2039.95 1521.65 Q2043.03 1517.04 2048.84 1517.04 Z\" fill=\"#000000\" fill-rule=\"evenodd\" fill-opacity=\"1\" /><path clip-path=\"url(#clip300)\" d=\"M2060.79 1511.14 L2084.9 1511.14 L2084.9 1514.34 L2060.79 1514.34 L2060.79 1511.14 Z\" fill=\"#000000\" fill-rule=\"evenodd\" fill-opacity=\"1\" /><path clip-path=\"url(#clip300)\" d=\"M2101.69 1509.26 Q2099.14 1509.26 2097.63 1511.01 Q2096.14 1512.76 2096.14 1515.81 Q2096.14 1518.83 2097.63 1520.6 Q2099.14 1522.35 2101.69 1522.35 Q2104.25 1522.35 2105.74 1520.6 Q2107.24 1518.83 2107.24 1515.81 Q2107.24 1512.76 2105.74 1511.01 Q2104.25 1509.26 2101.69 1509.26 M2109.24 1497.35 L2109.24 1500.82 Q2107.81 1500.14 2106.34 1499.78 Q2104.89 1499.42 2103.46 1499.42 Q2099.7 1499.42 2097.71 1501.96 Q2095.73 1504.5 2095.45 1509.64 Q2096.56 1508 2098.23 1507.13 Q2099.91 1506.25 2101.92 1506.25 Q2106.15 1506.25 2108.6 1508.83 Q2111.06 1511.39 2111.06 1515.81 Q2111.06 1520.13 2108.5 1522.75 Q2105.94 1525.36 2101.69 1525.36 Q2096.82 1525.36 2094.25 1521.64 Q2091.67 1517.89 2091.67 1510.8 Q2091.67 1504.14 2094.83 1500.19 Q2097.99 1496.23 2103.31 1496.23 Q2104.74 1496.23 2106.19 1496.51 Q2107.66 1496.79 2109.24 1497.35 Z\" fill=\"#000000\" fill-rule=\"evenodd\" fill-opacity=\"1\" /><polyline clip-path=\"url(#clip302)\" style=\"stroke:#000000; stroke-linecap:round; stroke-linejoin:round; stroke-width:2; stroke-opacity:0.1; fill:none\" points=\"\n",
       "  199.283,1433.78 2352.76,1433.78 \n",
       "  \"/>\n",
       "<polyline clip-path=\"url(#clip302)\" style=\"stroke:#000000; stroke-linecap:round; stroke-linejoin:round; stroke-width:2; stroke-opacity:0.1; fill:none\" points=\"\n",
       "  199.283,1097.24 2352.76,1097.24 \n",
       "  \"/>\n",
       "<polyline clip-path=\"url(#clip302)\" style=\"stroke:#000000; stroke-linecap:round; stroke-linejoin:round; stroke-width:2; stroke-opacity:0.1; fill:none\" points=\"\n",
       "  199.283,760.704 2352.76,760.704 \n",
       "  \"/>\n",
       "<polyline clip-path=\"url(#clip302)\" style=\"stroke:#000000; stroke-linecap:round; stroke-linejoin:round; stroke-width:2; stroke-opacity:0.1; fill:none\" points=\"\n",
       "  199.283,424.167 2352.76,424.167 \n",
       "  \"/>\n",
       "<polyline clip-path=\"url(#clip302)\" style=\"stroke:#000000; stroke-linecap:round; stroke-linejoin:round; stroke-width:2; stroke-opacity:0.1; fill:none\" points=\"\n",
       "  199.283,87.6286 2352.76,87.6286 \n",
       "  \"/>\n",
       "<polyline clip-path=\"url(#clip300)\" style=\"stroke:#000000; stroke-linecap:round; stroke-linejoin:round; stroke-width:4; stroke-opacity:1; fill:none\" points=\"\n",
       "  199.283,1474.16 199.283,47.2441 \n",
       "  \"/>\n",
       "<polyline clip-path=\"url(#clip300)\" style=\"stroke:#000000; stroke-linecap:round; stroke-linejoin:round; stroke-width:4; stroke-opacity:1; fill:none\" points=\"\n",
       "  199.283,1433.78 218.181,1433.78 \n",
       "  \"/>\n",
       "<polyline clip-path=\"url(#clip300)\" style=\"stroke:#000000; stroke-linecap:round; stroke-linejoin:round; stroke-width:4; stroke-opacity:1; fill:none\" points=\"\n",
       "  199.283,1097.24 218.181,1097.24 \n",
       "  \"/>\n",
       "<polyline clip-path=\"url(#clip300)\" style=\"stroke:#000000; stroke-linecap:round; stroke-linejoin:round; stroke-width:4; stroke-opacity:1; fill:none\" points=\"\n",
       "  199.283,760.704 218.181,760.704 \n",
       "  \"/>\n",
       "<polyline clip-path=\"url(#clip300)\" style=\"stroke:#000000; stroke-linecap:round; stroke-linejoin:round; stroke-width:4; stroke-opacity:1; fill:none\" points=\"\n",
       "  199.283,424.167 218.181,424.167 \n",
       "  \"/>\n",
       "<polyline clip-path=\"url(#clip300)\" style=\"stroke:#000000; stroke-linecap:round; stroke-linejoin:round; stroke-width:4; stroke-opacity:1; fill:none\" points=\"\n",
       "  199.283,87.6286 218.181,87.6286 \n",
       "  \"/>\n",
       "<path clip-path=\"url(#clip300)\" d=\"M151.339 1419.58 Q147.728 1419.58 145.899 1423.14 Q144.093 1426.69 144.093 1433.81 Q144.093 1440.92 145.899 1444.49 Q147.728 1448.03 151.339 1448.03 Q154.973 1448.03 156.779 1444.49 Q158.607 1440.92 158.607 1433.81 Q158.607 1426.69 156.779 1423.14 Q154.973 1419.58 151.339 1419.58 M151.339 1415.88 Q157.149 1415.88 160.205 1420.48 Q163.283 1425.06 163.283 1433.81 Q163.283 1442.54 160.205 1447.15 Q157.149 1451.73 151.339 1451.73 Q145.529 1451.73 142.45 1447.15 Q139.394 1442.54 139.394 1433.81 Q139.394 1425.06 142.45 1420.48 Q145.529 1415.88 151.339 1415.88 Z\" fill=\"#000000\" fill-rule=\"evenodd\" fill-opacity=\"1\" /><path clip-path=\"url(#clip300)\" d=\"M85.0429 1110.59 L101.362 1110.59 L101.362 1114.52 L79.4179 1114.52 L79.4179 1110.59 Q82.0799 1107.83 86.6632 1103.2 Q91.2697 1098.55 92.4502 1097.21 Q94.6956 1094.68 95.5752 1092.95 Q96.478 1091.19 96.478 1089.5 Q96.478 1086.74 94.5336 1085.01 Q92.6123 1083.27 89.5104 1083.27 Q87.3114 1083.27 84.8577 1084.04 Q82.4271 1084.8 79.6494 1086.35 L79.6494 1081.63 Q82.4734 1080.49 84.9271 1079.92 Q87.3808 1079.34 89.4178 1079.34 Q94.7882 1079.34 97.9826 1082.02 Q101.177 1084.71 101.177 1089.2 Q101.177 1091.33 100.367 1093.25 Q99.5798 1095.15 97.4734 1097.74 Q96.8947 1098.41 93.7928 1101.63 Q90.691 1104.82 85.0429 1110.59 Z\" fill=\"#000000\" fill-rule=\"evenodd\" fill-opacity=\"1\" /><path clip-path=\"url(#clip300)\" d=\"M111.223 1079.96 L129.58 1079.96 L129.58 1083.9 L115.506 1083.9 L115.506 1092.37 Q116.524 1092.02 117.543 1091.86 Q118.561 1091.68 119.58 1091.68 Q125.367 1091.68 128.746 1094.85 Q132.126 1098.02 132.126 1103.43 Q132.126 1109.01 128.654 1112.11 Q125.182 1115.19 118.862 1115.19 Q116.686 1115.19 114.418 1114.82 Q112.172 1114.45 109.765 1113.71 L109.765 1109.01 Q111.848 1110.15 114.07 1110.7 Q116.293 1111.26 118.77 1111.26 Q122.774 1111.26 125.112 1109.15 Q127.45 1107.05 127.45 1103.43 Q127.45 1099.82 125.112 1097.72 Q122.774 1095.61 118.77 1095.61 Q116.895 1095.61 115.02 1096.03 Q113.168 1096.44 111.223 1097.32 L111.223 1079.96 Z\" fill=\"#000000\" fill-rule=\"evenodd\" fill-opacity=\"1\" /><path clip-path=\"url(#clip300)\" d=\"M151.339 1083.04 Q147.728 1083.04 145.899 1086.61 Q144.093 1090.15 144.093 1097.28 Q144.093 1104.38 145.899 1107.95 Q147.728 1111.49 151.339 1111.49 Q154.973 1111.49 156.779 1107.95 Q158.607 1104.38 158.607 1097.28 Q158.607 1090.15 156.779 1086.61 Q154.973 1083.04 151.339 1083.04 M151.339 1079.34 Q157.149 1079.34 160.205 1083.94 Q163.283 1088.53 163.283 1097.28 Q163.283 1106 160.205 1110.61 Q157.149 1115.19 151.339 1115.19 Q145.529 1115.19 142.45 1110.61 Q139.394 1106 139.394 1097.28 Q139.394 1088.53 142.45 1083.94 Q145.529 1079.34 151.339 1079.34 Z\" fill=\"#000000\" fill-rule=\"evenodd\" fill-opacity=\"1\" /><path clip-path=\"url(#clip300)\" d=\"M81.0614 743.424 L99.4178 743.424 L99.4178 747.36 L85.3438 747.36 L85.3438 755.832 Q86.3623 755.485 87.3808 755.322 Q88.3993 755.137 89.4178 755.137 Q95.2049 755.137 98.5845 758.309 Q101.964 761.48 101.964 766.896 Q101.964 772.475 98.4919 775.577 Q95.0197 778.656 88.7003 778.656 Q86.5243 778.656 84.2558 778.285 Q82.0105 777.915 79.6031 777.174 L79.6031 772.475 Q81.6864 773.609 83.9086 774.165 Q86.1308 774.721 88.6077 774.721 Q92.6123 774.721 94.9502 772.614 Q97.2882 770.508 97.2882 766.896 Q97.2882 763.285 94.9502 761.179 Q92.6123 759.072 88.6077 759.072 Q86.7327 759.072 84.8577 759.489 Q83.0058 759.906 81.0614 760.785 L81.0614 743.424 Z\" fill=\"#000000\" fill-rule=\"evenodd\" fill-opacity=\"1\" /><path clip-path=\"url(#clip300)\" d=\"M121.177 746.503 Q117.566 746.503 115.737 750.068 Q113.932 753.61 113.932 760.739 Q113.932 767.846 115.737 771.41 Q117.566 774.952 121.177 774.952 Q124.811 774.952 126.617 771.41 Q128.445 767.846 128.445 760.739 Q128.445 753.61 126.617 750.068 Q124.811 746.503 121.177 746.503 M121.177 742.799 Q126.987 742.799 130.043 747.406 Q133.121 751.989 133.121 760.739 Q133.121 769.466 130.043 774.072 Q126.987 778.656 121.177 778.656 Q115.367 778.656 112.288 774.072 Q109.233 769.466 109.233 760.739 Q109.233 751.989 112.288 747.406 Q115.367 742.799 121.177 742.799 Z\" fill=\"#000000\" fill-rule=\"evenodd\" fill-opacity=\"1\" /><path clip-path=\"url(#clip300)\" d=\"M151.339 746.503 Q147.728 746.503 145.899 750.068 Q144.093 753.61 144.093 760.739 Q144.093 767.846 145.899 771.41 Q147.728 774.952 151.339 774.952 Q154.973 774.952 156.779 771.41 Q158.607 767.846 158.607 760.739 Q158.607 753.61 156.779 750.068 Q154.973 746.503 151.339 746.503 M151.339 742.799 Q157.149 742.799 160.205 747.406 Q163.283 751.989 163.283 760.739 Q163.283 769.466 160.205 774.072 Q157.149 778.656 151.339 778.656 Q145.529 778.656 142.45 774.072 Q139.394 769.466 139.394 760.739 Q139.394 751.989 142.45 747.406 Q145.529 742.799 151.339 742.799 Z\" fill=\"#000000\" fill-rule=\"evenodd\" fill-opacity=\"1\" /><path clip-path=\"url(#clip300)\" d=\"M79.8346 406.887 L102.057 406.887 L102.057 408.877 L89.5104 441.447 L84.6262 441.447 L96.4317 410.822 L79.8346 410.822 L79.8346 406.887 Z\" fill=\"#000000\" fill-rule=\"evenodd\" fill-opacity=\"1\" /><path clip-path=\"url(#clip300)\" d=\"M111.223 406.887 L129.58 406.887 L129.58 410.822 L115.506 410.822 L115.506 419.294 Q116.524 418.947 117.543 418.785 Q118.561 418.599 119.58 418.599 Q125.367 418.599 128.746 421.771 Q132.126 424.942 132.126 430.359 Q132.126 435.937 128.654 439.039 Q125.182 442.118 118.862 442.118 Q116.686 442.118 114.418 441.747 Q112.172 441.377 109.765 440.636 L109.765 435.937 Q111.848 437.072 114.07 437.627 Q116.293 438.183 118.77 438.183 Q122.774 438.183 125.112 436.076 Q127.45 433.97 127.45 430.359 Q127.45 426.748 125.112 424.641 Q122.774 422.535 118.77 422.535 Q116.895 422.535 115.02 422.951 Q113.168 423.368 111.223 424.248 L111.223 406.887 Z\" fill=\"#000000\" fill-rule=\"evenodd\" fill-opacity=\"1\" /><path clip-path=\"url(#clip300)\" d=\"M151.339 409.965 Q147.728 409.965 145.899 413.53 Q144.093 417.072 144.093 424.201 Q144.093 431.308 145.899 434.872 Q147.728 438.414 151.339 438.414 Q154.973 438.414 156.779 434.872 Q158.607 431.308 158.607 424.201 Q158.607 417.072 156.779 413.53 Q154.973 409.965 151.339 409.965 M151.339 406.262 Q157.149 406.262 160.205 410.868 Q163.283 415.451 163.283 424.201 Q163.283 432.928 160.205 437.534 Q157.149 442.118 151.339 442.118 Q145.529 442.118 142.45 437.534 Q139.394 432.928 139.394 424.201 Q139.394 415.451 142.45 410.868 Q145.529 406.262 151.339 406.262 Z\" fill=\"#000000\" fill-rule=\"evenodd\" fill-opacity=\"1\" /><path clip-path=\"url(#clip300)\" d=\"M51.6634 100.973 L59.3023 100.973 L59.3023 74.6079 L50.9921 76.2745 L50.9921 72.0153 L59.256 70.3486 L63.9319 70.3486 L63.9319 100.973 L71.5707 100.973 L71.5707 104.909 L51.6634 104.909 L51.6634 100.973 Z\" fill=\"#000000\" fill-rule=\"evenodd\" fill-opacity=\"1\" /><path clip-path=\"url(#clip300)\" d=\"M91.0151 73.4273 Q87.404 73.4273 85.5753 76.9921 Q83.7697 80.5338 83.7697 87.6634 Q83.7697 94.7698 85.5753 98.3346 Q87.404 101.876 91.0151 101.876 Q94.6493 101.876 96.4548 98.3346 Q98.2835 94.7698 98.2835 87.6634 Q98.2835 80.5338 96.4548 76.9921 Q94.6493 73.4273 91.0151 73.4273 M91.0151 69.7236 Q96.8252 69.7236 99.8808 74.3301 Q102.959 78.9134 102.959 87.6634 Q102.959 96.3902 99.8808 100.997 Q96.8252 105.58 91.0151 105.58 Q85.2049 105.58 82.1262 100.997 Q79.0707 96.3902 79.0707 87.6634 Q79.0707 78.9134 82.1262 74.3301 Q85.2049 69.7236 91.0151 69.7236 Z\" fill=\"#000000\" fill-rule=\"evenodd\" fill-opacity=\"1\" /><path clip-path=\"url(#clip300)\" d=\"M121.177 73.4273 Q117.566 73.4273 115.737 76.9921 Q113.932 80.5338 113.932 87.6634 Q113.932 94.7698 115.737 98.3346 Q117.566 101.876 121.177 101.876 Q124.811 101.876 126.617 98.3346 Q128.445 94.7698 128.445 87.6634 Q128.445 80.5338 126.617 76.9921 Q124.811 73.4273 121.177 73.4273 M121.177 69.7236 Q126.987 69.7236 130.043 74.3301 Q133.121 78.9134 133.121 87.6634 Q133.121 96.3902 130.043 100.997 Q126.987 105.58 121.177 105.58 Q115.367 105.58 112.288 100.997 Q109.233 96.3902 109.233 87.6634 Q109.233 78.9134 112.288 74.3301 Q115.367 69.7236 121.177 69.7236 Z\" fill=\"#000000\" fill-rule=\"evenodd\" fill-opacity=\"1\" /><path clip-path=\"url(#clip300)\" d=\"M151.339 73.4273 Q147.728 73.4273 145.899 76.9921 Q144.093 80.5338 144.093 87.6634 Q144.093 94.7698 145.899 98.3346 Q147.728 101.876 151.339 101.876 Q154.973 101.876 156.779 98.3346 Q158.607 94.7698 158.607 87.6634 Q158.607 80.5338 156.779 76.9921 Q154.973 73.4273 151.339 73.4273 M151.339 69.7236 Q157.149 69.7236 160.205 74.3301 Q163.283 78.9134 163.283 87.6634 Q163.283 96.3902 160.205 100.997 Q157.149 105.58 151.339 105.58 Q145.529 105.58 142.45 100.997 Q139.394 96.3902 139.394 87.6634 Q139.394 78.9134 142.45 74.3301 Q145.529 69.7236 151.339 69.7236 Z\" fill=\"#000000\" fill-rule=\"evenodd\" fill-opacity=\"1\" /><polyline clip-path=\"url(#clip302)\" style=\"stroke:#009af9; stroke-linecap:round; stroke-linejoin:round; stroke-width:4; stroke-opacity:1; fill:none\" points=\"\n",
       "  260.231,1433.78 263.537,1389.96 266.844,1346.14 270.151,1302.32 273.457,1258.5 288.745,1055.9 304.032,853.309 319.32,650.715 334.607,448.121 342.251,346.825 \n",
       "  349.895,245.528 353.716,194.879 357.538,144.231 358.494,131.569 359.449,118.907 360.405,106.244 361.36,93.5823 362.316,87.6286 363.271,87.6286 364.227,87.6286 \n",
       "  365.182,87.6286 369.004,87.6286 372.826,87.6286 376.648,87.6286 380.47,87.6286 388.113,87.6286 395.757,87.6286 414.131,87.6286 432.506,87.6286 450.88,87.6286 \n",
       "  469.254,87.6286 500.324,87.6286 531.395,87.6286 598.897,87.6286 661.128,87.6286 727.847,87.6286 805.147,87.6286 873.842,87.6286 934.081,87.6286 999.758,87.6286 \n",
       "  1065.83,87.6286 1138.87,87.6286 1208.37,87.6286 1280.64,87.6286 1341.47,87.6286 1415.74,87.6286 1483.77,87.6286 1546.61,87.6286 1610.26,87.6286 1681.59,87.6286 \n",
       "  1746.23,87.6286 1820.24,87.6286 1888.77,87.6286 1956.33,87.6286 2021.92,87.6286 2089.16,87.6286 2162.83,87.6286 2269.85,87.6286 2291.81,87.6286 \n",
       "  \"/>\n",
       "<path clip-path=\"url(#clip300)\" d=\"\n",
       "M2013.2 1426.6 L2280.97 1426.6 L2280.97 1322.92 L2013.2 1322.92  Z\n",
       "  \" fill=\"#ffffff\" fill-rule=\"evenodd\" fill-opacity=\"1\"/>\n",
       "<polyline clip-path=\"url(#clip300)\" style=\"stroke:#000000; stroke-linecap:round; stroke-linejoin:round; stroke-width:4; stroke-opacity:1; fill:none\" points=\"\n",
       "  2013.2,1426.6 2280.97,1426.6 2280.97,1322.92 2013.2,1322.92 2013.2,1426.6 \n",
       "  \"/>\n",
       "<polyline clip-path=\"url(#clip300)\" style=\"stroke:#009af9; stroke-linecap:round; stroke-linejoin:round; stroke-width:4; stroke-opacity:1; fill:none\" points=\"\n",
       "  2037.12,1374.76 2180.69,1374.76 \n",
       "  \"/>\n",
       "<path clip-path=\"url(#clip300)\" d=\"M2218.46 1394.45 Q2216.65 1399.08 2214.94 1400.49 Q2213.23 1401.9 2210.36 1401.9 L2206.95 1401.9 L2206.95 1398.34 L2209.45 1398.34 Q2211.21 1398.34 2212.19 1397.5 Q2213.16 1396.67 2214.34 1393.57 L2215.1 1391.62 L2204.62 1366.11 L2209.13 1366.11 L2217.23 1386.39 L2225.33 1366.11 L2229.85 1366.11 L2218.46 1394.45 Z\" fill=\"#000000\" fill-rule=\"evenodd\" fill-opacity=\"1\" /><path clip-path=\"url(#clip300)\" d=\"M2237.14 1388.11 L2244.78 1388.11 L2244.78 1361.74 L2236.47 1363.41 L2236.47 1359.15 L2244.73 1357.48 L2249.41 1357.48 L2249.41 1388.11 L2257.05 1388.11 L2257.05 1392.04 L2237.14 1392.04 L2237.14 1388.11 Z\" fill=\"#000000\" fill-rule=\"evenodd\" fill-opacity=\"1\" /></svg>\n"
      ]
     },
     "execution_count": 11,
     "metadata": {},
     "output_type": "execute_result"
    }
   ],
   "source": [
    "function ϕ_fun(ϕ)  \n",
    "    if ϕ <= uTran2_EP\n",
    "      return ((phiMaxApp - phiMin)/uTran2_EP)*ϕ + phiMin\n",
    "    else\n",
    "     return  phiMaxApp\n",
    "    end\n",
    "end \n",
    "plot(ϕ_fun,0,uMax)"
   ]
  },
  {
   "cell_type": "code",
   "execution_count": 12,
   "id": "a6f2ac22",
   "metadata": {},
   "outputs": [
    {
     "data": {
      "text/plain": [
       "100-element Vector{Float64}:\n",
       "    0.0\n",
       "  202.02020202020202\n",
       "  404.04040404040404\n",
       "  606.0606060606061\n",
       "  808.0808080808081\n",
       " 1000.0\n",
       " 1000.0\n",
       " 1000.0\n",
       " 1000.0\n",
       " 1000.0\n",
       " 1000.0\n",
       " 1000.0\n",
       " 1000.0\n",
       "    ⋮\n",
       " 1000.0\n",
       " 1000.0\n",
       " 1000.0\n",
       " 1000.0\n",
       " 1000.0\n",
       " 1000.0\n",
       " 1000.0\n",
       " 1000.0\n",
       " 1000.0\n",
       " 1000.0\n",
       " 1000.0\n",
       " 1000.0"
      ]
     },
     "execution_count": 12,
     "metadata": {},
     "output_type": "execute_result"
    }
   ],
   "source": [
    "uAppVec = range(0,uMax,length = Int64(floor(tMax/delt)))\n",
    "\n",
    "AppTOption = 1 ## 1 for smooth and otherwise linear than constant\n",
    "\n",
    "if AppTOption == 1\n",
    "    TAppVec = smoothT.(uAppVec)\n",
    "  else\n",
    "    TAppVec = Tfun.(uAppVec) \n",
    "end \n",
    "\n",
    "AppϕOption = 2 ## 1 for smooth and otherwise linear than constant\n",
    "\n",
    "if AppϕOption == 1\n",
    "    ϕAppVec = smoothϕ.(uAppVec)\n",
    "  else\n",
    "    ϕAppVec = ϕ_fun.(uAppVec) \n",
    "end "
   ]
  },
  {
   "cell_type": "code",
   "execution_count": 13,
   "id": "meaningful-haven",
   "metadata": {
    "scrolled": false
   },
   "outputs": [
    {
     "data": {
      "text/plain": [
       "22823-element Vector{Int8}:\n",
       " 3\n",
       " 3\n",
       " 3\n",
       " 3\n",
       " 3\n",
       " 3\n",
       " 3\n",
       " 3\n",
       " 3\n",
       " 3\n",
       " 3\n",
       " 3\n",
       " 3\n",
       " ⋮\n",
       " 3\n",
       " 3\n",
       " 3\n",
       " 3\n",
       " 3\n",
       " 3\n",
       " 3\n",
       " 3\n",
       " 3\n",
       " 3\n",
       " 3\n",
       " 3"
      ]
     },
     "execution_count": 13,
     "metadata": {},
     "output_type": "execute_result"
    }
   ],
   "source": [
    "using Gridap.Geometry\n",
    "labels = get_face_labeling(model)\n",
    "dimension = 2\n",
    "mat_tags = get_face_tag(labels,dimension)"
   ]
  },
  {
   "cell_type": "code",
   "execution_count": 14,
   "id": "forty-hollow",
   "metadata": {},
   "outputs": [
    {
     "data": {
      "text/plain": [
       "3"
      ]
     },
     "execution_count": 14,
     "metadata": {},
     "output_type": "execute_result"
    }
   ],
   "source": [
    "const Mat_tag = get_tag_from_name(labels,\"Domain\")"
   ]
  },
  {
   "cell_type": "markdown",
   "id": "roman-infrastructure",
   "metadata": {},
   "source": [
    "## Input paramters for Piezo-Electric Material Properties"
   ]
  },
  {
   "cell_type": "markdown",
   "id": "foreign-anderson",
   "metadata": {},
   "source": [
    "#### Input elasticity parameters"
   ]
  },
  {
   "cell_type": "raw",
   "id": "083a7d78",
   "metadata": {},
   "source": [
    "const E_mat = 340e9\n",
    "const ν_mat = 0.22\n",
    "const λ_mat = (E_mat*ν_mat)/((1+ν_mat)*(1-2*ν_mat))\n",
    "const μ_mat = E_mat/(2*(1+ν_mat))"
   ]
  },
  {
   "cell_type": "code",
   "execution_count": 15,
   "id": "c4157c17",
   "metadata": {},
   "outputs": [
    {
     "data": {
      "text/plain": [
       "5700.0"
      ]
     },
     "execution_count": 15,
     "metadata": {},
     "output_type": "execute_result"
    }
   ],
   "source": [
    "const c = 421.4\n",
    "const ρ = 5700.0"
   ]
  },
  {
   "cell_type": "markdown",
   "id": "superior-compensation",
   "metadata": {},
   "source": [
    "#### Input fracture parameters"
   ]
  },
  {
   "cell_type": "code",
   "execution_count": 16,
   "id": "acute-carry",
   "metadata": {},
   "outputs": [
    {
     "data": {
      "text/plain": [
       "1.0e-8"
      ]
     },
     "execution_count": 16,
     "metadata": {},
     "output_type": "execute_result"
    }
   ],
   "source": [
    "const Gc = 200\n",
    "const η = 1e-8"
   ]
  },
  {
   "cell_type": "markdown",
   "id": "biological-struggle",
   "metadata": {},
   "source": [
    "## COnstitutive Matrices"
   ]
  },
  {
   "cell_type": "markdown",
   "id": "decent-model",
   "metadata": {},
   "source": [
    "### Elastic stiffness tensor"
   ]
  },
  {
   "cell_type": "code",
   "execution_count": 17,
   "id": "cad00dd2",
   "metadata": {},
   "outputs": [
    {
     "data": {
      "text/plain": [
       "4.3e10"
      ]
     },
     "execution_count": 17,
     "metadata": {},
     "output_type": "execute_result"
    }
   ],
   "source": [
    "const C₁₁_mat = 166e9\n",
    "const C₁₂_mat = 78e9\n",
    "const C₂₂_mat = 162e9\n",
    "const C₆₆_mat = 43e9"
   ]
  },
  {
   "cell_type": "code",
   "execution_count": 18,
   "id": "b40f5f7d",
   "metadata": {},
   "outputs": [
    {
     "data": {
      "text/plain": [
       "SymFourthOrderTensorValue{2, Float64, 9}(1.66e11, 0.0, 7.8e10, 0.0, 4.3e10, 0.0, 7.8e10, 0.0, 1.62e11)"
      ]
     },
     "execution_count": 18,
     "metadata": {},
     "output_type": "execute_result"
    }
   ],
   "source": [
    "function ElasFourthOrderConstTensor(C₁₁,C₁₂,C₂₂,C₆₆)\n",
    "      C1111 = C₁₁\n",
    "      C1122 = C₁₂\n",
    "      C1112 = 0.0\n",
    "      C2222 = C₂₂\n",
    "      C2212 = 0.0\n",
    "      C1212 = C₆₆    \n",
    "      C_ten = SymFourthOrderTensorValue(C1111,C1112,C1122,C1112,C1212,C2212,C1122,C2212,C2222)\n",
    "    return  C_ten\n",
    "end\n",
    "const C_mat = ElasFourthOrderConstTensor(C₁₁_mat,C₁₂_mat,C₂₂_mat,C₆₆_mat)"
   ]
  },
  {
   "cell_type": "markdown",
   "id": "private-nebraska",
   "metadata": {},
   "source": [
    "### Third order piezoelectric tensor"
   ]
  },
  {
   "cell_type": "code",
   "execution_count": 19,
   "id": "8ef9d403",
   "metadata": {},
   "outputs": [
    {
     "data": {
      "text/plain": [
       "11.6"
      ]
     },
     "execution_count": 19,
     "metadata": {},
     "output_type": "execute_result"
    }
   ],
   "source": [
    "const e₂₁_mat = -4.4\n",
    "const e₂₂_mat = 18.6\n",
    "const e₁₆_mat = 11.6"
   ]
  },
  {
   "cell_type": "code",
   "execution_count": 20,
   "id": "conventional-purse",
   "metadata": {},
   "outputs": [
    {
     "data": {
      "text/plain": [
       "ThirdOrderTensorValue{2, 2, 2, Float64, 8}(0.0, -4.4, 11.6, 0.0, 11.6, 0.0, 0.0, 18.6)"
      ]
     },
     "execution_count": 20,
     "metadata": {},
     "output_type": "execute_result"
    }
   ],
   "source": [
    "function PiezoThirdOrderConstTensor(e₂₁,e₂₂,e₁₆)\n",
    "    # 1 for Plane Stress and 2 Plane Strain Condition \n",
    "      e111 = 0.0\n",
    "      e112 = e₁₆\n",
    "      e121 = e₁₆\n",
    "      e122 = 0.0\n",
    "      e211 = e₂₁\n",
    "      e212 = 0.0\n",
    "      e221 = 0.0\n",
    "      e222 = e₂₂   \n",
    "    vals = zeros(2,2,2);\n",
    "    vals[1,:,:] .= [e111 e112\n",
    "                    e121 e122]\n",
    "    vals[2,:,:] .= [e211 e212\n",
    "                    e221 e222]\n",
    "    e_ten = ThirdOrderTensorValue(vals ...)\n",
    "    return  e_ten\n",
    "end\n",
    "\n",
    "const e_mat = PiezoThirdOrderConstTensor(e₂₁_mat,e₂₂_mat,e₁₆_mat)"
   ]
  },
  {
   "cell_type": "markdown",
   "id": "better-reminder",
   "metadata": {},
   "source": [
    "### Second order electrical permittivity tensor"
   ]
  },
  {
   "cell_type": "code",
   "execution_count": 21,
   "id": "468263ef",
   "metadata": {},
   "outputs": [
    {
     "data": {
      "text/plain": [
       "1.26e-8"
      ]
     },
     "execution_count": 21,
     "metadata": {},
     "output_type": "execute_result"
    }
   ],
   "source": [
    "const K₁₁_mat = 11.2e-9\n",
    "const K₂₂_mat = 12.6e-9"
   ]
  },
  {
   "cell_type": "code",
   "execution_count": 22,
   "id": "developing-foundation",
   "metadata": {},
   "outputs": [
    {
     "data": {
      "text/plain": [
       "TensorValue{2, 2, Float64, 4}(1.12e-8, 0.0, 0.0, 1.26e-8)"
      ]
     },
     "execution_count": 22,
     "metadata": {},
     "output_type": "execute_result"
    }
   ],
   "source": [
    "const K_mat = TensorValue(K₁₁_mat,0.0,0.0, K₂₂_mat)"
   ]
  },
  {
   "cell_type": "markdown",
   "id": "d781dd61",
   "metadata": {},
   "source": [
    "### Thermal Coefficient"
   ]
  },
  {
   "cell_type": "code",
   "execution_count": 23,
   "id": "36799361",
   "metadata": {},
   "outputs": [
    {
     "data": {
      "text/plain": [
       "6.4e-6"
      ]
     },
     "execution_count": 23,
     "metadata": {},
     "output_type": "execute_result"
    }
   ],
   "source": [
    "const α₁₁_mat = 15.7e-6\n",
    "const α₂₂_mat = 6.4e-6"
   ]
  },
  {
   "cell_type": "code",
   "execution_count": 24,
   "id": "20ba9560",
   "metadata": {},
   "outputs": [
    {
     "data": {
      "text/plain": [
       "TensorValue{2, 2, Float64, 4}(1.57e-5, 0.0, 0.0, 6.4e-6)"
      ]
     },
     "execution_count": 24,
     "metadata": {},
     "output_type": "execute_result"
    }
   ],
   "source": [
    "const α_mat = TensorValue(α₁₁_mat,0.0,0.0, α₂₂_mat)"
   ]
  },
  {
   "cell_type": "code",
   "execution_count": 25,
   "id": "8c95104d",
   "metadata": {},
   "outputs": [
    {
     "data": {
      "text/plain": [
       "κGradTemp (generic function with 1 method)"
      ]
     },
     "execution_count": 25,
     "metadata": {},
     "output_type": "execute_result"
    }
   ],
   "source": [
    "κ_mat = 3.2\n",
    "κGradTemp(∇,s_in) = (s_in^2 + η)*κ_mat*∇"
   ]
  },
  {
   "cell_type": "markdown",
   "id": "nutritional-oliver",
   "metadata": {},
   "source": [
    "## Stress\n",
    "\n",
    "$\\sigma_{elas}(\\epsilon(\\boldsymbol{u})) =  \\mathbb{C}\\,\\boldsymbol{\\epsilon}$\n",
    "\n",
    "$\\sigma_{elasMod}(\\epsilon(\\boldsymbol{u}),s) =  \\mathbb{C}_{mod}\\,\\boldsymbol{\\epsilon}$\n",
    "\n",
    "$\\sigma_{piezo}(\\boldsymbol{E}(\\phi)) = - \\mathbb{e}^T\\,\\boldsymbol{E}$\n",
    "\n",
    "or, $\\sigma_{piezo}(\\nabla\\phi) =  \\mathbb{e}^T\\,\\boldsymbol{\\nabla}\\phi$\n",
    "\n",
    "$\\sigma_{piezoMod}(\\nabla\\phi,s) =  \\mathbb{e}_{mod}^T\\,\\boldsymbol{\\nabla}\\phi$"
   ]
  },
  {
   "cell_type": "code",
   "execution_count": 26,
   "id": "built-universe",
   "metadata": {},
   "outputs": [
    {
     "data": {
      "text/plain": [
       "σ_thermMod (generic function with 1 method)"
      ]
     },
     "execution_count": 26,
     "metadata": {},
     "output_type": "execute_result"
    }
   ],
   "source": [
    "σ_elas(ε) = C_mat ⊙ ε\n",
    "\n",
    "function σ_elasMod(ε, T, ε_in, s_in, T_in)\n",
    "    εElas_in = ε_in - α_mat*(T_in-T0)\n",
    "    εElas = ε - α_mat*(T-T0)\n",
    "    if tr(εElas_in)  >= 0\n",
    "      σ = (s_in^2 + η)*σ_elas(εElas)\n",
    "    else\n",
    "      σ = (s_in^2 + η)*I4_dev ⊙ σ_elas(εElas) + I4_vol⊙ σ_elas(εElas)\n",
    "    end  \n",
    "    return σ\n",
    "end\n",
    "\n",
    "function σ_TotMod1(ε, ε_in, s_in, T_in)\n",
    "    εElas_in = ε_in - α_mat*(T_in-T0)\n",
    "    εTot = ε\n",
    " if tr(εElas_in)  >= 0\n",
    "      σ = (s_in^2 + η)*σ_elas(εTot)\n",
    "  elseif tr(εElas_in) < 0\n",
    "      σ = (s_in^2 + η)*I4_dev ⊙ σ_elas(εTot) + I4_vol⊙ σ_elas(εTot)\n",
    "  end  \n",
    "    return σ\n",
    "end\n",
    "\n",
    "function σ_TotMod2(T, ε_in, s_in, T_in)\n",
    "    εElas_in = ε_in - α_mat*(T_in-T0)\n",
    "    εElas = - α_mat*T\n",
    " if tr(εElas_in)  >= 0\n",
    "      σ = (s_in^2 + η)*σ_elas(εElas)\n",
    "  elseif tr(εElas_in) < 0\n",
    "      σ = (s_in^2 + η)*I4_dev ⊙ σ_elas(εElas) + I4_vol ⊙ σ_elas(εElas)\n",
    "  end  \n",
    "    return σ\n",
    "end\n",
    "\n",
    "function σ_thermMod(ε_in,s_in,T_in)\n",
    "    \n",
    "   εElas_in = ε_in - α_mat*(T_in-T0)\n",
    "   εElasTher = α_mat*(T0)\n",
    "    if tr(εElas_in)  >= 0\n",
    "        σF = (s_in^2 + η)*σ_elas(εElasTher)\n",
    "    elseif tr(εElas_in) < 0\n",
    "        σF = (s_in^2 + η)*I4_dev ⊙ σ_elas(εElasTher) + I4_vol ⊙ σ_elas(εElasTher)\n",
    "    end  \n",
    "    return σF\n",
    "end"
   ]
  },
  {
   "cell_type": "code",
   "execution_count": 27,
   "id": "bc56b220",
   "metadata": {},
   "outputs": [
    {
     "data": {
      "text/plain": [
       "σ_piezoMod (generic function with 1 method)"
      ]
     },
     "execution_count": 27,
     "metadata": {},
     "output_type": "execute_result"
    }
   ],
   "source": [
    "σ_piezo(∇) = ∇ ⋅ e_mat\n",
    "\n",
    "σ_piezoMod(∇, s_in) = (s_in^2 + η)*σ_piezo(∇)"
   ]
  },
  {
   "cell_type": "markdown",
   "id": "average-petroleum",
   "metadata": {},
   "source": [
    "### Electric Displacement\n",
    "\n",
    "$\\boldsymbol{D}_{elas}(ε(\\boldsymbol{u}),tag) = \\mathbb{e}\\boldsymbol{\\epsilon}$\n",
    "\n",
    "$\\boldsymbol{D}_{elasMod}(ε(\\boldsymbol{u}),s,tag) = \\mathbb{e}_{mod}\\boldsymbol{\\epsilon}$\n",
    "\n",
    "$\\boldsymbol{D}_{piezo}(\\boldsymbol{E}(\\phi)) = -\\boldsymbol{K}\\boldsymbol{E} $\n",
    "\n",
    "or, $\\boldsymbol{D}_{piezo}(\\nabla\\phi)  = \\boldsymbol{K}\\boldsymbol{\\nabla} \\phi$\n",
    "\n",
    "$\\boldsymbol{D}_{piezoMod}(\\nabla\\phi,s)  = \\boldsymbol{K}_{mod}\\boldsymbol{\\nabla} \\phi$"
   ]
  },
  {
   "cell_type": "code",
   "execution_count": 28,
   "id": "f5be4d33",
   "metadata": {},
   "outputs": [
    {
     "data": {
      "text/plain": [
       "D_ThermMod (generic function with 1 method)"
      ]
     },
     "execution_count": 28,
     "metadata": {},
     "output_type": "execute_result"
    }
   ],
   "source": [
    "function D_elasMod1(ε, s_in)\n",
    "    εElas = ε\n",
    "    return (s_in^2 + η)*(e_mat ⋅² εElas)\n",
    "end\n",
    "\n",
    "function D_elasMod2(T, s_in)\n",
    "    εElas = - α_mat*T\n",
    "    return (s_in^2 + η)*(e_mat ⋅² εElas)\n",
    "end\n",
    "\n",
    "function D_ThermMod(s_in)\n",
    "    εElas = α_mat*T0\n",
    "    return (s_in^2 + η)*(e_mat ⋅² εElas)\n",
    "end"
   ]
  },
  {
   "cell_type": "code",
   "execution_count": 29,
   "id": "7c9f4d54",
   "metadata": {},
   "outputs": [
    {
     "data": {
      "text/plain": [
       "D_piezoMod (generic function with 1 method)"
      ]
     },
     "execution_count": 29,
     "metadata": {},
     "output_type": "execute_result"
    }
   ],
   "source": [
    "D_piezo(∇) = K_mat ⋅ ∇\n",
    "\n",
    "function D_piezoMod(∇, s_in)   \n",
    "    return (s_in^2 + η)*D_piezo(∇)\n",
    "end"
   ]
  },
  {
   "cell_type": "code",
   "execution_count": 30,
   "id": "reflected-female",
   "metadata": {},
   "outputs": [
    {
     "data": {
      "text/plain": [
       "ψPos (generic function with 1 method)"
      ]
     },
     "execution_count": 30,
     "metadata": {},
     "output_type": "execute_result"
    }
   ],
   "source": [
    "function ψPos(ε_in, T_in, ∇_in)\n",
    "    εElas_in = ε_in - α_mat*(T_in-T0)\n",
    "    if tr(εElas_in) >= 0\n",
    "        ψPlus = 0.5*(εElas_in ⊙ σ_elas(εElas_in)) + 0.5*(σ_piezo(∇_in) ⊙ εElas_in)\n",
    "    elseif tr(εElas_in) < 0\n",
    "        ψPlus = 0.5*((I4_dev ⊙ σ_elas(εElas_in)) ⊙ (I4_dev ⊙ εElas_in)) + 0.5*(σ_piezo(∇_in) ⊙ (I4_dev ⊙ εElas_in))\n",
    "    end\n",
    "    return ψPlus\n",
    "end"
   ]
  },
  {
   "cell_type": "code",
   "execution_count": 31,
   "id": "6fce0388",
   "metadata": {},
   "outputs": [
    {
     "data": {
      "text/plain": [
       "new_EnergyState (generic function with 1 method)"
      ]
     },
     "execution_count": 31,
     "metadata": {},
     "output_type": "execute_result"
    }
   ],
   "source": [
    "function new_EnergyState(ψPlusPrev_in,ψhPos_in)\n",
    "  ψPlus_in = ψhPos_in\n",
    "  if ψPlus_in >= ψPlusPrev_in\n",
    "    ψPlus_out = ψPlus_in\n",
    "  else\n",
    "    ψPlus_out = ψPlusPrev_in\n",
    "  end\n",
    "  true,ψPlus_out\n",
    "end"
   ]
  },
  {
   "cell_type": "markdown",
   "id": "spare-throw",
   "metadata": {},
   "source": [
    "## FE formulation"
   ]
  },
  {
   "cell_type": "code",
   "execution_count": 32,
   "id": "tough-beast",
   "metadata": {},
   "outputs": [
    {
     "data": {
      "text/plain": [
       "project (generic function with 1 method)"
      ]
     },
     "execution_count": 32,
     "metadata": {},
     "output_type": "execute_result"
    }
   ],
   "source": [
    "function project(q,model,dΩ,order)\n",
    "  reffe = ReferenceFE(lagrangian,Float64,order)\n",
    "  V = FESpace(model,reffe,conformity=:L2)\n",
    "  a(u,v) = ∫( u*v )*dΩ\n",
    "  l(v) = ∫( v*q )*dΩ\n",
    "  op = AffineFEOperator(a,l,V,V)\n",
    "  qh = Gridap.solve(op)\n",
    "  qh\n",
    "end"
   ]
  },
  {
   "cell_type": "code",
   "execution_count": 33,
   "id": "french-place",
   "metadata": {},
   "outputs": [
    {
     "data": {
      "text/plain": [
       "2"
      ]
     },
     "execution_count": 33,
     "metadata": {},
     "output_type": "execute_result"
    }
   ],
   "source": [
    "order = 1\n",
    "degree = 2*order"
   ]
  },
  {
   "cell_type": "code",
   "execution_count": 34,
   "id": "stuck-parent",
   "metadata": {},
   "outputs": [
    {
     "data": {
      "text/plain": [
       "Measure()"
      ]
     },
     "execution_count": 34,
     "metadata": {},
     "output_type": "execute_result"
    }
   ],
   "source": [
    "Ω = Triangulation(model)\n",
    "dΩ = Measure(Ω,degree)"
   ]
  },
  {
   "cell_type": "code",
   "execution_count": 35,
   "id": "focal-alliance",
   "metadata": {},
   "outputs": [
    {
     "data": {
      "text/plain": [
       "GenericCellField():\n",
       " num_cells: 18\n",
       " DomainStyle: ReferenceDomain()\n",
       " Triangulation: BoundaryTriangulation()\n",
       " Triangulation id: 3086759015261429577"
      ]
     },
     "execution_count": 35,
     "metadata": {},
     "output_type": "execute_result"
    }
   ],
   "source": [
    "LoadTagId = get_tag_from_name(labels,\"TopEdge\")\n",
    "Γ_Load = BoundaryTriangulation(model,tags = LoadTagId)\n",
    "dΓ_Load = Measure(Γ_Load,degree)\n",
    "n_Γ_Load = get_normal_vector(Γ_Load)"
   ]
  },
  {
   "cell_type": "code",
   "execution_count": 36,
   "id": "incorporated-decade",
   "metadata": {},
   "outputs": [
    {
     "data": {
      "text/plain": [
       "SingleFieldFEFunction():\n",
       " num_cells: 22823\n",
       " DomainStyle: ReferenceDomain()\n",
       " Triangulation: BodyFittedTriangulation()\n",
       " Triangulation id: 790106954476898903"
      ]
     },
     "execution_count": 36,
     "metadata": {},
     "output_type": "execute_result"
    }
   ],
   "source": [
    "reffe_PF = ReferenceFE(lagrangian,Float64,order)\n",
    "V0_PF = TestFESpace(model,reffe_PF;\n",
    "  conformity=:H1)\n",
    "U_PF = TrialFESpace(V0_PF)\n",
    "sh = zero(V0_PF)"
   ]
  },
  {
   "cell_type": "code",
   "execution_count": 37,
   "id": "victorian-utilization",
   "metadata": {},
   "outputs": [
    {
     "data": {
      "text/plain": [
       "SingleFieldFEFunction():\n",
       " num_cells: 22823\n",
       " DomainStyle: ReferenceDomain()\n",
       " Triangulation: BodyFittedTriangulation()\n",
       " Triangulation id: 790106954476898903"
      ]
     },
     "execution_count": 37,
     "metadata": {},
     "output_type": "execute_result"
    }
   ],
   "source": [
    "reffe_Disp = ReferenceFE(lagrangian,VectorValue{2,Float64},order)\n",
    "        V0_Disp = TestFESpace(model,reffe_Disp;\n",
    "          conformity=:H1,\n",
    "          dirichlet_tags=[\"TopEdge\",\"BottomEdge\"],\n",
    "          dirichlet_masks=[(false,true), (true,true)])\n",
    "\n",
    "uh = zero(V0_Disp)"
   ]
  },
  {
   "cell_type": "code",
   "execution_count": 38,
   "id": "unique-iceland",
   "metadata": {},
   "outputs": [
    {
     "data": {
      "text/plain": [
       "SingleFieldFEFunction():\n",
       " num_cells: 22823\n",
       " DomainStyle: ReferenceDomain()\n",
       " Triangulation: BodyFittedTriangulation()\n",
       " Triangulation id: 790106954476898903"
      ]
     },
     "execution_count": 38,
     "metadata": {},
     "output_type": "execute_result"
    }
   ],
   "source": [
    "reffe_ElecPot = ReferenceFE(lagrangian,Float64,order)\n",
    "V0_ElecPot  = TestFESpace(model,reffe_ElecPot;\n",
    "  conformity=:H1,\n",
    "  dirichlet_tags=[\"TopEdge\",\"BottomEdge\"])\n",
    "ϕh = zero(V0_ElecPot)"
   ]
  },
  {
   "cell_type": "code",
   "execution_count": 39,
   "id": "77458b93",
   "metadata": {},
   "outputs": [
    {
     "data": {
      "text/plain": [
       "SingleFieldFEFunction():\n",
       " num_cells: 22823\n",
       " DomainStyle: ReferenceDomain()\n",
       " Triangulation: BodyFittedTriangulation()\n",
       " Triangulation id: 790106954476898903"
      ]
     },
     "execution_count": 39,
     "metadata": {},
     "output_type": "execute_result"
    }
   ],
   "source": [
    "reffe_Temp = ReferenceFE(lagrangian,Float64,order)\n",
    "V0_Temp = FESpace(model,reffe_Temp;\n",
    "  conformity=:H1,\n",
    "  dirichlet_tags=[\"TopEdge\",\"BottomEdge\"])\n",
    "Th = zero(V0_Temp)"
   ]
  },
  {
   "cell_type": "code",
   "execution_count": 40,
   "id": "accredited-startup",
   "metadata": {},
   "outputs": [
    {
     "data": {
      "text/plain": [
       "MultiFieldFESpace()"
      ]
     },
     "execution_count": 40,
     "metadata": {},
     "output_type": "execute_result"
    }
   ],
   "source": [
    "V0 = MultiFieldFESpace([V0_Disp,V0_ElecPot,V0_Temp])"
   ]
  },
  {
   "cell_type": "code",
   "execution_count": 41,
   "id": "terminal-saint",
   "metadata": {},
   "outputs": [
    {
     "data": {
      "text/plain": [
       "stepPhaseField (generic function with 1 method)"
      ]
     },
     "execution_count": 41,
     "metadata": {},
     "output_type": "execute_result"
    }
   ],
   "source": [
    "function  stepPhaseField(uh_in,ψPlusPrev_in)\n",
    "        \n",
    "        a_PF(s,ϕ) = ∫( Gc*lsp*∇(ϕ)⋅ ∇(s) + 2*ψPlusPrev_in*s*ϕ  + (Gc/lsp)*s*ϕ )*dΩ\n",
    "        b_PF(ϕ) = ∫( (Gc/lsp)*ϕ )*dΩ\n",
    "        op_PF = AffineFEOperator(a_PF,b_PF,U_PF,V0_PF)\n",
    "        sh_out = Gridap.solve(op_PF)           \n",
    "    \n",
    "    return sh_out\n",
    "    \n",
    "end"
   ]
  },
  {
   "cell_type": "code",
   "execution_count": 42,
   "id": "broadband-tracker",
   "metadata": {},
   "outputs": [
    {
     "data": {
      "text/plain": [
       "stepDispElecPotTemp (generic function with 1 method)"
      ]
     },
     "execution_count": 42,
     "metadata": {},
     "output_type": "execute_result"
    }
   ],
   "source": [
    " function   stepDispElecPotTemp(uh_in,phih_in,Th_in,sh_in,vApp,phiApp,TApp,delt)\n",
    "    \n",
    "        uApp1(x) = VectorValue(0.0,vApp)\n",
    "        uApp2(x) = VectorValue(0.0,0.0)\n",
    "        U_Disp = TrialFESpace(V0_Disp,[uApp1,uApp2])\n",
    "    \n",
    "        phiApp1(x) = phiApp\n",
    "        phiApp2(x) = 0\n",
    "        U_ElecPot = TrialFESpace(V0_ElecPot,[phiApp1,phiApp2])\n",
    "    \n",
    "        Tapp1(x) = TApp\n",
    "        Tapp2(x) = T0\n",
    "        U_Temp = TrialFESpace(V0_Temp,[Tapp1,Tapp2])\n",
    "    \n",
    "        U = MultiFieldFESpace([U_Disp,U_ElecPot,U_Temp])\n",
    "    \n",
    "        a((u,ϕ,T),(v,φ,ϑ)) = ∫( ((ε(v)) ⊙ (σ_TotMod1∘(ε(u), ε(uh_in), sh_in, Th_in))) \n",
    "                              + ((ε(v)) ⊙ (σ_TotMod2∘(T, ε(uh_in), sh_in, Th_in)))\n",
    "                              + ((ε(v)) ⊙ (σ_piezoMod∘(∇(ϕ), sh_in)))\n",
    "                              - ((∇(φ))⋅(D_piezoMod∘(∇(ϕ), sh_in))) \n",
    "                              + ((∇(φ))⋅(D_elasMod1∘(ε(u), sh_in)))\n",
    "                              + ((∇(φ))⋅(D_elasMod2∘(T, sh_in)))\n",
    "                              + ((∇(ϑ))⋅(κGradTemp∘(∇(T),sh_in))) \n",
    "                              + (ϑ*((ρ*c*T)/delt)) )*dΩ\n",
    "        b((v,φ,ϑ)) = ∫( -(ε(v) ⊙ (σ_thermMod∘(ε(uh_in),sh_in,Th_in)))\n",
    "                      - (∇(φ)⋅(D_ThermMod∘(sh_in))) \n",
    "                      + (ϑ*((ρ*c*Th_in)/delt)) )*dΩ\n",
    "    \n",
    "        op = AffineFEOperator(a,b,U,V0)\n",
    "        uhPhi = Gridap.solve(op)\n",
    "        uh_out,phih_out,Th_out = uhPhi\n",
    "    \n",
    "    return uh_out,phih_out,Th_out\n",
    "end"
   ]
  },
  {
   "cell_type": "code",
   "execution_count": 43,
   "id": "electoral-disability",
   "metadata": {
    "scrolled": true
   },
   "outputs": [
    {
     "name": "stdout",
     "output_type": "stream",
     "text": [
      "\n",
      " Entering displacemtent step1 :3.5e-8\n",
      " Relative error = 4.30349799287982e-17\n",
      " Entering displacemtent step2 :7.0e-8\n",
      " Relative error = 4.83928798568681e-6\n",
      " Relative error = 2.366338816164882e-5\n",
      " Relative error = 4.373875883817915e-9\n",
      " Entering displacemtent step3 :1.05e-7\n",
      " Relative error = 2.7537714790631394e-9\n",
      " Entering displacemtent step4 :1.4e-7\n",
      " Relative error = 4.175912947289945e-5\n",
      " Relative error = 6.102692354151731e-5\n",
      " Relative error = 7.527962101636535e-9\n",
      " Entering displacemtent step5 :1.7500000000000002e-7\n",
      " Relative error = 7.0251583029057565e-9\n",
      " Entering displacemtent step6 :2.1e-7\n",
      " Relative error = 7.807584304578521e-5\n",
      " Relative error = 9.639727381832402e-5\n",
      " Relative error = 1.606912661068346e-8\n",
      " Relative error = 1.4137233805722493e-8\n",
      " Relative error = 1.4632061570860093e-8\n",
      " Relative error = 1.4874385628645945e-8\n",
      " Relative error = 1.4648925508061678e-8\n",
      " Relative error = 1.3736739109087033e-8\n",
      " Relative error = 1.2701427423482122e-8\n",
      " Relative error = 1.171319710274863e-8\n",
      " Entering displacemtent step7 :2.4500000000000004e-7\n",
      " Relative error = 1.0834822614336025e-8\n",
      " Relative error = 7.563697128759577e-5\n",
      " Relative error = 1.135936738565854e-8\n",
      " Relative error = 8.220278369511168e-9\n",
      " Entering displacemtent step8 :2.8e-7\n",
      " Relative error = 7.99031332103335e-9\n",
      " Entering displacemtent step9 :3.15e-7\n",
      " Relative error = 8.998918546871051e-5\n",
      " Relative error = 0.00010134309789481004\n",
      " Relative error = 2.679656601706924e-8\n",
      " Relative error = 1.8778328232654e-8\n",
      " Relative error = 1.7381271927749217e-8\n",
      " Relative error = 1.692302541962602e-8\n",
      " Relative error = 1.6223770286725225e-8\n",
      " Relative error = 1.5844991787979376e-8\n",
      " Relative error = 1.5111975898744817e-8\n",
      " Relative error = 1.396614544738771e-8\n",
      " Entering displacemtent step10 :3.5e-7\n",
      " Relative error = 1.2730905252706874e-8\n",
      " Relative error = 9.754336098621176e-5\n",
      " Relative error = 2.3565350560114723e-8\n",
      " Relative error = 1.195026716312611e-8\n",
      " Relative error = 1.1221216182991234e-8\n",
      " Relative error = 1.1842270601485818e-8\n",
      " Relative error = 1.1625070715021341e-8\n",
      " Relative error = 1.0916232209087548e-8\n",
      " Relative error = 1.076173583048769e-8\n",
      " Relative error = 1.0254248497351553e-8\n",
      " Entering displacemtent step11 :3.8499999999999997e-7\n",
      " Relative error = 9.479375128910841e-9\n",
      " Entering displacemtent step12 :4.1999999999999995e-7\n",
      " Relative error = 0.00010866939557624233\n",
      " Relative error = 0.00012661238371274725\n",
      " Relative error = 5.506458627074748e-8\n",
      " Relative error = 2.5451507200129093e-8\n",
      " Relative error = 1.8525361369704948e-8\n",
      " Relative error = 1.7791815766293332e-8\n",
      " Relative error = 1.8436277750260964e-8\n",
      " Relative error = 1.7755814550011137e-8\n",
      " Relative error = 1.713646510303302e-8\n",
      " Relative error = 1.6065615648110402e-8\n",
      " Entering displacemtent step13 :4.5499999999999993e-7\n",
      " Relative error = 1.4676007924100236e-8\n",
      " Relative error = 0.0001164896674924403\n",
      " Relative error = 4.6451764906494775e-8\n",
      " Relative error = 1.779398652535968e-8\n",
      " Relative error = 1.336450579115116e-8\n",
      " Relative error = 1.4026987886164132e-8\n",
      " Relative error = 1.550652919926551e-8\n",
      " Relative error = 1.487268761966489e-8\n",
      " Relative error = 1.3903643185524616e-8\n",
      " Relative error = 1.3340639660010361e-8\n",
      " Entering displacemtent step14 :4.9e-7\n",
      " Relative error = 1.2388724214769952e-8\n",
      " Relative error = 0.00012739886101496354\n",
      " Relative error = 6.782009187037031e-8\n",
      " Relative error = 2.0483257790161155e-8\n",
      " Relative error = 1.4256379013690485e-8\n",
      " Relative error = 1.255382605902825e-8\n",
      " Relative error = 1.2712136945247056e-8\n",
      " Relative error = 1.3753779437680296e-8\n",
      " Relative error = 1.3125028052992099e-8\n",
      " Relative error = 1.2230600571678837e-8\n",
      " Entering displacemtent step15 :5.25e-7\n",
      " Relative error = 1.1653442179660698e-8\n",
      " Relative error = 0.00013469251527657415\n",
      " Relative error = 8.427439854075112e-8\n",
      " Relative error = 2.3300180122509073e-8\n",
      " Relative error = 1.6034859995085124e-8\n",
      " Relative error = 1.3790274221786185e-8\n",
      " Relative error = 1.2664705680759868e-8\n",
      " Relative error = 1.3350324280712952e-8\n",
      " Relative error = 1.3827375605395503e-8\n",
      " Relative error = 1.2911865712524674e-8\n",
      " Entering displacemtent step16 :5.6e-7\n",
      " Relative error = 1.2180076486323614e-8\n",
      " Relative error = 0.000140781728236388\n",
      " Relative error = 9.915650276844962e-8\n",
      " Relative error = 2.611830966249873e-8\n",
      " Relative error = 1.777156104467781e-8\n",
      " Relative error = 1.5235517049623878e-8\n",
      " Relative error = 1.3374598280360952e-8\n",
      " Relative error = 1.3647696229907823e-8\n",
      " Relative error = 1.4172364384433728e-8\n",
      " Relative error = 1.3806024792352653e-8\n",
      " Entering displacemtent step17 :5.95e-7\n",
      " Relative error = 1.3153124850568931e-8\n",
      " Relative error = 0.00014643869701210557\n",
      " Relative error = 1.1442917842196236e-7\n",
      " Relative error = 2.8717495042989702e-8\n",
      " Relative error = 1.9531923997964528e-8\n",
      " Relative error = 1.6747060747958793e-8\n",
      " Relative error = 1.4557365623343748e-8\n",
      " Relative error = 1.413340515976886e-8\n",
      " Relative error = 1.4550708711921998e-8\n",
      " Relative error = 1.4852578223771434e-8\n",
      " Entering displacemtent step18 :6.300000000000001e-7\n",
      " Relative error = 1.4102757707526006e-8\n",
      " Relative error = 0.00015196401008343933\n",
      " Relative error = 1.3073391809962926e-7\n",
      " Relative error = 3.121412603079095e-8\n",
      " Relative error = 2.1247887393058476e-8\n",
      " Relative error = 1.82270320307007e-8\n",
      " Relative error = 1.578679907491812e-8\n",
      " Relative error = 1.4916683465751322e-8\n",
      " Relative error = 1.5147283963204817e-8\n",
      " Relative error = 1.5660197059424115e-8\n",
      " Entering displacemtent step19 :6.650000000000001e-7\n",
      " Relative error = 1.5048851048103074e-8\n",
      " Relative error = 0.00015751112910575684\n",
      " Relative error = 1.486138527510443e-7\n",
      " Relative error = 3.3510327248049716e-8\n",
      " Relative error = 2.2856792211297025e-8\n",
      " Relative error = 1.9629833736290547e-8\n",
      " Relative error = 1.697027092623398e-8\n",
      " Relative error = 1.5791353621288594e-8\n",
      " Relative error = 1.5837697093496184e-8\n",
      " Relative error = 1.6404464775893907e-8\n",
      " Entering displacemtent step20 :7.000000000000001e-7\n",
      " Relative error = 1.5957873340972053e-8\n",
      " Relative error = 0.00016318495533745877\n",
      " Relative error = 1.6849361181744166e-7\n",
      " Relative error = 3.5531772685350984e-8\n",
      " Relative error = 2.4312611751712362e-8\n",
      " Relative error = 2.0924863136292548e-8\n",
      " Relative error = 1.8106394025469513e-8\n",
      " Relative error = 1.669632935156465e-8\n",
      " Relative error = 1.66110508587708e-8\n",
      " Relative error = 1.7193785065360678e-8\n",
      " Entering displacemtent step21 :7.350000000000002e-7\n",
      " Relative error = 1.6819003787635276e-8\n",
      " Relative error = 0.00016907436819934137\n",
      " Relative error = 1.911805150300879e-7\n",
      " Relative error = 3.723506210702279e-8\n",
      " Relative error = 2.5550049958680803e-8\n",
      " Relative error = 2.2014852850355535e-8\n",
      " Relative error = 1.907348163597709e-8\n",
      " Relative error = 1.7562663270811787e-8\n",
      " Relative error = 1.7432121555212226e-8\n",
      " Relative error = 1.8001134500381722e-8\n",
      " Entering displacemtent step22 :7.700000000000001e-7\n",
      " Relative error = 1.756122484704822e-8\n",
      " Relative error = 0.0001752575850918564\n",
      " Relative error = 2.1710186577723811e-7\n",
      " Relative error = 3.847114212694651e-8\n",
      " Relative error = 2.6510472486281673e-8\n",
      " Relative error = 2.289264957048094e-8\n",
      " Relative error = 1.9870745069543914e-8\n",
      " Relative error = 1.8390473966068337e-8\n",
      " Relative error = 1.8320340108363447e-8\n",
      " Relative error = 1.8825403881407633e-8\n",
      " Entering displacemtent step23 :8.050000000000002e-7\n",
      " Relative error = 1.818421345817799e-8\n",
      " Relative error = 0.00018180455496534146\n",
      " Relative error = 2.474311988137848e-7\n",
      " Relative error = 3.931226932526712e-8\n",
      " Relative error = 2.7178528174304223e-8\n",
      " Relative error = 2.3519746233667177e-8\n",
      " Relative error = 2.046846998181654e-8\n",
      " Relative error = 1.9127919139939086e-8\n",
      " Relative error = 1.92509596708392e-8\n",
      " Relative error = 1.9596515937333897e-8\n",
      " Entering displacemtent step24 :8.400000000000002e-7\n",
      " Relative error = 1.8647163028933045e-8\n",
      " Relative error = 0.0001887719395560844\n",
      " Relative error = 2.828744665718229e-7\n",
      " Relative error = 3.961320672452207e-8\n",
      " Relative error = 2.7556063147514595e-8\n",
      " Relative error = 2.3907181589341482e-8\n",
      " Relative error = 2.091197594534817e-8\n",
      " Relative error = 1.988453800046111e-8\n",
      " Relative error = 2.019464870997611e-8\n",
      " Relative error = 2.0204015205934804e-8\n",
      " Entering displacemtent step25 :8.750000000000002e-7\n",
      " Relative error = 1.8954017314765663e-8\n",
      " Relative error = 0.0001962005790138013\n",
      " Relative error = 3.24835627644027e-7\n",
      " Relative error = 3.9344651700696733e-8\n",
      " Relative error = 2.754188360333114e-8\n",
      " Relative error = 2.397389985873348e-8\n",
      " Relative error = 2.1141910890955066e-8\n",
      " Relative error = 2.0645173938378426e-8\n",
      " Relative error = 2.1265512581457857e-8\n",
      " Relative error = 2.040363787185081e-8\n",
      " Entering displacemtent step26 :9.100000000000002e-7\n",
      " Relative error = 1.8984139408727815e-8\n",
      " Relative error = 0.00020411771984048393\n",
      " Relative error = 3.7480845445628993e-7\n",
      " Relative error = 3.859484851422252e-8\n",
      " Relative error = 2.719025867562532e-8\n",
      " Relative error = 2.3741683438670717e-8\n",
      " Relative error = 2.137462331043041e-8\n",
      " Relative error = 2.1616150597029824e-8\n",
      " Relative error = 2.187971466138653e-8\n",
      " Relative error = 2.04381459760069e-8\n",
      " Entering displacemtent step27 :9.450000000000003e-7\n",
      " Relative error = 1.8718860222470218e-8\n",
      " Relative error = 0.0002125337670371997\n",
      " Relative error = 4.3485316674891805e-7\n",
      " Relative error = 3.738450454990237e-8\n",
      " Relative error = 2.645333762940892e-8\n",
      " Relative error = 2.3187802235915003e-8\n",
      " Relative error = 2.1697203464518825e-8\n",
      " Relative error = 2.240838104854855e-8\n",
      " Relative error = 2.197929555502473e-8\n",
      " Relative error = 2.022133762739551e-8\n",
      " Entering displacemtent step28 :9.800000000000004e-7\n",
      " Relative error = 1.8248173766987954e-8\n",
      " Relative error = 0.0002214444563671047\n",
      " Relative error = 5.067345927612171e-7\n",
      " Relative error = 3.581767834166967e-8\n",
      " Relative error = 2.54337269763993e-8\n",
      " Relative error = 2.240007751502094e-8\n",
      " Relative error = 2.22608751973221e-8\n",
      " Relative error = 2.287246626721308e-8\n",
      " Relative error = 2.1577846209475047e-8\n",
      " Relative error = 1.956379238158679e-8\n",
      " Entering displacemtent step29 :1.0150000000000002e-6\n",
      " Relative error = 1.762359935646216e-8\n",
      " Relative error = 0.00023082845062566635\n",
      " Relative error = 5.924953245100569e-7\n",
      " Relative error = 3.4162539862604915e-8\n",
      " Relative error = 2.4168101484692943e-8\n",
      " Relative error = 2.198422529162936e-8\n",
      " Relative error = 2.2694880060860403e-8\n",
      " Relative error = 2.2617704560907695e-8\n",
      " Relative error = 2.0871646717659824e-8\n",
      " Relative error = 1.8721321558448785e-8\n",
      " Entering displacemtent step30 :1.0500000000000003e-6\n",
      " Relative error = 1.686850786627909e-8\n",
      " Relative error = 0.000240650352703035\n",
      " Relative error = 6.948228307125276e-7\n",
      " Relative error = 3.325929504898686e-8\n",
      " Relative error = 2.3095840018667325e-8\n",
      " Relative error = 2.1707502633723884e-8\n",
      " Relative error = 2.268876273213415e-8\n",
      " Relative error = 2.1780281511770094e-8\n",
      " Relative error = 1.974633508664428e-8\n",
      " Relative error = 1.7712388396194967e-8\n",
      " Entering displacemtent step31 :1.0850000000000004e-6\n",
      " Relative error = 1.59828280530295e-8\n",
      " Relative error = 0.0002508619973982865\n",
      " Relative error = 8.184530397013975e-7\n",
      " Relative error = 3.599339706186382e-8\n",
      " Relative error = 2.236487918265126e-8\n",
      " Relative error = 2.1355707101681768e-8\n",
      " Relative error = 2.1756761974414934e-8\n",
      " Relative error = 2.047465701030713e-8\n",
      " Relative error = 1.851478619313014e-8\n",
      " Relative error = 1.6555318695221095e-8\n",
      " Entering displacemtent step32 :1.1200000000000005e-6\n",
      " Relative error = 1.4989088623554833e-8\n",
      " Relative error = 0.0002614009565589833\n",
      " Relative error = 9.645383811679624e-7\n",
      " Relative error = 4.415336971685983e-8\n",
      " Relative error = 2.1652642684389225e-8\n",
      " Relative error = 2.0425986798877578e-8\n",
      " Relative error = 2.0280408932035626e-8\n",
      " Relative error = 1.8948516295156606e-8\n",
      " Relative error = 1.7112168825767532e-8\n",
      " Relative error = 1.5281480526480476e-8\n",
      " Entering displacemtent step33 :1.1550000000000004e-6\n",
      " Relative error = 1.3902875106869811e-8\n",
      " Relative error = 0.0002722043947723199\n",
      " Relative error = 1.1350686128023293e-6\n",
      " Relative error = 5.7766324300186736e-8\n",
      " Relative error = 2.0723216595200095e-8\n",
      " Relative error = 1.9013218555531276e-8\n",
      " Relative error = 1.8304981455200563e-8\n",
      " Relative error = 1.7314048926700893e-8\n",
      " Relative error = 1.555268039961898e-8\n",
      " Relative error = 1.4010074210069251e-8\n",
      " Entering displacemtent step34 :1.1900000000000005e-6\n",
      " Relative error = 1.2700843752219611e-8\n",
      " Relative error = 0.0002832036275194293\n",
      " Relative error = 1.3379622232392136e-6\n",
      " Relative error = 7.765872682734555e-8\n",
      " Relative error = 1.8965927939780586e-8\n",
      " Relative error = 1.7259380836656143e-8\n",
      " Relative error = 1.6293765803476767e-8\n",
      " Relative error = 1.5513422237322264e-8\n",
      " Relative error = 1.3969995804662719e-8\n",
      " Relative error = 1.2730998296634516e-8\n",
      " Entering displacemtent step35 :1.2250000000000006e-6\n",
      " Relative error = 1.148025252866184e-8\n",
      " Relative error = 0.0002943240902382002\n",
      " Relative error = 1.5798358817364106e-6\n",
      " Relative error = 1.0386608061179869e-7\n",
      " Relative error = 1.6573919857126136e-8\n",
      " Relative error = 1.548132522236911e-8\n",
      " Relative error = 1.4421113299180825e-8\n",
      " Relative error = 1.3550631133354809e-8\n",
      " Relative error = 1.2464946434613489e-8\n",
      " Relative error = 1.1283192255873775e-8\n",
      " Entering displacemtent step36 :1.2600000000000004e-6\n",
      " Relative error = 1.0320163153042804e-8\n",
      " Relative error = 0.0003054905192631\n",
      " Relative error = 1.8576609691964144e-6\n",
      " Relative error = 1.3724490266495053e-7\n",
      " Relative error = 1.4224976750625982e-8\n",
      " Relative error = 1.3723612882388155e-8\n",
      " Relative error = 1.2843634691781898e-8\n",
      " Relative error = 1.1649190715716736e-8\n",
      " Relative error = 1.0755353751826905e-8\n",
      " Relative error = 9.97649330324104e-9\n",
      " Entering displacemtent step37 :1.2950000000000005e-6\n",
      " Relative error = 9.021763240243512e-9\n",
      " Entering displacemtent step38 :1.3300000000000006e-6\n",
      " Relative error = 0.00031664306083440416\n",
      " Relative error = 0.0003433551316526021\n",
      " Relative error = 2.6093358962097185e-6\n",
      " Relative error = 2.4919170234667794e-7\n",
      " Relative error = 2.549882878199979e-8\n",
      " Relative error = 1.9293654249572408e-8\n",
      " Relative error = 1.790357549622352e-8\n",
      " Relative error = 1.6828642368781717e-8\n",
      " Relative error = 1.5241104296427624e-8\n",
      " Relative error = 1.385061795327149e-8\n",
      " Entering displacemtent step39 :1.3650000000000007e-6\n",
      " Relative error = 1.2440469735414821e-8\n",
      " Relative error = 0.0003293651198210172\n",
      " Relative error = 2.643505844536002e-6\n",
      " Relative error = 2.635799649866465e-7\n",
      " Relative error = 2.6543986798429212e-8\n",
      " Relative error = 1.0900970441662303e-8\n",
      " Relative error = 1.0493294533798249e-8\n",
      " Relative error = 1.0091025687154971e-8\n",
      " Relative error = 9.343528938237236e-9\n",
      " Entering displacemtent step40 :1.4000000000000006e-6\n",
      " Relative error = 8.401890103313425e-9\n",
      " Entering displacemtent step41 :1.4350000000000007e-6\n",
      " Relative error = 0.0003477527377139367\n",
      " Relative error = 0.00037216651553726777\n",
      " Relative error = 3.9487597596371784e-6\n",
      " Relative error = 5.053525931697086e-7\n",
      " Relative error = 7.288164308480101e-8\n",
      " Relative error = 1.2678916713295476e-8\n",
      " Relative error = 1.2210042589172062e-8\n",
      " Relative error = 1.1222662290476326e-8\n",
      " Relative error = 1.0160033095127278e-8\n",
      " Relative error = 9.075692103886425e-9\n",
      " Entering displacemtent step42 :1.4700000000000007e-6\n",
      " Relative error = 8.200961820326568e-9\n",
      " Entering displacemtent step43 :1.5050000000000006e-6\n",
      " Relative error = 0.00036294915005684715\n",
      " Relative error = 0.0003912121372507078\n",
      " Relative error = 5.037662249841759e-6\n",
      " Relative error = 7.680009345053664e-7\n",
      " Relative error = 1.4841559173623476e-7\n",
      " Relative error = 2.2102525459652974e-8\n",
      " Relative error = 9.230179890666481e-9\n",
      " Entering displacemtent step44 :1.5400000000000007e-6\n",
      " Relative error = 8.596845795255009e-9\n",
      " Entering displacemtent step45 :1.5750000000000008e-6\n",
      " Relative error = 0.00038610690029227014\n",
      " Relative error = 0.00040995349053033376\n",
      " Relative error = 6.2487771565223906e-6\n",
      " Relative error = 1.1250716743022372e-6\n",
      " Relative error = 2.6903139781463045e-7\n",
      " Relative error = 5.764384497557989e-8\n",
      " Relative error = 1.0125084673692037e-8\n",
      " Relative error = 7.284640108870869e-9\n",
      " Entering displacemtent step46 :1.6100000000000009e-6\n",
      " Relative error = 6.644660917178803e-9\n",
      " Entering displacemtent step47 :1.6450000000000008e-6\n",
      " Relative error = 0.0004039096853636094\n",
      " Relative error = 0.00042869108202724104\n",
      " Relative error = 7.729667238313951e-6\n",
      " Relative error = 1.6400363598533425e-6\n",
      " Relative error = 4.773678404563874e-7\n",
      " Relative error = 1.3635306299908425e-7\n",
      " Relative error = 3.37601705091008e-8\n",
      " Relative error = 6.802209362024386e-9\n",
      " Entering displacemtent step48 :1.6800000000000009e-6\n"
     ]
    },
    {
     "name": "stdout",
     "output_type": "stream",
     "text": [
      " Relative error = 4.494851380751067e-9\n",
      " Entering displacemtent step49 :1.715000000000001e-6\n",
      " Relative error = 0.0004226633394513813\n",
      " Relative error = 0.0004471298192905155\n",
      " Relative error = 9.380267636828159e-6\n",
      " Relative error = 2.3362598572131566e-6\n",
      " Relative error = 8.055649560592093e-7\n",
      " Relative error = 2.8383009198548316e-7\n",
      " Relative error = 9.567880789874964e-8\n",
      " Relative error = 2.898521592431222e-8\n",
      " Relative error = 7.106540637945819e-9\n",
      " Entering displacemtent step50 :1.7500000000000008e-6\n",
      " Relative error = 2.641456376320515e-9\n",
      " Entering displacemtent step51 :1.7850000000000007e-6\n",
      " Relative error = 0.0004396188083143461\n",
      " Relative error = 0.0004652657125918394\n",
      " Relative error = 1.1237983656782391e-5\n",
      " Relative error = 3.254957520311881e-6\n",
      " Relative error = 1.3080088147214408e-6\n",
      " Relative error = 5.511033313312831e-7\n",
      " Relative error = 2.3006192727676305e-7\n",
      " Relative error = 9.293486508136975e-8\n",
      " Relative error = 3.5428353028383903e-8\n",
      " Relative error = 1.2265626486226467e-8\n",
      " Entering displacemtent step52 :1.8200000000000008e-6\n",
      " Relative error = 3.482645166838915e-9\n",
      " Entering displacemtent step53 :1.8550000000000009e-6\n",
      " Relative error = 0.0004552050228440258\n",
      " Relative error = 0.00048304929197167816\n",
      " Relative error = 1.3339948123809395e-5\n",
      " Relative error = 4.448597285765927e-6\n",
      " Relative error = 2.053038590143878e-6\n",
      " Relative error = 1.011402160459179e-6\n",
      " Relative error = 5.023202359225717e-7\n",
      " Relative error = 2.4753438706436055e-7\n",
      " Relative error = 1.2015973282686625e-7\n",
      " Relative error = 5.691045255729907e-8\n",
      " Entering displacemtent step54 :1.890000000000001e-6\n",
      " Relative error = 2.6082684367237647e-8\n",
      " Relative error = 0.0004687828563985968\n",
      " Relative error = 1.1413861760300398e-5\n",
      " Relative error = 3.7062195713881136e-6\n",
      " Relative error = 1.793691287574208e-6\n",
      " Relative error = 9.470285562576372e-7\n",
      " Relative error = 5.08708492882665e-7\n",
      " Relative error = 2.733564172138743e-7\n",
      " Relative error = 1.4582085631689337e-7\n",
      " Relative error = 7.696356315500087e-8\n",
      " Entering displacemtent step55 :1.925000000000001e-6\n",
      " Relative error = 4.0016812885368924e-8\n",
      " Relative error = 0.0004809605520711745\n",
      " Relative error = 1.2243412323290846e-5\n",
      " Relative error = 4.2466459871966745e-6\n",
      " Relative error = 2.1992055912429457e-6\n",
      " Relative error = 1.2442364580179046e-6\n",
      " Relative error = 7.191387758668325e-7\n",
      " Relative error = 4.1831854920401157e-7\n",
      " Relative error = 2.4341870287734275e-7\n",
      " Relative error = 1.412743510505542e-7\n",
      " Entering displacemtent step56 :1.960000000000001e-6\n",
      " Relative error = 8.159469614487088e-8\n",
      " Relative error = 0.0004871236224197676\n",
      " Relative error = 1.3132904826041736e-5\n",
      " Relative error = 4.882108355644459e-6\n",
      " Relative error = 2.7099219135758607e-6\n",
      " Relative error = 1.6428272680905084e-6\n",
      " Relative error = 1.0193088353851426e-6\n",
      " Relative error = 6.374406249121496e-7\n",
      " Relative error = 4.0017657750612055e-7\n",
      " Relative error = 2.515356344307335e-7\n",
      " Entering displacemtent step57 :1.995000000000001e-6\n",
      " Relative error = 1.580921788448245e-7\n",
      " Relative error = 0.0004923737511005027\n",
      " Relative error = 1.409230987962885e-5\n",
      " Relative error = 5.639773371517252e-6\n",
      " Relative error = 3.3679568752011794e-6\n",
      " Relative error = 2.19451712080553e-6\n",
      " Relative error = 1.4642954053253353e-6\n",
      " Relative error = 9.863439129791307e-7\n",
      " Relative error = 6.673658064538719e-7\n",
      " Relative error = 4.526903008857224e-7\n",
      " Entering displacemtent step58 :2.030000000000001e-6\n",
      " Relative error = 3.0774284133028574e-7\n",
      " Relative error = 0.0004964162158453431\n",
      " Relative error = 1.5161058010042375e-5\n",
      " Relative error = 6.580091884867703e-6\n",
      " Relative error = 4.253384218805219e-6\n",
      " Relative error = 2.994379825053001e-6\n",
      " Relative error = 2.1609266107965783e-6\n",
      " Relative error = 1.5758076301808447e-6\n",
      " Relative error = 1.1566904784739188e-6\n",
      " Relative error = 8.516790725497786e-7\n",
      " Entering displacemtent step59 :2.065000000000001e-6\n",
      " Relative error = 6.283788992564766e-7\n",
      " Relative error = 0.0004985779766632645\n",
      " Relative error = 1.642918854836165e-5\n",
      " Relative error = 7.837398369781352e-6\n",
      " Relative error = 5.537897442678756e-6\n",
      " Relative error = 4.249743937849473e-6\n",
      " Relative error = 3.349605956688879e-6\n",
      " Relative error = 2.6691489368979266e-6\n",
      " Relative error = 2.141742746245727e-6\n",
      " Relative error = 1.7293535374216003e-6\n",
      " Entering displacemtent step60 :2.100000000000001e-6\n",
      " Relative error = 1.4019067975407262e-6\n",
      " Relative error = 0.0004976033049439646\n",
      " Relative error = 1.820742438569354e-5\n",
      " Relative error = 9.796274008536378e-6\n",
      " Relative error = 7.696481007667172e-6\n",
      " Relative error = 6.551955170568549e-6\n",
      " Relative error = 5.724826572946511e-6\n",
      " Relative error = 5.080436007356064e-6\n",
      " Relative error = 4.554364860936066e-6\n",
      " Relative error = 4.123011230391801e-6\n",
      " Entering displacemtent step61 :2.135000000000001e-6\n",
      " Relative error = 3.7649292800747397e-6\n",
      " Relative error = 0.0004901076050397524\n",
      " Relative error = 2.1960176013857955e-5\n",
      " Relative error = 1.4192057404029788e-5\n",
      " Relative error = 1.2933282146527416e-5\n",
      " Relative error = 1.2644611236578126e-5\n",
      " Relative error = 1.274002368887192e-5\n",
      " Relative error = 1.3110549843213042e-5\n",
      " Relative error = 1.3748570320863687e-5\n",
      " Relative error = 1.4685458120054286e-5\n",
      " Entering displacemtent step62 :2.1700000000000012e-6\n",
      " Relative error = 1.5984002801538872e-5\n",
      " Relative error = 0.00046752722744330835\n",
      " Relative error = 4.137045840891807e-5\n",
      " Relative error = 3.8735976601742815e-5\n",
      " Relative error = 4.467097605900737e-5\n",
      " Relative error = 5.349459112358789e-5\n",
      " Relative error = 6.421689849206902e-5\n",
      " Relative error = 7.439503797659937e-5\n",
      " Relative error = 8.058246166362906e-5\n",
      " Relative error = 8.186045177454237e-5\n",
      " Entering displacemtent step63 :2.2050000000000013e-6\n",
      " Relative error = 8.017522764401683e-5\n",
      " Relative error = 0.0004398324887574482\n",
      " Relative error = 9.915057972187651e-5\n",
      " Relative error = 8.744265367245274e-5\n",
      " Relative error = 8.391634447150253e-5\n",
      " Relative error = 8.092720768478058e-5\n",
      " Relative error = 7.863354446764311e-5\n",
      " Relative error = 7.67203721365996e-5\n",
      " Relative error = 7.464529119491718e-5\n",
      " Relative error = 7.319328558970632e-5\n",
      " Entering displacemtent step64 :2.240000000000001e-6\n",
      " Relative error = 7.216245474777364e-5\n",
      " Relative error = 0.00040837275573123573\n",
      " Relative error = 9.545668153024876e-5\n",
      " Relative error = 8.440147008137969e-5\n",
      " Relative error = 8.200419639678834e-5\n",
      " Relative error = 8.076441976853668e-5\n",
      " Relative error = 7.980269892348939e-5\n",
      " Relative error = 7.874954774081736e-5\n",
      " Relative error = 7.795675926259893e-5\n",
      " Relative error = 7.723865617952046e-5\n",
      " Entering displacemtent step65 :2.275000000000001e-6\n",
      " Relative error = 7.667500564418214e-5\n",
      " Relative error = 0.00040121955002513397\n",
      " Relative error = 0.00010166193493237174\n",
      " Relative error = 9.097493983381646e-5\n",
      " Relative error = 8.88171249062159e-5\n",
      " Relative error = 8.78689438822082e-5\n",
      " Relative error = 8.72013609737978e-5\n",
      " Relative error = 8.647795277207836e-5\n",
      " Relative error = 8.595688865724449e-5\n",
      " Relative error = 8.548750768172186e-5\n",
      " Entering displacemtent step66 :2.310000000000001e-6\n",
      " Relative error = 8.493936505999702e-5\n",
      " Relative error = 0.0003918778281801657\n",
      " Relative error = 0.00011105046221211806\n",
      " Relative error = 0.0001004949927282609\n",
      " Relative error = 9.84821747809432e-5\n",
      " Relative error = 9.765907810514825e-5\n",
      " Relative error = 9.714253227226463e-5\n",
      " Relative error = 9.64787777593581e-5\n",
      " Relative error = 9.565579404570373e-5\n",
      " Relative error = 9.485586912906678e-5\n",
      " Entering displacemtent step67 :2.3450000000000013e-6\n",
      " Relative error = 9.398472337657034e-5\n",
      " Relative error = 0.00038048721815568215\n",
      " Relative error = 0.0001213722466873364\n",
      " Relative error = 0.00011048786652851713\n",
      " Relative error = 0.00010841600459575401\n",
      " Relative error = 0.00010767988756132844\n",
      " Relative error = 0.00010706741421242368\n",
      " Relative error = 0.00010644066660106421\n",
      " Relative error = 0.00010592022282597564\n",
      " Relative error = 0.00010546675571135799\n",
      " Entering displacemtent step68 :2.3800000000000014e-6\n",
      " Relative error = 0.00010514192526271711\n",
      " Relative error = 0.0003692464416793641\n",
      " Relative error = 0.0001325251378822011\n",
      " Relative error = 0.00012120721385943376\n",
      " Relative error = 0.00011910602305913324\n",
      " Relative error = 0.00011821095186452043\n",
      " Relative error = 0.00011763505687564182\n",
      " Relative error = 0.00011703151546220158\n",
      " Relative error = 0.00011648087719964056\n",
      " Relative error = 0.00011593883825431417\n",
      " Entering displacemtent step69 :2.4150000000000014e-6\n",
      " Relative error = 0.00011536501386613315\n",
      " Relative error = 0.00035557274581059516\n",
      " Relative error = 0.00014391060636438285\n",
      " Relative error = 0.00013246177866484284\n",
      " Relative error = 0.0001303479971541578\n",
      " Relative error = 0.00012931018582507906\n",
      " Relative error = 0.00012844218386805697\n",
      " Relative error = 0.00012765943507408236\n",
      " Relative error = 0.00012689369449230356\n",
      " Relative error = 0.0001262049834258502\n",
      " Entering displacemtent step70 :2.4500000000000015e-6\n",
      " Relative error = 0.00012560876235854433\n",
      " Relative error = 0.0003422535831581822\n",
      " Relative error = 0.0001548249667709714\n",
      " Relative error = 0.00014299763993424493\n",
      " Relative error = 0.00014051835639922292\n",
      " Relative error = 0.00013926643343347518\n",
      " Relative error = 0.00013825626464536526\n",
      " Relative error = 0.00013735822462460515\n",
      " Relative error = 0.00013652118022901483\n",
      " Relative error = 0.00013573213838833848\n",
      " Entering displacemtent step71 :2.485000000000001e-6\n",
      " Relative error = 0.0001350123556767934\n",
      " Relative error = 0.000326242918714734\n",
      " Relative error = 0.00016475815869787554\n",
      " Relative error = 0.00015248714330379687\n",
      " Relative error = 0.0001498671950179339\n",
      " Relative error = 0.00014853044296207803\n",
      " Relative error = 0.00014748629027496238\n",
      " Relative error = 0.000146548480488117\n",
      " Relative error = 0.0001456775663871338\n",
      " Relative error = 0.00014479647963010556\n",
      " Entering displacemtent step72 :2.5200000000000013e-6\n",
      " Relative error = 0.0001439669381466887\n",
      " Relative error = 0.0003118060867163701\n",
      " Relative error = 0.0001738029266781415\n",
      " Relative error = 0.00016173467687049086\n",
      " Relative error = 0.00015918030555180527\n",
      " Relative error = 0.00015806972280350321\n",
      " Relative error = 0.0001571615157074116\n",
      " Relative error = 0.0001562554504624508\n",
      " Relative error = 0.00015533657073867982\n",
      " Relative error = 0.00015453147780014788\n",
      " Entering displacemtent step73 :2.5550000000000014e-6\n",
      " Relative error = 0.0001537946249063722\n",
      " Relative error = 0.0003019833916640679\n",
      " Relative error = 0.00018333494156970684\n",
      " Relative error = 0.00017200851571654566\n",
      " Relative error = 0.00016938626200470528\n",
      " Relative error = 0.00016795256003825166\n",
      " Relative error = 0.00016670264777300967\n",
      " Relative error = 0.00016552439681129092\n",
      " Relative error = 0.00016440800552767614\n",
      " Relative error = 0.00016341741672079672\n",
      " Entering displacemtent step74 :2.5900000000000015e-6\n",
      " Relative error = 0.00016251618182813716\n",
      " Relative error = 0.0002907933643246879\n",
      " Relative error = 0.000191068564110223\n",
      " Relative error = 0.00018071107778413285\n",
      " Relative error = 0.00017792226268937872\n",
      " Relative error = 0.00017616760861221493\n",
      " Relative error = 0.0001745867967494102\n",
      " Relative error = 0.00017334228872679247\n",
      " Relative error = 0.00017234139731440396\n",
      " Relative error = 0.0001713223407174344\n",
      " Entering displacemtent step75 :2.6250000000000015e-6\n",
      " Relative error = 0.00017035447734490937\n",
      " Relative error = 0.00027772090556863166\n",
      " Relative error = 0.0001977107297513412\n",
      " Relative error = 0.00018791723212185983\n",
      " Relative error = 0.00018527820951532863\n",
      " Relative error = 0.00018393371481476814\n",
      " Relative error = 0.00018272622322777334\n",
      " Relative error = 0.0001816077209929146\n",
      " Relative error = 0.0001806951508072124\n",
      " Relative error = 0.00017988086149660668\n",
      " Entering displacemtent step76 :2.6600000000000016e-6\n",
      " Relative error = 0.00017925721351068366\n",
      " Relative error = 0.00026941717595390074\n",
      " Relative error = 0.00020623208499771987\n",
      " Relative error = 0.00019823074206150765\n",
      " Relative error = 0.0001960656087148104\n",
      " Relative error = 0.0001949912684928807\n",
      " Relative error = 0.00019412231358520644\n",
      " Relative error = 0.00019346105158195314\n",
      " Relative error = 0.00019272092791677235\n",
      " Relative error = 0.00019217510213908224\n",
      " Entering displacemtent step77 :2.6950000000000017e-6\n",
      " Relative error = 0.00019187602169157757\n",
      " Relative error = 0.00026389074725514017\n",
      " Relative error = 0.00021897866116169583\n",
      " Relative error = 0.0002126413161792415\n",
      " Relative error = 0.00021140277461226433\n",
      " Relative error = 0.0002111219756988381\n",
      " Relative error = 0.00021130723211125818\n",
      " Relative error = 0.00021210251309741914\n",
      " Relative error = 0.00021287218312737878\n",
      " Relative error = 0.00021416894297436717\n",
      " Entering displacemtent step78 :2.730000000000002e-6\n",
      " Relative error = 0.00021579874752305676\n",
      " Relative error = 0.00027262672209918594\n",
      " Relative error = 0.000246985434476914\n",
      " Relative error = 0.00024579829561214553\n",
      " Relative error = 0.000248920689081539\n",
      " Relative error = 0.00025339778191378235\n",
      " Relative error = 0.00025966237455114175\n",
      " Relative error = 0.0002671126476856317\n",
      " Relative error = 0.0002770380808060922\n",
      " Relative error = 0.00028984068104290694\n",
      " Entering displacemtent step79 :2.7650000000000015e-6\n",
      " Relative error = 0.0003056932051802068\n",
      " Relative error = 0.0003627400753355621\n",
      " Relative error = 0.0003847215836895586\n",
      " Relative error = 0.0004261475225105213\n",
      " Relative error = 0.0004814554898789528\n",
      " Relative error = 0.0005253741765598184\n",
      " Relative error = 0.0004138345344883198\n",
      " Relative error = 8.705560232949887e-5\n",
      " Relative error = 4.406534882658062e-6\n",
      " Relative error = 3.616100777299599e-7\n",
      " Entering displacemtent step80 :2.8000000000000016e-6\n",
      " Relative error = 3.2298892641659846e-8\n",
      " Relative error = 6.968079404560839e-8\n",
      " Relative error = 4.25688336452868e-9\n",
      " Entering displacemtent step81 :2.8350000000000017e-6\n",
      " Relative error = 1.3050160940616347e-9\n",
      " Entering displacemtent step82 :2.8700000000000017e-6\n",
      " Relative error = 6.296761814414874e-8\n",
      " Relative error = 6.298273527887708e-8\n",
      " Relative error = 1.367020992315692e-9\n",
      " Entering displacemtent step83 :2.905000000000002e-6\n",
      " Relative error = 1.078366804571269e-10\n",
      " Entering displacemtent step84 :2.940000000000002e-6\n",
      " Relative error = 6.031270133746504e-8\n",
      " Relative error = 6.22252277699919e-8\n",
      " Relative error = 8.111342772042798e-10\n",
      " Entering displacemtent step85 :2.975000000000002e-6\n",
      " Relative error = 6.09321119196723e-11\n",
      " Entering displacemtent step86 :3.0100000000000017e-6\n",
      " Relative error = 6.27245428521816e-8\n",
      " Relative error = 6.321368120812937e-8\n",
      " Relative error = 2.836112792533285e-10\n",
      " Entering displacemtent step87 :3.0450000000000018e-6\n",
      " Relative error = 3.6995360928675523e-11\n",
      " Entering displacemtent step88 :3.080000000000002e-6\n",
      " Relative error = 6.162480286454937e-8\n",
      " Relative error = 6.079381776789093e-8\n",
      " Relative error = 2.0737425906989437e-10\n",
      " Entering displacemtent step89 :3.115000000000002e-6\n",
      " Relative error = 3.666225685816377e-11\n",
      " Entering displacemtent step90 :3.150000000000002e-6\n",
      " Relative error = 5.9295713668853044e-8\n",
      " Relative error = 5.7926123458282314e-8\n",
      " Relative error = 2.1503393395819382e-10\n",
      " Entering displacemtent step91 :3.185000000000002e-6\n",
      " Relative error = 2.919424510391372e-11\n",
      " Entering displacemtent step92 :3.220000000000002e-6\n",
      " Relative error = 5.578835768235431e-8\n",
      " Relative error = 5.4151462988306675e-8\n",
      " Relative error = 1.9450004293997011e-10\n",
      " Entering displacemtent step93 :3.255000000000002e-6\n",
      " Relative error = 2.1183750088130014e-11\n",
      " Entering displacemtent step94 :3.290000000000002e-6\n",
      " Relative error = 5.218881402036863e-8\n",
      " Relative error = 5.069483148177477e-8\n",
      " Relative error = 1.792861034219578e-10\n",
      " Entering displacemtent step95 :3.325000000000002e-6\n",
      " Relative error = 1.6836925442928233e-11\n",
      " Entering displacemtent step96 :3.360000000000002e-6\n",
      " Relative error = 4.8891883153102e-8\n",
      " Relative error = 4.752751813907576e-8\n",
      " Relative error = 1.687868807001653e-10\n",
      " Entering displacemtent step97 :3.3950000000000022e-6\n",
      " Relative error = 1.4598614752176975e-11\n",
      " Entering displacemtent step98 :3.4300000000000023e-6\n",
      " Relative error = 4.586508914953722e-8\n",
      " Relative error = 4.461923036620575e-8\n",
      " Relative error = 1.610024921039998e-10\n",
      " Entering displacemtent step99 :3.4650000000000024e-6\n",
      " Relative error = 1.3161218706483083e-11\n",
      " Entering displacemtent step100 :3.5000000000000025e-6\n",
      " Relative error = 4.3082236806694655e-8\n",
      " Relative error = 4.194367420343109e-8\n",
      " Relative error = 1.5503838855468213e-10"
     ]
    }
   ],
   "source": [
    "t = 0.0\n",
    "innerMax = 10\n",
    "count = 0\n",
    "tol = 1e-8\n",
    "\n",
    "Load = Float64[]\n",
    "Displacement = Float64[]\n",
    "\n",
    "push!(Load, 0.0)\n",
    "push!(Displacement, 0.0)\n",
    "\n",
    "\n",
    "ψPlusPrev = CellState(0.0,dΩ) \n",
    "sPrev = CellState(1.0,dΩ)\n",
    "sh = project(sPrev,model,dΩ,order)\n",
    "ThPrev = CellState(T0,dΩ)\n",
    "Th = project(ThPrev,model,dΩ,order)\n",
    "ϕPrev = CellState(0.0,dΩ)\n",
    "ϕh = project(ϕPrev,model,dΩ,order)\n",
    "\n",
    "\n",
    "while t .< tMax \n",
    "    count = count .+ 1      \n",
    "    t = t + delt\n",
    "    vApp = AppVel*t    \n",
    "    TApp = TAppVec[count]\n",
    "    phiApp = ϕAppVec[count]\n",
    "    \n",
    "    \n",
    "    print(\"\\n Entering displacemtent step$count :\", float(vApp))\n",
    "    \n",
    "   for inner = 1:innerMax   \n",
    "        \n",
    "        ψhPlusPrev = project(ψPlusPrev,model,dΩ,order)\n",
    "        \n",
    "        RelErr = abs(sum(∫( Gc*lsp*∇(sh)⋅ ∇(sh) + 2*ψhPlusPrev*sh*sh  + (Gc/lsp)*sh*sh)*dΩ - ∫( (Gc/lsp)*sh)*dΩ))/abs(sum(∫( (Gc/lsp)*sh)*dΩ))\n",
    "        print(\"\\n Relative error = \",float(RelErr))\n",
    "        \n",
    "        sh = stepPhaseField(uh,ψhPlusPrev) \n",
    "        uh,ϕh,Th = stepDispElecPotTemp(uh,ϕh,Th,sh,vApp,phiApp,TApp,delt)\n",
    "        \n",
    "        ψhPos_in = ψPos∘(ε(uh),Th,∇(ϕh))      \n",
    "        \n",
    "        update_state!(new_EnergyState,ψPlusPrev,ψhPos_in)\n",
    "  \n",
    "        if RelErr < 1e-8\n",
    "            break \n",
    "        end      \n",
    "    end\n",
    "    \n",
    "    Node_Force = sum(∫( n_Γ_Load ⋅ (σ_elasMod∘(ε(uh),Th,ε(uh),sh,Th)) ) *dΓ_Load + ∫( n_Γ_Load ⋅ (σ_piezoMod∘(∇(ϕh),sh) ) )  *dΓ_Load)\n",
    "    \n",
    "    push!(Load, Node_Force[2])\n",
    "    push!(Displacement, vApp)\n",
    "    if mod(count,2) == 0\n",
    "         writevtk(Ω,\"results_NotchedPlate_0_$count\",cellfields=\n",
    "        [\"uh\"=>uh,\"s\"=>sh ,\"phi\"=>ϕh, \"epsi\"=>ε(uh),\"T\" => Th])\n",
    "    end\n",
    "end"
   ]
  },
  {
   "cell_type": "code",
   "execution_count": 44,
   "id": "disabled-stone",
   "metadata": {},
   "outputs": [
    {
     "data": {
      "text/plain": [
       "([\"results_NotchedPlate_0_100.vtu\"],)"
      ]
     },
     "execution_count": 44,
     "metadata": {},
     "output_type": "execute_result"
    }
   ],
   "source": [
    " writevtk(Ω,\"results_NotchedPlate_0_$count\",cellfields=\n",
    "        [\"uh\"=>uh,\"s\"=>sh ,\"phi\"=>ϕh, \"epsi\"=>ε(uh)])"
   ]
  },
  {
   "cell_type": "code",
   "execution_count": 45,
   "id": "colonial-infection",
   "metadata": {
    "scrolled": false
   },
   "outputs": [
    {
     "data": {
      "image/svg+xml": [
       "<?xml version=\"1.0\" encoding=\"utf-8\"?>\n",
       "<svg xmlns=\"http://www.w3.org/2000/svg\" xmlns:xlink=\"http://www.w3.org/1999/xlink\" width=\"600\" height=\"400\" viewBox=\"0 0 2400 1600\">\n",
       "<defs>\n",
       "  <clipPath id=\"clip340\">\n",
       "    <rect x=\"0\" y=\"0\" width=\"2400\" height=\"1600\"/>\n",
       "  </clipPath>\n",
       "</defs>\n",
       "<path clip-path=\"url(#clip340)\" d=\"\n",
       "M0 1600 L2400 1600 L2400 0 L0 0  Z\n",
       "  \" fill=\"#ffffff\" fill-rule=\"evenodd\" fill-opacity=\"1\"/>\n",
       "<defs>\n",
       "  <clipPath id=\"clip341\">\n",
       "    <rect x=\"480\" y=\"0\" width=\"1681\" height=\"1600\"/>\n",
       "  </clipPath>\n",
       "</defs>\n",
       "<path clip-path=\"url(#clip340)\" d=\"\n",
       "M169.121 1474.16 L2352.76 1474.16 L2352.76 47.2441 L169.121 47.2441  Z\n",
       "  \" fill=\"#ffffff\" fill-rule=\"evenodd\" fill-opacity=\"1\"/>\n",
       "<defs>\n",
       "  <clipPath id=\"clip342\">\n",
       "    <rect x=\"169\" y=\"47\" width=\"2185\" height=\"1428\"/>\n",
       "  </clipPath>\n",
       "</defs>\n",
       "<polyline clip-path=\"url(#clip342)\" style=\"stroke:#000000; stroke-linecap:round; stroke-linejoin:round; stroke-width:2; stroke-opacity:0.1; fill:none\" points=\"\n",
       "  230.922,1474.16 230.922,47.2441 \n",
       "  \"/>\n",
       "<polyline clip-path=\"url(#clip342)\" style=\"stroke:#000000; stroke-linecap:round; stroke-linejoin:round; stroke-width:2; stroke-opacity:0.1; fill:none\" points=\"\n",
       "  819.503,1474.16 819.503,47.2441 \n",
       "  \"/>\n",
       "<polyline clip-path=\"url(#clip342)\" style=\"stroke:#000000; stroke-linecap:round; stroke-linejoin:round; stroke-width:2; stroke-opacity:0.1; fill:none\" points=\"\n",
       "  1408.08,1474.16 1408.08,47.2441 \n",
       "  \"/>\n",
       "<polyline clip-path=\"url(#clip342)\" style=\"stroke:#000000; stroke-linecap:round; stroke-linejoin:round; stroke-width:2; stroke-opacity:0.1; fill:none\" points=\"\n",
       "  1996.66,1474.16 1996.66,47.2441 \n",
       "  \"/>\n",
       "<polyline clip-path=\"url(#clip340)\" style=\"stroke:#000000; stroke-linecap:round; stroke-linejoin:round; stroke-width:4; stroke-opacity:1; fill:none\" points=\"\n",
       "  169.121,1474.16 2352.76,1474.16 \n",
       "  \"/>\n",
       "<polyline clip-path=\"url(#clip340)\" style=\"stroke:#000000; stroke-linecap:round; stroke-linejoin:round; stroke-width:4; stroke-opacity:1; fill:none\" points=\"\n",
       "  230.922,1474.16 230.922,1455.27 \n",
       "  \"/>\n",
       "<polyline clip-path=\"url(#clip340)\" style=\"stroke:#000000; stroke-linecap:round; stroke-linejoin:round; stroke-width:4; stroke-opacity:1; fill:none\" points=\"\n",
       "  819.503,1474.16 819.503,1455.27 \n",
       "  \"/>\n",
       "<polyline clip-path=\"url(#clip340)\" style=\"stroke:#000000; stroke-linecap:round; stroke-linejoin:round; stroke-width:4; stroke-opacity:1; fill:none\" points=\"\n",
       "  1408.08,1474.16 1408.08,1455.27 \n",
       "  \"/>\n",
       "<polyline clip-path=\"url(#clip340)\" style=\"stroke:#000000; stroke-linecap:round; stroke-linejoin:round; stroke-width:4; stroke-opacity:1; fill:none\" points=\"\n",
       "  1996.66,1474.16 1996.66,1455.27 \n",
       "  \"/>\n",
       "<path clip-path=\"url(#clip340)\" d=\"M230.922 1505.08 Q227.311 1505.08 225.483 1508.65 Q223.677 1512.19 223.677 1519.32 Q223.677 1526.43 225.483 1529.99 Q227.311 1533.53 230.922 1533.53 Q234.557 1533.53 236.362 1529.99 Q238.191 1526.43 238.191 1519.32 Q238.191 1512.19 236.362 1508.65 Q234.557 1505.08 230.922 1505.08 M230.922 1501.38 Q236.732 1501.38 239.788 1505.99 Q242.867 1510.57 242.867 1519.32 Q242.867 1528.05 239.788 1532.65 Q236.732 1537.24 230.922 1537.24 Q225.112 1537.24 222.033 1532.65 Q218.978 1528.05 218.978 1519.32 Q218.978 1510.57 222.033 1505.99 Q225.112 1501.38 230.922 1501.38 Z\" fill=\"#000000\" fill-rule=\"evenodd\" fill-opacity=\"1\" /><path clip-path=\"url(#clip340)\" d=\"M711.497 1548.29 L719.135 1548.29 L719.135 1521.92 L710.825 1523.59 L710.825 1519.33 L719.089 1517.66 L723.765 1517.66 L723.765 1548.29 L731.404 1548.29 L731.404 1552.22 L711.497 1552.22 L711.497 1548.29 Z\" fill=\"#000000\" fill-rule=\"evenodd\" fill-opacity=\"1\" /><path clip-path=\"url(#clip340)\" d=\"M740.848 1546.35 L745.732 1546.35 L745.732 1552.22 L740.848 1552.22 L740.848 1546.35 Z\" fill=\"#000000\" fill-rule=\"evenodd\" fill-opacity=\"1\" /><path clip-path=\"url(#clip340)\" d=\"M765.918 1520.74 Q762.306 1520.74 760.478 1524.31 Q758.672 1527.85 758.672 1534.98 Q758.672 1542.09 760.478 1545.65 Q762.306 1549.19 765.918 1549.19 Q769.552 1549.19 771.357 1545.65 Q773.186 1542.09 773.186 1534.98 Q773.186 1527.85 771.357 1524.31 Q769.552 1520.74 765.918 1520.74 M765.918 1517.04 Q771.728 1517.04 774.783 1521.65 Q777.862 1526.23 777.862 1534.98 Q777.862 1543.71 774.783 1548.31 Q771.728 1552.9 765.918 1552.9 Q760.107 1552.9 757.029 1548.31 Q753.973 1543.71 753.973 1534.98 Q753.973 1526.23 757.029 1521.65 Q760.107 1517.04 765.918 1517.04 Z\" fill=\"#000000\" fill-rule=\"evenodd\" fill-opacity=\"1\" /><path clip-path=\"url(#clip340)\" d=\"M814.251 1526.76 L803.672 1537.39 L814.251 1547.97 L811.496 1550.77 L800.871 1540.14 L790.246 1550.77 L787.515 1547.97 L798.07 1537.39 L787.515 1526.76 L790.246 1523.96 L800.871 1534.59 L811.496 1523.96 L814.251 1526.76 Z\" fill=\"#000000\" fill-rule=\"evenodd\" fill-opacity=\"1\" /><path clip-path=\"url(#clip340)\" d=\"M826.612 1548.29 L834.251 1548.29 L834.251 1521.92 L825.94 1523.59 L825.94 1519.33 L834.204 1517.66 L838.88 1517.66 L838.88 1548.29 L846.519 1548.29 L846.519 1552.22 L826.612 1552.22 L826.612 1548.29 Z\" fill=\"#000000\" fill-rule=\"evenodd\" fill-opacity=\"1\" /><path clip-path=\"url(#clip340)\" d=\"M865.963 1520.74 Q862.352 1520.74 860.524 1524.31 Q858.718 1527.85 858.718 1534.98 Q858.718 1542.09 860.524 1545.65 Q862.352 1549.19 865.963 1549.19 Q869.598 1549.19 871.403 1545.65 Q873.232 1542.09 873.232 1534.98 Q873.232 1527.85 871.403 1524.31 Q869.598 1520.74 865.963 1520.74 M865.963 1517.04 Q871.773 1517.04 874.829 1521.65 Q877.908 1526.23 877.908 1534.98 Q877.908 1543.71 874.829 1548.31 Q871.773 1552.9 865.963 1552.9 Q860.153 1552.9 857.074 1548.31 Q854.019 1543.71 854.019 1534.98 Q854.019 1526.23 857.074 1521.65 Q860.153 1517.04 865.963 1517.04 Z\" fill=\"#000000\" fill-rule=\"evenodd\" fill-opacity=\"1\" /><path clip-path=\"url(#clip340)\" d=\"M877.908 1511.14 L902.019 1511.14 L902.019 1514.34 L877.908 1514.34 L877.908 1511.14 Z\" fill=\"#000000\" fill-rule=\"evenodd\" fill-opacity=\"1\" /><path clip-path=\"url(#clip340)\" d=\"M918.815 1509.26 Q916.257 1509.26 914.752 1511.01 Q913.266 1512.76 913.266 1515.81 Q913.266 1518.83 914.752 1520.6 Q916.257 1522.35 918.815 1522.35 Q921.372 1522.35 922.858 1520.6 Q924.363 1518.83 924.363 1515.81 Q924.363 1512.76 922.858 1511.01 Q921.372 1509.26 918.815 1509.26 M926.356 1497.35 L926.356 1500.82 Q924.927 1500.14 923.46 1499.78 Q922.012 1499.42 920.583 1499.42 Q916.821 1499.42 914.827 1501.96 Q912.853 1504.5 912.57 1509.64 Q913.68 1508 915.354 1507.13 Q917.028 1506.25 919.04 1506.25 Q923.272 1506.25 925.717 1508.83 Q928.181 1511.39 928.181 1515.81 Q928.181 1520.13 925.623 1522.75 Q923.065 1525.36 918.815 1525.36 Q913.943 1525.36 911.367 1521.64 Q908.79 1517.89 908.79 1510.8 Q908.79 1504.14 911.95 1500.19 Q915.109 1496.23 920.432 1496.23 Q921.861 1496.23 923.31 1496.51 Q924.777 1496.79 926.356 1497.35 Z\" fill=\"#000000\" fill-rule=\"evenodd\" fill-opacity=\"1\" /><path clip-path=\"url(#clip340)\" d=\"M1304.16 1548.29 L1320.48 1548.29 L1320.48 1552.22 L1298.54 1552.22 L1298.54 1548.29 Q1301.2 1545.53 1305.78 1540.91 Q1310.39 1536.25 1311.57 1534.91 Q1313.82 1532.39 1314.7 1530.65 Q1315.6 1528.89 1315.6 1527.2 Q1315.6 1524.45 1313.65 1522.71 Q1311.73 1520.97 1308.63 1520.97 Q1306.43 1520.97 1303.98 1521.74 Q1301.55 1522.5 1298.77 1524.05 L1298.77 1519.33 Q1301.59 1518.2 1304.05 1517.62 Q1306.5 1517.04 1308.54 1517.04 Q1313.91 1517.04 1317.1 1519.72 Q1320.3 1522.41 1320.3 1526.9 Q1320.3 1529.03 1319.49 1530.95 Q1318.7 1532.85 1316.59 1535.44 Q1316.01 1536.11 1312.91 1539.33 Q1309.81 1542.53 1304.16 1548.29 Z\" fill=\"#000000\" fill-rule=\"evenodd\" fill-opacity=\"1\" /><path clip-path=\"url(#clip340)\" d=\"M1330.3 1546.35 L1335.18 1546.35 L1335.18 1552.22 L1330.3 1552.22 L1330.3 1546.35 Z\" fill=\"#000000\" fill-rule=\"evenodd\" fill-opacity=\"1\" /><path clip-path=\"url(#clip340)\" d=\"M1355.37 1520.74 Q1351.76 1520.74 1349.93 1524.31 Q1348.12 1527.85 1348.12 1534.98 Q1348.12 1542.09 1349.93 1545.65 Q1351.76 1549.19 1355.37 1549.19 Q1359 1549.19 1360.81 1545.65 Q1362.63 1542.09 1362.63 1534.98 Q1362.63 1527.85 1360.81 1524.31 Q1359 1520.74 1355.37 1520.74 M1355.37 1517.04 Q1361.18 1517.04 1364.23 1521.65 Q1367.31 1526.23 1367.31 1534.98 Q1367.31 1543.71 1364.23 1548.31 Q1361.18 1552.9 1355.37 1552.9 Q1349.56 1552.9 1346.48 1548.31 Q1343.42 1543.71 1343.42 1534.98 Q1343.42 1526.23 1346.48 1521.65 Q1349.56 1517.04 1355.37 1517.04 Z\" fill=\"#000000\" fill-rule=\"evenodd\" fill-opacity=\"1\" /><path clip-path=\"url(#clip340)\" d=\"M1403.7 1526.76 L1393.12 1537.39 L1403.7 1547.97 L1400.94 1550.77 L1390.32 1540.14 L1379.69 1550.77 L1376.96 1547.97 L1387.52 1537.39 L1376.96 1526.76 L1379.69 1523.96 L1390.32 1534.59 L1400.94 1523.96 L1403.7 1526.76 Z\" fill=\"#000000\" fill-rule=\"evenodd\" fill-opacity=\"1\" /><path clip-path=\"url(#clip340)\" d=\"M1416.06 1548.29 L1423.7 1548.29 L1423.7 1521.92 L1415.39 1523.59 L1415.39 1519.33 L1423.65 1517.66 L1428.33 1517.66 L1428.33 1548.29 L1435.97 1548.29 L1435.97 1552.22 L1416.06 1552.22 L1416.06 1548.29 Z\" fill=\"#000000\" fill-rule=\"evenodd\" fill-opacity=\"1\" /><path clip-path=\"url(#clip340)\" d=\"M1455.41 1520.74 Q1451.8 1520.74 1449.97 1524.31 Q1448.17 1527.85 1448.17 1534.98 Q1448.17 1542.09 1449.97 1545.65 Q1451.8 1549.19 1455.41 1549.19 Q1459.05 1549.19 1460.85 1545.65 Q1462.68 1542.09 1462.68 1534.98 Q1462.68 1527.85 1460.85 1524.31 Q1459.05 1520.74 1455.41 1520.74 M1455.41 1517.04 Q1461.22 1517.04 1464.28 1521.65 Q1467.36 1526.23 1467.36 1534.98 Q1467.36 1543.71 1464.28 1548.31 Q1461.22 1552.9 1455.41 1552.9 Q1449.6 1552.9 1446.52 1548.31 Q1443.47 1543.71 1443.47 1534.98 Q1443.47 1526.23 1446.52 1521.65 Q1449.6 1517.04 1455.41 1517.04 Z\" fill=\"#000000\" fill-rule=\"evenodd\" fill-opacity=\"1\" /><path clip-path=\"url(#clip340)\" d=\"M1467.36 1511.14 L1491.47 1511.14 L1491.47 1514.34 L1467.36 1514.34 L1467.36 1511.14 Z\" fill=\"#000000\" fill-rule=\"evenodd\" fill-opacity=\"1\" /><path clip-path=\"url(#clip340)\" d=\"M1508.26 1509.26 Q1505.71 1509.26 1504.2 1511.01 Q1502.72 1512.76 1502.72 1515.81 Q1502.72 1518.83 1504.2 1520.6 Q1505.71 1522.35 1508.26 1522.35 Q1510.82 1522.35 1512.31 1520.6 Q1513.81 1518.83 1513.81 1515.81 Q1513.81 1512.76 1512.31 1511.01 Q1510.82 1509.26 1508.26 1509.26 M1515.81 1497.35 L1515.81 1500.82 Q1514.38 1500.14 1512.91 1499.78 Q1511.46 1499.42 1510.03 1499.42 Q1506.27 1499.42 1504.28 1501.96 Q1502.3 1504.5 1502.02 1509.64 Q1503.13 1508 1504.8 1507.13 Q1506.48 1506.25 1508.49 1506.25 Q1512.72 1506.25 1515.17 1508.83 Q1517.63 1511.39 1517.63 1515.81 Q1517.63 1520.13 1515.07 1522.75 Q1512.51 1525.36 1508.26 1525.36 Q1503.39 1525.36 1500.82 1521.64 Q1498.24 1517.89 1498.24 1510.8 Q1498.24 1504.14 1501.4 1500.19 Q1504.56 1496.23 1509.88 1496.23 Q1511.31 1496.23 1512.76 1496.51 Q1514.23 1496.79 1515.81 1497.35 Z\" fill=\"#000000\" fill-rule=\"evenodd\" fill-opacity=\"1\" /><path clip-path=\"url(#clip340)\" d=\"M1902.81 1533.59 Q1906.17 1534.31 1908.04 1536.58 Q1909.94 1538.85 1909.94 1542.18 Q1909.94 1547.29 1906.42 1550.1 Q1902.91 1552.9 1896.42 1552.9 Q1894.25 1552.9 1891.93 1552.46 Q1889.64 1552.04 1887.19 1551.18 L1887.19 1546.67 Q1889.13 1547.8 1891.45 1548.38 Q1893.76 1548.96 1896.29 1548.96 Q1900.68 1548.96 1902.98 1547.22 Q1905.29 1545.49 1905.29 1542.18 Q1905.29 1539.12 1903.14 1537.41 Q1901.01 1535.67 1897.19 1535.67 L1893.16 1535.67 L1893.16 1531.83 L1897.37 1531.83 Q1900.82 1531.83 1902.65 1530.47 Q1904.48 1529.08 1904.48 1526.48 Q1904.48 1523.82 1902.58 1522.41 Q1900.71 1520.97 1897.19 1520.97 Q1895.27 1520.97 1893.07 1521.39 Q1890.87 1521.81 1888.23 1522.69 L1888.23 1518.52 Q1890.89 1517.78 1893.21 1517.41 Q1895.54 1517.04 1897.6 1517.04 Q1902.93 1517.04 1906.03 1519.47 Q1909.13 1521.88 1909.13 1526 Q1909.13 1528.87 1907.49 1530.86 Q1905.85 1532.83 1902.81 1533.59 Z\" fill=\"#000000\" fill-rule=\"evenodd\" fill-opacity=\"1\" /><path clip-path=\"url(#clip340)\" d=\"M1918.81 1546.35 L1923.69 1546.35 L1923.69 1552.22 L1918.81 1552.22 L1918.81 1546.35 Z\" fill=\"#000000\" fill-rule=\"evenodd\" fill-opacity=\"1\" /><path clip-path=\"url(#clip340)\" d=\"M1943.88 1520.74 Q1940.27 1520.74 1938.44 1524.31 Q1936.63 1527.85 1936.63 1534.98 Q1936.63 1542.09 1938.44 1545.65 Q1940.27 1549.19 1943.88 1549.19 Q1947.51 1549.19 1949.32 1545.65 Q1951.15 1542.09 1951.15 1534.98 Q1951.15 1527.85 1949.32 1524.31 Q1947.51 1520.74 1943.88 1520.74 M1943.88 1517.04 Q1949.69 1517.04 1952.74 1521.65 Q1955.82 1526.23 1955.82 1534.98 Q1955.82 1543.71 1952.74 1548.31 Q1949.69 1552.9 1943.88 1552.9 Q1938.07 1552.9 1934.99 1548.31 Q1931.93 1543.71 1931.93 1534.98 Q1931.93 1526.23 1934.99 1521.65 Q1938.07 1517.04 1943.88 1517.04 Z\" fill=\"#000000\" fill-rule=\"evenodd\" fill-opacity=\"1\" /><path clip-path=\"url(#clip340)\" d=\"M1992.21 1526.76 L1981.63 1537.39 L1992.21 1547.97 L1989.46 1550.77 L1978.83 1540.14 L1968.21 1550.77 L1965.47 1547.97 L1976.03 1537.39 L1965.47 1526.76 L1968.21 1523.96 L1978.83 1534.59 L1989.46 1523.96 L1992.21 1526.76 Z\" fill=\"#000000\" fill-rule=\"evenodd\" fill-opacity=\"1\" /><path clip-path=\"url(#clip340)\" d=\"M2004.57 1548.29 L2012.21 1548.29 L2012.21 1521.92 L2003.9 1523.59 L2003.9 1519.33 L2012.16 1517.66 L2016.84 1517.66 L2016.84 1548.29 L2024.48 1548.29 L2024.48 1552.22 L2004.57 1552.22 L2004.57 1548.29 Z\" fill=\"#000000\" fill-rule=\"evenodd\" fill-opacity=\"1\" /><path clip-path=\"url(#clip340)\" d=\"M2043.92 1520.74 Q2040.31 1520.74 2038.48 1524.31 Q2036.68 1527.85 2036.68 1534.98 Q2036.68 1542.09 2038.48 1545.65 Q2040.31 1549.19 2043.92 1549.19 Q2047.56 1549.19 2049.36 1545.65 Q2051.19 1542.09 2051.19 1534.98 Q2051.19 1527.85 2049.36 1524.31 Q2047.56 1520.74 2043.92 1520.74 M2043.92 1517.04 Q2049.73 1517.04 2052.79 1521.65 Q2055.87 1526.23 2055.87 1534.98 Q2055.87 1543.71 2052.79 1548.31 Q2049.73 1552.9 2043.92 1552.9 Q2038.11 1552.9 2035.03 1548.31 Q2031.98 1543.71 2031.98 1534.98 Q2031.98 1526.23 2035.03 1521.65 Q2038.11 1517.04 2043.92 1517.04 Z\" fill=\"#000000\" fill-rule=\"evenodd\" fill-opacity=\"1\" /><path clip-path=\"url(#clip340)\" d=\"M2055.87 1511.14 L2079.98 1511.14 L2079.98 1514.34 L2055.87 1514.34 L2055.87 1511.14 Z\" fill=\"#000000\" fill-rule=\"evenodd\" fill-opacity=\"1\" /><path clip-path=\"url(#clip340)\" d=\"M2096.77 1509.26 Q2094.22 1509.26 2092.71 1511.01 Q2091.23 1512.76 2091.23 1515.81 Q2091.23 1518.83 2092.71 1520.6 Q2094.22 1522.35 2096.77 1522.35 Q2099.33 1522.35 2100.82 1520.6 Q2102.32 1518.83 2102.32 1515.81 Q2102.32 1512.76 2100.82 1511.01 Q2099.33 1509.26 2096.77 1509.26 M2104.32 1497.35 L2104.32 1500.82 Q2102.89 1500.14 2101.42 1499.78 Q2099.97 1499.42 2098.54 1499.42 Q2094.78 1499.42 2092.79 1501.96 Q2090.81 1504.5 2090.53 1509.64 Q2091.64 1508 2093.31 1507.13 Q2094.99 1506.25 2097 1506.25 Q2101.23 1506.25 2103.68 1508.83 Q2106.14 1511.39 2106.14 1515.81 Q2106.14 1520.13 2103.58 1522.75 Q2101.03 1525.36 2096.77 1525.36 Q2091.9 1525.36 2089.33 1521.64 Q2086.75 1517.89 2086.75 1510.8 Q2086.75 1504.14 2089.91 1500.19 Q2093.07 1496.23 2098.39 1496.23 Q2099.82 1496.23 2101.27 1496.51 Q2102.74 1496.79 2104.32 1497.35 Z\" fill=\"#000000\" fill-rule=\"evenodd\" fill-opacity=\"1\" /><polyline clip-path=\"url(#clip342)\" style=\"stroke:#000000; stroke-linecap:round; stroke-linejoin:round; stroke-width:2; stroke-opacity:0.1; fill:none\" points=\"\n",
       "  169.121,1432.13 2352.76,1432.13 \n",
       "  \"/>\n",
       "<polyline clip-path=\"url(#clip342)\" style=\"stroke:#000000; stroke-linecap:round; stroke-linejoin:round; stroke-width:2; stroke-opacity:0.1; fill:none\" points=\"\n",
       "  169.121,982.136 2352.76,982.136 \n",
       "  \"/>\n",
       "<polyline clip-path=\"url(#clip342)\" style=\"stroke:#000000; stroke-linecap:round; stroke-linejoin:round; stroke-width:2; stroke-opacity:0.1; fill:none\" points=\"\n",
       "  169.121,532.147 2352.76,532.147 \n",
       "  \"/>\n",
       "<polyline clip-path=\"url(#clip342)\" style=\"stroke:#000000; stroke-linecap:round; stroke-linejoin:round; stroke-width:2; stroke-opacity:0.1; fill:none\" points=\"\n",
       "  169.121,82.1567 2352.76,82.1567 \n",
       "  \"/>\n",
       "<polyline clip-path=\"url(#clip340)\" style=\"stroke:#000000; stroke-linecap:round; stroke-linejoin:round; stroke-width:4; stroke-opacity:1; fill:none\" points=\"\n",
       "  169.121,1474.16 169.121,47.2441 \n",
       "  \"/>\n",
       "<polyline clip-path=\"url(#clip340)\" style=\"stroke:#000000; stroke-linecap:round; stroke-linejoin:round; stroke-width:4; stroke-opacity:1; fill:none\" points=\"\n",
       "  169.121,1432.13 188.019,1432.13 \n",
       "  \"/>\n",
       "<polyline clip-path=\"url(#clip340)\" style=\"stroke:#000000; stroke-linecap:round; stroke-linejoin:round; stroke-width:4; stroke-opacity:1; fill:none\" points=\"\n",
       "  169.121,982.136 188.019,982.136 \n",
       "  \"/>\n",
       "<polyline clip-path=\"url(#clip340)\" style=\"stroke:#000000; stroke-linecap:round; stroke-linejoin:round; stroke-width:4; stroke-opacity:1; fill:none\" points=\"\n",
       "  169.121,532.147 188.019,532.147 \n",
       "  \"/>\n",
       "<polyline clip-path=\"url(#clip340)\" style=\"stroke:#000000; stroke-linecap:round; stroke-linejoin:round; stroke-width:4; stroke-opacity:1; fill:none\" points=\"\n",
       "  169.121,82.1567 188.019,82.1567 \n",
       "  \"/>\n",
       "<path clip-path=\"url(#clip340)\" d=\"M121.177 1417.92 Q117.566 1417.92 115.737 1421.49 Q113.932 1425.03 113.932 1432.16 Q113.932 1439.27 115.737 1442.83 Q117.566 1446.37 121.177 1446.37 Q124.811 1446.37 126.617 1442.83 Q128.445 1439.27 128.445 1432.16 Q128.445 1425.03 126.617 1421.49 Q124.811 1417.92 121.177 1417.92 M121.177 1414.22 Q126.987 1414.22 130.043 1418.83 Q133.121 1423.41 133.121 1432.16 Q133.121 1440.89 130.043 1445.49 Q126.987 1450.08 121.177 1450.08 Q115.367 1450.08 112.288 1445.49 Q109.233 1440.89 109.233 1432.16 Q109.233 1423.41 112.288 1418.83 Q115.367 1414.22 121.177 1414.22 Z\" fill=\"#000000\" fill-rule=\"evenodd\" fill-opacity=\"1\" /><path clip-path=\"url(#clip340)\" d=\"M81.0614 964.856 L99.4178 964.856 L99.4178 968.792 L85.3438 968.792 L85.3438 977.264 Q86.3623 976.917 87.3808 976.754 Q88.3993 976.569 89.4178 976.569 Q95.2049 976.569 98.5845 979.741 Q101.964 982.912 101.964 988.329 Q101.964 993.907 98.4919 997.009 Q95.0197 1000.09 88.7003 1000.09 Q86.5243 1000.09 84.2558 999.717 Q82.0105 999.347 79.6031 998.606 L79.6031 993.907 Q81.6864 995.041 83.9086 995.597 Q86.1308 996.153 88.6077 996.153 Q92.6123 996.153 94.9502 994.046 Q97.2882 991.94 97.2882 988.329 Q97.2882 984.717 94.9502 982.611 Q92.6123 980.504 88.6077 980.504 Q86.7327 980.504 84.8577 980.921 Q83.0058 981.338 81.0614 982.217 L81.0614 964.856 Z\" fill=\"#000000\" fill-rule=\"evenodd\" fill-opacity=\"1\" /><path clip-path=\"url(#clip340)\" d=\"M121.177 967.935 Q117.566 967.935 115.737 971.5 Q113.932 975.042 113.932 982.171 Q113.932 989.278 115.737 992.842 Q117.566 996.384 121.177 996.384 Q124.811 996.384 126.617 992.842 Q128.445 989.278 128.445 982.171 Q128.445 975.042 126.617 971.5 Q124.811 967.935 121.177 967.935 M121.177 964.231 Q126.987 964.231 130.043 968.838 Q133.121 973.421 133.121 982.171 Q133.121 990.898 130.043 995.504 Q126.987 1000.09 121.177 1000.09 Q115.367 1000.09 112.288 995.504 Q109.233 990.898 109.233 982.171 Q109.233 973.421 112.288 968.838 Q115.367 964.231 121.177 964.231 Z\" fill=\"#000000\" fill-rule=\"evenodd\" fill-opacity=\"1\" /><path clip-path=\"url(#clip340)\" d=\"M51.6634 545.491 L59.3023 545.491 L59.3023 519.126 L50.9921 520.792 L50.9921 516.533 L59.256 514.867 L63.9319 514.867 L63.9319 545.491 L71.5707 545.491 L71.5707 549.427 L51.6634 549.427 L51.6634 545.491 Z\" fill=\"#000000\" fill-rule=\"evenodd\" fill-opacity=\"1\" /><path clip-path=\"url(#clip340)\" d=\"M91.0151 517.945 Q87.404 517.945 85.5753 521.51 Q83.7697 525.052 83.7697 532.181 Q83.7697 539.288 85.5753 542.853 Q87.404 546.394 91.0151 546.394 Q94.6493 546.394 96.4548 542.853 Q98.2835 539.288 98.2835 532.181 Q98.2835 525.052 96.4548 521.51 Q94.6493 517.945 91.0151 517.945 M91.0151 514.242 Q96.8252 514.242 99.8808 518.848 Q102.959 523.431 102.959 532.181 Q102.959 540.908 99.8808 545.515 Q96.8252 550.098 91.0151 550.098 Q85.2049 550.098 82.1262 545.515 Q79.0707 540.908 79.0707 532.181 Q79.0707 523.431 82.1262 518.848 Q85.2049 514.242 91.0151 514.242 Z\" fill=\"#000000\" fill-rule=\"evenodd\" fill-opacity=\"1\" /><path clip-path=\"url(#clip340)\" d=\"M121.177 517.945 Q117.566 517.945 115.737 521.51 Q113.932 525.052 113.932 532.181 Q113.932 539.288 115.737 542.853 Q117.566 546.394 121.177 546.394 Q124.811 546.394 126.617 542.853 Q128.445 539.288 128.445 532.181 Q128.445 525.052 126.617 521.51 Q124.811 517.945 121.177 517.945 M121.177 514.242 Q126.987 514.242 130.043 518.848 Q133.121 523.431 133.121 532.181 Q133.121 540.908 130.043 545.515 Q126.987 550.098 121.177 550.098 Q115.367 550.098 112.288 545.515 Q109.233 540.908 109.233 532.181 Q109.233 523.431 112.288 518.848 Q115.367 514.242 121.177 514.242 Z\" fill=\"#000000\" fill-rule=\"evenodd\" fill-opacity=\"1\" /><path clip-path=\"url(#clip340)\" d=\"M51.6634 95.5015 L59.3023 95.5015 L59.3023 69.1359 L50.9921 70.8026 L50.9921 66.5434 L59.256 64.8767 L63.9319 64.8767 L63.9319 95.5015 L71.5707 95.5015 L71.5707 99.4367 L51.6634 99.4367 L51.6634 95.5015 Z\" fill=\"#000000\" fill-rule=\"evenodd\" fill-opacity=\"1\" /><path clip-path=\"url(#clip340)\" d=\"M81.0614 64.8767 L99.4178 64.8767 L99.4178 68.8119 L85.3438 68.8119 L85.3438 77.2841 Q86.3623 76.9368 87.3808 76.7748 Q88.3993 76.5896 89.4178 76.5896 Q95.2049 76.5896 98.5845 79.7609 Q101.964 82.9322 101.964 88.3488 Q101.964 93.9275 98.4919 97.0293 Q95.0197 100.108 88.7003 100.108 Q86.5243 100.108 84.2558 99.7376 Q82.0105 99.3673 79.6031 98.6265 L79.6031 93.9275 Q81.6864 95.0617 83.9086 95.6173 Q86.1308 96.1728 88.6077 96.1728 Q92.6123 96.1728 94.9502 94.0664 Q97.2882 91.9599 97.2882 88.3488 Q97.2882 84.7377 94.9502 82.6312 Q92.6123 80.5248 88.6077 80.5248 Q86.7327 80.5248 84.8577 80.9414 Q83.0058 81.3581 81.0614 82.2377 L81.0614 64.8767 Z\" fill=\"#000000\" fill-rule=\"evenodd\" fill-opacity=\"1\" /><path clip-path=\"url(#clip340)\" d=\"M121.177 67.9554 Q117.566 67.9554 115.737 71.5202 Q113.932 75.0618 113.932 82.1914 Q113.932 89.2979 115.737 92.8627 Q117.566 96.4043 121.177 96.4043 Q124.811 96.4043 126.617 92.8627 Q128.445 89.2979 128.445 82.1914 Q128.445 75.0618 126.617 71.5202 Q124.811 67.9554 121.177 67.9554 M121.177 64.2517 Q126.987 64.2517 130.043 68.8582 Q133.121 73.4415 133.121 82.1914 Q133.121 90.9182 130.043 95.5247 Q126.987 100.108 121.177 100.108 Q115.367 100.108 112.288 95.5247 Q109.233 90.9182 109.233 82.1914 Q109.233 73.4415 112.288 68.8582 Q115.367 64.2517 121.177 64.2517 Z\" fill=\"#000000\" fill-rule=\"evenodd\" fill-opacity=\"1\" /><polyline clip-path=\"url(#clip342)\" style=\"stroke:#009af9; stroke-linecap:round; stroke-linejoin:round; stroke-width:4; stroke-opacity:1; fill:none\" points=\"\n",
       "  230.922,1432.13 251.523,1411.74 272.123,1364.28 292.723,1318.9 313.324,1272.93 333.924,1228.14 354.524,1184.16 375.125,1161.74 395.725,1140.35 416.325,1117.97 \n",
       "  436.926,1096.74 457.526,1076.59 478.126,1054.62 498.727,1034.37 519.327,1014.29 539.927,994.479 560.528,974.934 581.128,955.64 601.728,936.563 622.328,917.666 \n",
       "  642.929,898.903 663.529,880.229 684.129,861.595 704.73,842.953 725.33,824.26 745.93,805.472 766.531,786.552 787.131,767.469 807.731,748.197 828.332,728.718 \n",
       "  848.932,709.022 869.532,689.104 890.133,668.966 910.733,648.618 931.333,628.074 951.934,607.352 972.534,586.473 993.134,564.774 1013.73,544.241 1034.34,523.086 \n",
       "  1054.94,500.704 1075.54,480.555 1096.14,457.873 1116.74,437.977 1137.34,415.103 1157.94,395.661 1178.54,372.681 1199.14,353.671 1219.74,330.652 1240.34,312.148 \n",
       "  1260.94,289.144 1281.54,271.206 1302.14,248.255 1322.74,230.974 1343.34,211.149 1363.94,191.59 1384.54,172.315 1405.14,153.384 1425.74,134.897 1446.34,117.062 \n",
       "  1466.94,100.442 1487.54,87.6286 1508.14,101.273 1528.74,127.96 1549.34,153.831 1569.94,183.637 1590.54,218.824 1611.14,259.763 1631.74,306.718 1652.34,359.696 \n",
       "  1672.95,418.347 1693.55,482.188 1714.15,551.598 1734.75,626.983 1755.35,707.752 1775.95,794.112 1796.55,888.527 1817.15,996.245 1837.75,1143.08 1858.35,1433.78 \n",
       "  1878.95,1433.26 1899.55,1433.12 1920.15,1432.78 1940.75,1432.69 1961.35,1432.48 1981.95,1432.42 2002.55,1432.29 2023.15,1432.26 2043.75,1432.18 2064.35,1432.16 \n",
       "  2084.95,1432.11 2105.55,1432.1 2126.15,1432.07 2146.75,1432.06 2167.35,1432.05 2187.95,1432.04 2208.55,1432.04 2229.15,1432.04 2249.75,1432.03 2270.35,1432.03 \n",
       "  2290.95,1432.03 \n",
       "  \"/>\n",
       "<path clip-path=\"url(#clip340)\" d=\"\n",
       "M2009.17 198.488 L2279.97 198.488 L2279.97 94.8081 L2009.17 94.8081  Z\n",
       "  \" fill=\"#ffffff\" fill-rule=\"evenodd\" fill-opacity=\"1\"/>\n",
       "<polyline clip-path=\"url(#clip340)\" style=\"stroke:#000000; stroke-linecap:round; stroke-linejoin:round; stroke-width:4; stroke-opacity:1; fill:none\" points=\"\n",
       "  2009.17,198.488 2279.97,198.488 2279.97,94.8081 2009.17,94.8081 2009.17,198.488 \n",
       "  \"/>\n",
       "<polyline clip-path=\"url(#clip340)\" style=\"stroke:#009af9; stroke-linecap:round; stroke-linejoin:round; stroke-width:4; stroke-opacity:1; fill:none\" points=\"\n",
       "  2033.44,146.648 2179.01,146.648 \n",
       "  \"/>\n",
       "<path clip-path=\"url(#clip340)\" d=\"M2217.12 166.336 Q2215.31 170.965 2213.6 172.377 Q2211.89 173.789 2209.02 173.789 L2205.61 173.789 L2205.61 170.224 L2208.11 170.224 Q2209.87 170.224 2210.84 169.391 Q2211.82 168.558 2213 165.456 L2213.76 163.511 L2203.28 138.002 L2207.79 138.002 L2215.89 158.28 L2223.99 138.002 L2228.51 138.002 L2217.12 166.336 Z\" fill=\"#000000\" fill-rule=\"evenodd\" fill-opacity=\"1\" /><path clip-path=\"url(#clip340)\" d=\"M2235.8 159.993 L2243.44 159.993 L2243.44 133.627 L2235.13 135.294 L2235.13 131.035 L2243.39 129.368 L2248.07 129.368 L2248.07 159.993 L2255.71 159.993 L2255.71 163.928 L2235.8 163.928 L2235.8 159.993 Z\" fill=\"#000000\" fill-rule=\"evenodd\" fill-opacity=\"1\" /></svg>\n"
      ]
     },
     "execution_count": 45,
     "metadata": {},
     "output_type": "execute_result"
    }
   ],
   "source": [
    "plot(Displacement,(Load)*1e-3)"
   ]
  },
  {
   "cell_type": "code",
   "execution_count": 46,
   "id": "human-hollywood",
   "metadata": {},
   "outputs": [
    {
     "data": {
      "text/plain": [
       "149391.99416844873"
      ]
     },
     "execution_count": 46,
     "metadata": {},
     "output_type": "execute_result"
    }
   ],
   "source": [
    "maximum(Load)"
   ]
  },
  {
   "cell_type": "code",
   "execution_count": 47,
   "id": "pointed-month",
   "metadata": {},
   "outputs": [],
   "source": [
    "cd(\"../DataLoadDispResultNotchedPlate\")"
   ]
  },
  {
   "cell_type": "code",
   "execution_count": 48,
   "id": "adjustable-production",
   "metadata": {},
   "outputs": [],
   "source": [
    "using DelimitedFiles\n",
    "Disp = writedlm(\"DispDataResult0mmEccentricNotchedBeam_50_1000V.csv\",  Displacement, ',')\n",
    "Force = writedlm(\"LoadDataResult0mmEccentricNotchedBeam_50_1000V.csv\",  Load, ',')"
   ]
  }
 ],
 "metadata": {
  "@webio": {
   "lastCommId": null,
   "lastKernelId": null
  },
  "kernelspec": {
   "display_name": "Julia 1.8.0",
   "language": "julia",
   "name": "julia-1.8"
  },
  "language_info": {
   "file_extension": ".jl",
   "mimetype": "application/julia",
   "name": "julia",
   "version": "1.8.0"
  }
 },
 "nbformat": 4,
 "nbformat_minor": 5
}
